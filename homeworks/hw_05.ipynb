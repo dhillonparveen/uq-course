{
 "cells": [
  {
   "cell_type": "markdown",
   "metadata": {},
   "source": [
    "# Homework 5\n",
    "\n",
    "**Due: 05/07/2020** (Thursday 7th May at 11:59pm).\n",
    "\n",
    "## Instructions\n",
    "\n",
    "+ Develop the code and generate the figures you need to solve the problems using this notebook.\n",
    "+ For the answers that require a mathematical proof or derivation you can either:\n",
    "    - Type the answer using the built-in latex capabilities. In this case, simply export the notebook as a pdf and upload it on gradescope; or\n",
    "    - you can print the notebook (after you are done with all the code), write your answers by hand, scan, turn your response to a single pdf, and upload on gradescope. \n",
    "\n",
    "\n",
    "\n",
    "**Note**: Please match all the pages corresponding to each of the questions when you submit on gradescope. \n",
    "\n",
    "## Student details\n",
    "\n",
    "+ **First Name:**\n",
    "+ **Last Name:**\n",
    "+ **Email:**\n",
    "\n",
    "## Readings\n",
    "\n",
    "Before attempting the homework, it is probably a good idea to review the slides and/or lecture handouts of lectures 19-24 (Inverse problems and Bayesian inference)."
   ]
  },
  {
   "cell_type": "code",
   "execution_count": 1,
   "metadata": {},
   "outputs": [],
   "source": [
    "import numpy as np\n",
    "#from autograd import numpy as anp, elementwise_grad as egrad\n",
    "\n",
    "import theano as th\n",
    "from theano import shared, function, tensor as tt\n",
    "import pymc3 as pm\n",
    "\n",
    "import math\n",
    "import scipy.stats as st\n",
    "import scipy\n",
    "\n",
    "import pandas as pd\n",
    "import io\n",
    "import requests\n",
    "\n",
    "import matplotlib as mpl\n",
    "import matplotlib.pyplot as plt\n",
    "import seaborn as sns\n",
    "sns.set()\n",
    "%matplotlib inline"
   ]
  },
  {
   "cell_type": "markdown",
   "metadata": {},
   "source": [
    "## Problem 1  - Catalysis problem "
   ]
  },
  {
   "cell_type": "markdown",
   "metadata": {},
   "source": [
    "Recall that we used the problem of calibrating reaction rate coefficients in a catalytic reaction as the running example for demonstrating various approaches to solving inverse problems - beginning with the classical approach where this task is posed as the minimization of a misfit function, to the probabilistic approach where the inverse problem is posed as a Bayesian inference task. In this assignment, we will re-visit the catalysis problem (yet again !), this time solving it with ```pyMC```. Working through this assignment should help you get comfortable with probabilistic programming. "
   ]
  },
  {
   "cell_type": "code",
   "execution_count": 2,
   "metadata": {},
   "outputs": [
    {
     "data": {
      "text/html": [
       "<div>\n",
       "<style scoped>\n",
       "    .dataframe tbody tr th:only-of-type {\n",
       "        vertical-align: middle;\n",
       "    }\n",
       "\n",
       "    .dataframe tbody tr th {\n",
       "        vertical-align: top;\n",
       "    }\n",
       "\n",
       "    .dataframe thead th {\n",
       "        text-align: right;\n",
       "    }\n",
       "</style>\n",
       "<table border=\"1\" class=\"dataframe\">\n",
       "  <thead>\n",
       "    <tr style=\"text-align: right;\">\n",
       "      <th></th>\n",
       "      <th>Time</th>\n",
       "      <th>NO3</th>\n",
       "      <th>NO2</th>\n",
       "      <th>N2</th>\n",
       "      <th>NH3</th>\n",
       "      <th>N2O</th>\n",
       "    </tr>\n",
       "  </thead>\n",
       "  <tbody>\n",
       "    <tr>\n",
       "      <th>0</th>\n",
       "      <td>0</td>\n",
       "      <td>500.00</td>\n",
       "      <td>0.00</td>\n",
       "      <td>0.00</td>\n",
       "      <td>0.00</td>\n",
       "      <td>0.00</td>\n",
       "    </tr>\n",
       "    <tr>\n",
       "      <th>1</th>\n",
       "      <td>30</td>\n",
       "      <td>250.95</td>\n",
       "      <td>107.32</td>\n",
       "      <td>18.51</td>\n",
       "      <td>3.33</td>\n",
       "      <td>4.98</td>\n",
       "    </tr>\n",
       "    <tr>\n",
       "      <th>2</th>\n",
       "      <td>60</td>\n",
       "      <td>123.66</td>\n",
       "      <td>132.33</td>\n",
       "      <td>74.85</td>\n",
       "      <td>7.34</td>\n",
       "      <td>20.14</td>\n",
       "    </tr>\n",
       "    <tr>\n",
       "      <th>3</th>\n",
       "      <td>90</td>\n",
       "      <td>84.47</td>\n",
       "      <td>98.81</td>\n",
       "      <td>166.19</td>\n",
       "      <td>13.14</td>\n",
       "      <td>42.10</td>\n",
       "    </tr>\n",
       "    <tr>\n",
       "      <th>4</th>\n",
       "      <td>120</td>\n",
       "      <td>30.24</td>\n",
       "      <td>38.74</td>\n",
       "      <td>249.78</td>\n",
       "      <td>19.54</td>\n",
       "      <td>55.98</td>\n",
       "    </tr>\n",
       "    <tr>\n",
       "      <th>5</th>\n",
       "      <td>150</td>\n",
       "      <td>27.94</td>\n",
       "      <td>10.42</td>\n",
       "      <td>292.32</td>\n",
       "      <td>24.07</td>\n",
       "      <td>60.65</td>\n",
       "    </tr>\n",
       "    <tr>\n",
       "      <th>6</th>\n",
       "      <td>180</td>\n",
       "      <td>13.54</td>\n",
       "      <td>6.11</td>\n",
       "      <td>309.50</td>\n",
       "      <td>27.26</td>\n",
       "      <td>62.54</td>\n",
       "    </tr>\n",
       "  </tbody>\n",
       "</table>\n",
       "</div>"
      ],
      "text/plain": [
       "   Time     NO3     NO2      N2    NH3    N2O\n",
       "0     0  500.00    0.00    0.00   0.00   0.00\n",
       "1    30  250.95  107.32   18.51   3.33   4.98\n",
       "2    60  123.66  132.33   74.85   7.34  20.14\n",
       "3    90   84.47   98.81  166.19  13.14  42.10\n",
       "4   120   30.24   38.74  249.78  19.54  55.98\n",
       "5   150   27.94   10.42  292.32  24.07  60.65\n",
       "6   180   13.54    6.11  309.50  27.26  62.54"
      ]
     },
     "execution_count": 2,
     "metadata": {},
     "output_type": "execute_result"
    }
   ],
   "source": [
    "# load the catalysis data \n",
    "catalysis_url=\"https://raw.githubusercontent.com/PredictiveScienceLab/uq-course/master/lectures/catalysis.csv\"\n",
    "s=requests.get(catalysis_url).content\n",
    "catalysis_data = pd.read_csv(io.StringIO(s.decode('utf-8')))\n",
    "catalysis_data"
   ]
  },
  {
   "cell_type": "code",
   "execution_count": 3,
   "metadata": {},
   "outputs": [
    {
     "data": {
      "image/png": "[encoded data removed]",
      "text/plain": [
       "<Figure size 864x504 with 1 Axes>"
      ]
     },
     "metadata": {
      "needs_background": "light"
     },
     "output_type": "display_data"
    }
   ],
   "source": [
    "tickparams = {'fontsize':15, 'xticks':catalysis_data.Time.values}\n",
    "markerparams = {'marker':'s', 'markersize':10}\n",
    "ax=catalysis_data.plot(style='s', x=0, figsize=(12, 7), xlim=(0, 200),\n",
    "                       **tickparams, \n",
    "                       **markerparams)\n",
    "ax.set_xlabel('Time', fontsize=20)\n",
    "ax.legend(loc='best', fontsize=15)\n",
    "plt.tight_layout()"
   ]
  },
  {
   "cell_type": "markdown",
   "metadata": {},
   "source": [
    "The observed data is the flattened vector of concentrations of each of the reactants and products at $t=20, 60, 90, 120, 150, 180$. We collect the observed data and flatten the data matrix into a vector."
   ]
  },
  {
   "cell_type": "code",
   "execution_count": 19,
   "metadata": {},
   "outputs": [],
   "source": [
    "Y = catalysis_data.values\n",
    "data = Y[1:, 1:].flatten()"
   ]
  },
  {
   "cell_type": "markdown",
   "metadata": {},
   "source": [
    "We also require the model (i.e. solver) for the dynamical system governing the catalytic conversion. "
   ]
  },
  {
   "cell_type": "code",
   "execution_count": 20,
   "metadata": {},
   "outputs": [],
   "source": [
    "def A(x):\n",
    "    \"\"\"\n",
    "    Assemble the reaction coefficient matrix. \n",
    "    \"\"\"\n",
    "    k = tt.exp(x) / 180.\n",
    "    res = tt.zeros((6, 6))\n",
    "    res = tt.set_subtensor(res[0, 0], -k[0])\n",
    "    res = tt.set_subtensor(res[1, 0], k[0])\n",
    "    res = tt.set_subtensor(res[1, 1], -(k[1] + k[3] + k[4]))\n",
    "    res = tt.set_subtensor(res[2, 1],  k[1])\n",
    "    res = tt.set_subtensor(res[2, 2],  -k[2])\n",
    "    res = tt.set_subtensor(res[3, 2],  k[2])\n",
    "    res = tt.set_subtensor(res[4, 1],  k[4])\n",
    "    res = tt.set_subtensor(res[5, 1],  k[3])\n",
    "    return res\n",
    "\n",
    "def g(x, z):\n",
    "    \"\"\"\n",
    "    The right hand side of the dynamical system.\n",
    "    \"\"\"\n",
    "    return tt.dot(A(x), z)\n",
    "\n",
    "def euler(x, zn, dt):\n",
    "    return zn + dt*g(x, zn)\n",
    "\n",
    "def Z(z0, x, T):\n",
    "    \"\"\"\n",
    "    Return the solution of the dynamical system for a given time discretization. \n",
    "    \n",
    "    We solve the ODE by applying a simple first order Euler discretization. \n",
    "    \n",
    "    INPUTS:\n",
    "        1. z0 -> Initial conditions.\n",
    "        2. x  -> Unscaled rate coeff. vector.\n",
    "        3. T -> Time discretization. \n",
    "    \"\"\"\n",
    "    N  = len(T)  # number of time steps \n",
    "    t0 = T[0]\n",
    "    dt = T[1]-T[0]\n",
    "    fn = lambda z : euler(x, z, dt)  # update scheme of discretized ODE\n",
    "    values, _ = th.scan(fn=fn, outputs_info=z0, non_sequences=[], n_steps=N-1)\n",
    "    return values\n",
    "\n",
    "def CatalyticSolver(x):\n",
    "    \"\"\"\n",
    "    Obtain a prediction of the reactant/product concentrations as a function \n",
    "    of the reaction rate coefficients. \n",
    "    \n",
    "    INPUTS:\n",
    "        x (theano.tensor) : 6-dimensional array of reaction rate coefficients. \n",
    "    \n",
    "    RETURNS:\n",
    "        The observation of the concentrations for 5 reactants/products at \n",
    "        6 observation times (30 dimensional vector). \n",
    "        The order of the output matches the order of output in the observed dataset.\n",
    "    \"\"\"\n",
    "    z0 = np.array([500.,   0.,   0.,   0.,   0.,   0.])\n",
    "    z0_s = shared(z0)\n",
    "    T = np.arange(0., 180.01, 0.5)\n",
    "    Tobs = np.array([30.*i for i in range(1, 7)])\n",
    "    tobsidx = [np.where(T[1:] == tobs)[0][0] for tobs in Tobs]\n",
    "    zidx = [0,1,3,4,5]\n",
    "    Zp_all = Z(z0_s, x, T)  # entire simulation result\n",
    "    Zp_pred = Zp_all[tobsidx][:,zidx]\n",
    "    Zp_pred_flat = Zp_pred.flatten()  # flatten the result to match observed data shape\n",
    "    return Zp_pred_flat"
   ]
  },
  {
   "cell_type": "markdown",
   "metadata": {},
   "source": [
    "Notice that we are working with the transformed variable `x` which is converted into the reaction rate vector `k` inside the solver. \n",
    "\n",
    "Suppose we have the following Gaussian prior for the reaction rates:\n",
    "$$\n",
    "p(\\mathbf{x}) = \\mathcal{N}(\\mathbf{x}|\\mathbf{0}, \\gamma^2 \\mathbf{I}),\n",
    "$$\n",
    "and the measurement process is defined by the following likelihood model:\n",
    "$$\n",
    "p(y|\\mathbf{x}, \\sigma^2, \\gamma) = \\mathcal{N}(y|f(\\mathbf{x}), \\sigma^2),\n",
    "$$\n",
    "where, $f(\\cdot)$ denotes the dynamical system model. \n",
    "The likelihood specification encodes the assumption that observations (i.e. concentrations of all substances at all observation times) are independent of each other and individually follow a Gaussian distribution with fixed variance. \n",
    "\n",
    "The likelihood mean $f(\\cdot)$ has already been implemented for you as the `CatalyticSolver` function. "
   ]
  },
  {
   "cell_type": "markdown",
   "metadata": {},
   "source": [
    "### Part A -  Constant $\\gamma$ and $\\sigma$\n",
    "\n",
    "Fix the prior precision parameter $\\gamma$ and the likelihood noise $\\sigma$ as constants and use `PyMC3` to estimate the posterior distribution over the transformed reaction rates vector $x$ and use the posterior distribution to show the predictive distribution of reactact/product concentrations as a function of time.  \n",
    "\n",
    "Here is the workflow you should follow:\n",
    "\n",
    "1. Express the model using suitable distributions for the priors and the likelihood with a `pymc3.model` context.\n",
    "\n",
    "2. Simulate a Markov Chain to generate samples of $x$ (you just need to call `pymc3.sample` with appropriate arguments). \n",
    "\n",
    "3. Perform model diagnostics, i.e., tune the hyperparameters, $\\gamma$ and $\\sigma$, burn early samples of the chain to remove transient phase samples, and thin the MC to remove autocorrelation.\n",
    "\n",
    "4. Plot the posterior predictive distribution of the reactant/product concentrations."
   ]
  },
  {
   "cell_type": "markdown",
   "metadata": {},
   "source": [
    "**Solution:**\n",
    "<br></br><br></br><br></br><br></br><br></br>"
   ]
  },
  {
   "cell_type": "markdown",
   "metadata": {},
   "source": [
    "### Part B -  Exponential prior over $\\sigma^2$ and $\\gamma^2$\n",
    "\n",
    "We will now introduce prior specifications for $\\sigma^2$ and $\\gamma^2$. Let $p(\\sigma^2) = \\mathrm{Exp}(\\sigma^2 | \\alpha_1)$ and $p(\\gamma^2) = \\mathrm{Exp}(\\gamma^2 | \\alpha_2)$, where, $\\mathrm{Exp}$ denotes the exponential distribution. This formulation introduces 2 additional parameters to tune - $\\alpha_1$ and $\\alpha_2$. "
   ]
  },
  {
   "cell_type": "markdown",
   "metadata": {},
   "source": [
    "**Solution:**\n",
    "<br></br><br></br><br></br><br></br><br></br>"
   ]
  },
  {
   "cell_type": "markdown",
   "metadata": {},
   "source": [
    "### Part C - A model with a different noise variance for each observed species with Jeffrey's prior."
   ]
  },
  {
   "cell_type": "markdown",
   "metadata": {},
   "source": [
    "We will now consider the following likelihood:\n",
    "$$\n",
    "p(y_i|\\mathbf{x}) = \\mathcal{N}(y_i|f(\\mathbf{x}), \\sigma_{i}^{2}),\n",
    "$$\n",
    "where $i$ is an index for observed chemical species.  In other words, we construct the likelihood model such that there is a different noise parameter, $\\sigma_i$ associated with the measurements obtained for each different species. \n",
    "Each $\\sigma_{i}^{2}$ is specified with a Jeffreys' prior, i.e., $p(\\sigma_{i}^{2}) \\propto \\frac{1}{\\sigma_{i}^{2}}$."
   ]
  },
  {
   "cell_type": "markdown",
   "metadata": {},
   "source": [
    "**Solution:**\n",
    "<br></br><br></br><br></br><br></br><br></br>"
   ]
  },
  {
   "cell_type": "markdown",
   "metadata": {},
   "source": [
    "### Part D - Model Selection using SMC\n",
    "\n",
    "Use Sequential Monte Carlo (SMC) to determine the model evidence of the 3 different models defined in parts A to C. Which is the best model that you find? "
   ]
  },
  {
   "cell_type": "markdown",
   "metadata": {},
   "source": [
    "**Solution:**\n",
    "<br></br><br></br><br></br><br></br><br></br>"
   ]
  },
  {
   "cell_type": "markdown",
   "metadata": {},
   "source": [
    "## Problem 2  - Bayesian Linear regression\n",
    "\n",
    "Recall that the standard Bayesian Linear regression model admits closed form expressions for the posterior distribution over the weights and the posterior predictive distribution over the observations. Suppose you select a vector of suitable basis functions $\\phi(x) = (\\phi_1(x), \\phi_2(x) \\dots, \\phi_M(x))^T$, the predictive model is the GLM:\n",
    "$$\n",
    "f(x) = \\mathbf{w}^T \\phi(x).\n",
    "$$\n",
    "\n",
    "If weights are equipped with a Gaussian prior $p(\\mathbf{w}) \\sim \\mathcal{N}(\\mathbf{w}|0, \\Sigma_p)$ and the observations are assumed to follow a Gaussian distribution - $\\mathbf{y} \\sim \\mathcal{N}(\\mathbf{y} | \\Phi \\mathbf{w}, \\sigma^2 I)$, the posterior distribution over the weights is given by - $p(\\mathbf{w} | \\mathbf{X}, \\mathbf{y}) = \\mathcal{N}(\\mathbf{w} | \\mathbf{m}, \\mathbf{S})$, where, $\\mathbf{S} = (\\sigma^{-2} \\Phi^T \\Phi + \\Sigma_p )^{-1}$ and $\\mathbf{m} = \\sigma^{-2} \\mathbf{S} \\Phi^T \\mathbf{y}$ and the posterior predictive distribution over the observations are given by $p(y^*|x^*, \\mathbf{X}, \\mathbf{y}) =  \\mathcal{N} ( y^* | \\mathbf{m}^T \\phi(x^*), \\phi(x^*)^T \\mathbf{S} \\phi(x^*) + \\sigma^2)$. "
   ]
  },
  {
   "cell_type": "markdown",
   "metadata": {},
   "source": [
    "### Part A - Compare MCMC to analytical solution\n",
    "\n",
    "Setup a GLM for the motorcycle data (loaded below), with an fixed precision prior on the weights and a constant likelihood noise, and use `PyMC3` to determine the posterior over the weights and the posterior predictive distribution at new test inputs. Compare your MCMC solution for the posterior with the analytical solution."
   ]
  },
  {
   "cell_type": "code",
   "execution_count": 47,
   "metadata": {
    "scrolled": false
   },
   "outputs": [
    {
     "data": {
      "text/plain": [
       "[<matplotlib.lines.Line2D at 0x139d50748>]"
      ]
     },
     "execution_count": 47,
     "metadata": {},
     "output_type": "execute_result"
    },
    {
     "data": {
      "image/png": "[encoded data removed]",
      "text/plain": [
       "<Figure size 432x288 with 1 Axes>"
      ]
     },
     "metadata": {
      "needs_background": "light"
     },
     "output_type": "display_data"
    }
   ],
   "source": [
    "data = np.loadtxt(\"motor.dat\")\n",
    "X = data[:, 0][:, None]\n",
    "Y = data[:, 1]\n",
    "plt.plot(X, Y, '.')"
   ]
  },
  {
   "cell_type": "markdown",
   "metadata": {},
   "source": [
    "**Solution:**\n",
    "<br></br><br></br><br></br><br></br><br></br>"
   ]
  },
  {
   "cell_type": "markdown",
   "metadata": {},
   "source": [
    "### Part B - Hierarchical Priors \n",
    "\n",
    "Specify priors on the model hyperparameters and estimate the full joint posterior over the model weights and model hyperparameters. At a minimum, specify appropriate priors for the  prior precision of the weights vector, and the likelihood noise. Use the estimated posterior to get the posterior predictive distribution over test inputs. "
   ]
  },
  {
   "cell_type": "markdown",
   "metadata": {},
   "source": [
    "**Solution:**\n",
    "<br></br><br></br><br></br><br></br><br></br>"
   ]
  },
  {
   "cell_type": "markdown",
   "metadata": {},
   "source": [
    "### Part C - Heteroscedastic regression\n",
    "\n",
    "So far, throughout this course, you have seen likelihood models that assume that the noise level $\\sigma$ is independent of the input $x$. This is known as *homoscedasticity* - the assumption that errors in a regression model are indepedent of the inputs. Consider the following likelihood model with input dependent noise:\n",
    "$$\n",
    "y \\sim \\mathcal{N} ( y | \\mathbf{w}^T \\phi(x) , \\sigma(x)^2),\n",
    "$$\n",
    "where the likelihood noise depends on the input. \n",
    "Approximate $\\log \\sigma$ as a GLM of your choice - $\\log \\sigma = \\phi_{\\sigma}(x)^T \\mathbf{w_{\\sigma}}$ to model the dependence of the likelihood noise to the input. \n",
    "Develop the `PyMC3` model to express the heteroscedastic model and estimate the joint posterior over all parameters and hyperparameters. \n",
    "The parameters that you need to infer will include the weights of the output GLM $\\mathbf{w}$, the weights of the noise GLM model $\\mathbf{w}_{\\sigma}$, the precision over $\\mathbf{w}$ and the precision over $\\mathbf{w}_{\\sigma}$ and any additional hyperparameters you might have in your model.\n",
    "Use the estimated posterior to show the posterior predictive distribution over test inputs. "
   ]
  },
  {
   "cell_type": "markdown",
   "metadata": {},
   "source": [
    "**Solution:**\n",
    "<br></br><br></br><br></br><br></br><br></br>"
   ]
  },
  {
   "cell_type": "code",
   "execution_count": null,
   "metadata": {},
   "outputs": [],
   "source": []
  }
 ],
 "metadata": {
  "kernelspec": {
   "display_name": "Python 3",
   "language": "python",
   "name": "python3"
  },
  "language_info": {
   "codemirror_mode": {
    "name": "ipython",
    "version": 3
   },
   "file_extension": ".py",
   "mimetype": "text/x-python",
   "name": "python",
   "nbconvert_exporter": "python",
   "pygments_lexer": "ipython3",
   "version": "3.6.8"
  }
 },
 "nbformat": 4,
 "nbformat_minor": 2
}
