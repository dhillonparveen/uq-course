{
 "cells": [
  {
   "cell_type": "markdown",
   "metadata": {},
   "source": [
    "# Homework 1\n",
    "\n",
    "**Due 2/4/2020 on gradescope.**\n",
    "\n",
    "## References\n",
    "\n",
    "+ Lectures 1-5 (inclusive).\n",
    "\n",
    "## Instructions\n",
    "\n",
    "+ Type your name and email in the \"Student details\" section below.\n",
    "+ Develop the code and generate the figures you need to solve the problems using this notebook.\n",
    "+ For the answers that require a mathematical proof or derivation you can either:\n",
    "    \n",
    "    - Type the answer using the built-in latex capabilities. In this case, simply export the notebook as a pdf and upload it on gradescope; or\n",
    "    - You can print the notebook (after you are done with all the code), write your answers by hand, scan, turn your response to a single pdf, and upload on gradescope.\n",
    "\n",
    "+ The total homework points are 100. Please note that the problems are not weighed equally.\n",
    "\n",
    "**Note**: Please match all the pages corresponding to each of the questions when you submit on gradescope. "
   ]
  },
  {
   "cell_type": "code",
   "execution_count": 1,
   "metadata": {},
   "outputs": [],
   "source": [
    "%matplotlib inline\n",
    "import matplotlib.pyplot as plt\n",
    "import seaborn as sns\n",
    "sns.set_context('talk')\n",
    "import numpy as np"
   ]
  },
  {
   "cell_type": "markdown",
   "metadata": {},
   "source": [
    "## Student details\n",
    "\n",
    "+ **First Name: Parveen**\n",
    "+ **Last Name: Dhillon**\n",
    "+ **Email: pdhillon@purdue.edu**"
   ]
  },
  {
   "cell_type": "markdown",
   "metadata": {},
   "source": [
    "## Problem 1\n",
    "\n",
    "This exercise demonstrates that probability theory is actually an extension of logic. Assume that you know that ``A implies B\". That is, your prior information is:\n",
    "$$\n",
    "I = \\{A \\implies B\\}.\n",
    "$$\n",
    "Please answer the following questions in the space provided:\n",
    "\n",
    "A. (4 points) $p(AB|I) = p(A|I)$.<br>\n",
    "**Proof:**\n",
    "$$\n",
    "\\text{Baye's Rule: }p(AB|I)=p(B|A,I)p(A|I)\\\\\n",
    "\\text{where} \\ I = \\{A \\implies B\\} \\ \\implies \\ p(B|A,I)=1\\\\\n",
    "\\text{So,} \\ p(AB|I)=1\\cdot p(A|I) = p(A|I) \\\\\n",
    "\\text{Hence Proved}\n",
    "$$"
   ]
  },
  {
   "cell_type": "markdown",
   "metadata": {},
   "source": [
    "B. If $p(A|I) = 1$, then $p(B|I) = 1$.<br>\n",
    "**Proof:**\n",
    "$$\n",
    "\\text{Based on Sum Rule: } p(B|I) = p(B|A,I)p(A|I) + p(B|\\neg A,I)p(\\neg A|I)\\\\\n",
    "\\text{where} \\ I = \\{A \\implies B\\} \\ \\Rightarrow \\ p(B|A,I)=1 \\ \\text{and} \\ p(\\neg A|I) = 1-p(A|I)=0\\\\\n",
    "\\text{So, } p(B|I) = 1 \\cdot 1 + p(B|\\neg A,I)\\cdot 0\\\\\n",
    "\\Rightarrow p(B|I) = 1\\\\\n",
    "\\text{Hence Proved}\n",
    "$$"
   ]
  },
  {
   "cell_type": "markdown",
   "metadata": {},
   "source": [
    "C. If $p(B|I) = 0$, then $p(A|I) = 0$.<br>\n",
    "**Proof:**\n",
    "$$\n",
    "\\text{Based on Sum Rule: } p(B|I) = p(B|A,I)p(A|I) + p(B|\\neg A,I)p(\\neg A|I)\\\\\n",
    "\\Rightarrow p(B|I) = p(B|A,I)p(A|I) + \\frac{p(B\\neg A,I)}{p(\\neg A|I)}p(\\neg A|I)\\\\\n",
    "\\Rightarrow p(B|I) = p(B|A,I)p(A|I) + p(\\neg A|B,I)p(B|I)\\\\\n",
    "\\text{where, given: } p(B|I)=0 \\ \\text{and, from I: }  p(B|A,I) = 1\\\\\n",
    "\\Rightarrow 0 = 1\\cdot p(A|I) + p(\\neg A|B,I)\\cdot 0\\\\\n",
    "\\Rightarrow p(A|I) = 0\\\\\n",
    "\\text{Hence Proved}\n",
    "$$\n",
    "<br>"
   ]
  },
  {
   "cell_type": "markdown",
   "metadata": {},
   "source": [
    "D. B and C show that probability theory is consistent with Aristotelian logic. Now, you will discover how it extends it. Show that if B is true, then A becomes more plausible, i.e.\n",
    "$$\n",
    "p(A|BI) \\geq p(A|I).\n",
    "$$\n",
    "**Proof:**\n",
    "$$\n",
    "\\text{Bayes Rule: } p(A|B,I) = \\frac{p(AB|I)}{p(B|I)} \\ \\Rightarrow \\ =\\frac{p(B|A,I)p(A|I)}{p(B|I)} \\\\\n",
    "\\text{where} \\ I = \\{A \\implies B\\} \\ \\Rightarrow \\ p(B|A,I)=1\\\\\n",
    "\\text{So, } p(A|B,I) = \\frac{p(A|I)}{p(B|I)} \\\\\n",
    "\\text{And, as } p(B|I) \\leq 1\\\\\n",
    "\\text{So, } p(A|B,I) = \\frac{p(A|I)}{p(B|I)} \\geq p(A|I)\\\\\n",
    "\\text{Hence Proved}\n",
    "$$"
   ]
  },
  {
   "cell_type": "markdown",
   "metadata": {},
   "source": [
    "E. Give at least two examples of D that apply to various scientific fields. To get you started, here are two examples:\n",
    "\n",
    "- $A$: It is raining. $B$: There are clouds in the sky. Clearly,  $A \\implies B$. $D$ tells us that if there are clouds in the sky, raining becomes more plausible.\n",
    "    \n",
    "- $A$: General relativity. $B$: Light is deflected in the presence of massive bodies. Here  $A \\implies B$. Observing that $B$ is true makes $A$ more plausible.\n",
    "\n",
    "**Answer:**\n",
    "\n",
    "- $A$: A coronal mass ejection (CME) i.e. a significant release of plasma and accompanying magnetic field from the solar corona <br><br>\n",
    "  $B$: Earth magnetic field is disrupted\n",
    "  \n",
    "- $A$: Short circuit in electric element<br><br>\n",
    "  $B$: Smoke coming out of electric element"
   ]
  },
  {
   "cell_type": "markdown",
   "metadata": {},
   "source": [
    "F. Show that if $A$ is false, then $B$ becomes less plausible, i.e.: \n",
    "$$\n",
    "p(B|\\neg AI) \\leq p(B|I).\n",
    "$$\n",
    "**Proof:**\n",
    "$$\n",
    "\\text{From Bayes and Sum Rule: }\\\\\n",
    "p(B|\\neg A,I)=\\frac{p(\\neg AB|I)}{p(\\neg A|I)} = \\frac{p(\\neg A|B,I)p(B|I)}{p(\\neg A|I)} = \\frac{1-p(A|B,I)}{1-p(A|I)}p(B|I) \\\\\n",
    "\\text{From above Part D.: } p(A|B,I) \\geq p(A|I) \\Rightarrow 1+p(A|B,I) \\geq 1+p(A|I) \\\\\n",
    "\\Rightarrow 1-p(A|I) \\geq 1-p(A|B,I) \\Rightarrow \\frac{1-p(A|B,I)}{1-p(A|I)} \\leq 1\\\\\n",
    "\\text{So, } p(B|\\neg A,I) = \\frac{1-p(A|B,I)}{1-p(A|I)}p(B|I) \\leq p(B|I) \\\\\n",
    "\\text{Hence Shown}\n",
    "$$"
   ]
  },
  {
   "cell_type": "markdown",
   "metadata": {},
   "source": [
    "G. Can you think of an example of scientific reasoning that involves F? For example:\n",
    "$A$: It is raining. $B$: There are clouds in the sky. F tells us that if it is not raining, then it is less plausible that there are clouds in the sky.<br>\n",
    "**Answer:**\n",
    "- $A$: The car engine is running <br><br>\n",
    "  $B$: The car hood is hot"
   ]
  },
  {
   "cell_type": "markdown",
   "metadata": {},
   "source": [
    "H. Do D and F contradict Karl Popper's [principle of falsification](https://en.wikipedia.org/wiki/Falsifiability), \"A theory in the empirical sciences can never be proven, but it can be falsified, meaning that it can and should be scrutinized by decisive experiments.\"<br>\n",
    "**Answer:**\n",
    "<br>F seems to be not contradicting the Karl Popper's principle of falsification, but D does seem to be contradicting."
   ]
  },
  {
   "cell_type": "markdown",
   "metadata": {},
   "source": [
    "## Problem 2\n",
    "\n",
    "Disclaimer: This example is a modified version of the one found in a 2013 lecture on Bayesian Scientific Computing taught by Prof. Nicholas Zabaras.\n",
    "I am not sure where the original problem is coming from.\n",
    "\n",
    "We are tasked with assessing the usefulness of a tuberculosis test.\n",
    "The prior information I is:\n",
    "\n",
    "> The percentage of the population infected by tuberculosis is 0.4\\%.\n",
    "We have run several experiments and determined that:\n",
    "+ If a tested patient has the disease, then 80\\% of the time the test comes out positive.\n",
    "+ If a tested patient does not have the disease, then 90\\% of the time the test comes out negative.\n",
    "\n",
    "To facilitate your analysis, consider the following logical sentences concerning a patient:\n",
    "\n",
    "> A: The patient is tested and the test is positive.\n",
    "\n",
    "> B: The patient has tuberculosis.\n",
    "\n",
    "A. Find the probability that the patient has tuberculosis (before looking at the result of the test), i.e., $p(B|I)$. This is known as the base rate or the prior probability.<br>\n",
    "**Answer:**\n",
    "<br> Based on prior information (I), as the percentage of the population infected by tuberculosis is 0.4\\%. So,\n",
    "$$\n",
    "p(B|I)=0.004\n",
    "$$"
   ]
  },
  {
   "cell_type": "markdown",
   "metadata": {},
   "source": [
    "B. Find the probability that the test is positive given that the patient has tuberculosis, i.e., $p(A|B,I)$.<br>\n",
    "**Answer:**\n",
    "<br>Based on prior information (I), if a tested patient has the disease, then 80\\% of the time the test comes out positive. So,\n",
    "$$\n",
    "p(A|B,I) = 0.8\n",
    "$$"
   ]
  },
  {
   "cell_type": "markdown",
   "metadata": {},
   "source": [
    "C. Find the probability that the test is positive given that the patient does not have tuberculosis, i.e., $p(A|\\neg B, I)$.<br>\n",
    "**Answer:**\n",
    "<br>Based on prior information (I), a tested patient does not have the disease, then 90\\% of the time the test comes out negative. So,\n",
    "$$\n",
    "p(\\neg A|\\neg B,I) = 0.9 \\ \\text{(Given information)}\\\\\n",
    "p(A|\\neg B, I) = 1 - p(\\neg A|\\neg B, I) = 1 - 0.9 = 0.1\n",
    "$$"
   ]
  },
  {
   "cell_type": "markdown",
   "metadata": {},
   "source": [
    "D. Find the probability that a patient that tested positive has tuberculosis, i.e., $p(B|A,I)$.<br>\n",
    "**Answer:**\n",
    "$$\n",
    "\\text{From Bayes Rule: } p(B|A,I) = \\frac{p(AB|I)}{p(A|I)} = \\frac{p(A|B,I)p(B|I)}{p(A|I)} \\\\\n",
    "\\text{From Sum Rule: } p(A|I) = p(A|B,I)p(B|I) + p(A|\\neg B,I)p(\\neg B|I) = 0.1028\\\\\n",
    "\\text{So, } p(B|A,I) = \\frac{p(A|B,I)p(B|I)}{p(A|B,I)p(B|I) + p(A|\\neg B,I)p(\\neg B|I)} = \\frac{0.8 \\cdot 0.004}{0.8 \\cdot 0.004 + 0.1 \\cdot (1-0.004)} \\\\\n",
    "p(B|A,I) = 0.0311284046692607\n",
    "$$"
   ]
  },
  {
   "cell_type": "markdown",
   "metadata": {},
   "source": [
    "E. Find the probability that a patient that tested negative has tuberculosis, i.e., $p(B|\\neg A, I)$. Does the test change our prior state of knowledge about about the patient? Is the test useful?<br>\n",
    "**Answer:**\n",
    "$$\n",
    "p(B|\\neg A, I) = \\frac{p(\\neg A B|I)}{p(\\neg A|I)} = \\frac{p(\\neg A|B,I)p(B|I)}{p(\\neg A|I)} \\\\\n",
    "p(B|\\neg A, I) = \\frac{(1 - p(A|B,I))p(B|I)}{1 - p(A|I)} = \\frac{(1-0.8)0.004}{1-0.1028} = 0.0008916629514043692\n",
    "$$\n",
    "* The prior state of knowledge tells that the probability of a person infected with tuberculosis without any test is 0.004. From the above calculation, after a negative test the probability that the patient has tuberculosis is $\\approx$0.0009. So, the test change our prior state of knowledge about the patient, i.e. after a negative test the probability that the person has tuberculosis decrease from 0.004 to $\\approx$0.0009. \n",
    "* With the test outcome as negative, the chances that the person has tuberculosis decrease from 4 in 1000 to 0.9 in 1000, so it seems to be useful. But then again, it depends on the motivation of the test.    "
   ]
  },
  {
   "cell_type": "markdown",
   "metadata": {},
   "source": [
    "F. What would a good test look like? Find values for \n",
    "$$\n",
    "p(A|B,I)= p(\\text{test is positive} |\\text{has tuberculosis},I),\n",
    "$$\n",
    "and\n",
    "$$\n",
    "p(A| \\neg B, I) = p(\\text{test is positive}|\\text{does not have tuberculosis}, I),\n",
    "$$\n",
    "so that\n",
    "$$\n",
    "p(B|A, I) = p(\\text{has tuberculosis}|\\text{test is positive}, I) = 0.99.\n",
    "$$\n",
    "There are more than one solutions. How would you pick a good one? Thinking in this way can help you set goals if you work in R\\&D. If you have time, try to figure out whether or not there exists such an accurate test for tuberculosis<br>\n",
    "**Answer:**\n",
    "<br> The expression as derived in part D. above,\n",
    "$$\n",
    "p(B|A,I) = \\frac{p(A|B,I)p(B|I)}{p(A|B,I)p(B|I) + p(A|\\neg B,I)p(\\neg B|I)} \\\\\n",
    "\\text{where, target } p(B|A,I)=0.99 \\ \\text{and, } p(B|I) = 0.004 \\\\ \n",
    "\\text{Rearranging, } \\frac{p(A|\\neg B,I)(1-p(B|I))}{p(A|B,I)p(B|I)} \\\\= \\frac{1}{p(B|A,I)}-1 \\Rightarrow \\frac{p(A|\\neg B,I)}{p(A|B,I)} = (\\frac{1}{p(B|A,I)}-1)\\cdot(\\frac{p(B|I)}{1-p(B|I)}) \\\\\n",
    "\\frac{p(A|\\neg B,I)}{p(A|B,I)} = \\frac{1}{24651}\n",
    "$$\n",
    "From the above relation, we can see that there is a tradeoff between a test being positive for person with tuberculosis and for a test being negative for person with not tuberculosis. Picking a good test will require further knowledge on cost and effort associated with increasing the accuracy of test. With an assumption that increasing the test accuracy to being positive for a person with tuberculosis can be reached to 99% within reasonable cost and effort. One possible set of test for being 99% accurate in having tuberculosis for being positive test is,\n",
    "$$\n",
    "p(A|B,I)=0.99, \\ p(A| \\neg B, I)=\\frac{0.99}{24651}\\approx0.00004\n",
    "$$"
   ]
  },
  {
   "cell_type": "markdown",
   "metadata": {},
   "source": [
    "## Problem 3\n",
    "Let $A$ and $B$ be independent conditional on $I$. Prove that: \n",
    "$$\n",
    "A \\perp B | I \\iff p(AB|I) = p(A|I)p(B|I).\n",
    "$$\n",
    "Hint: Use the fact that $A \\perp B|I$ means that $p(A|B, I) = p(A|I)$ and $p(B|A, I) = p(B|I)$.<br>\n",
    "**Answer:**\n",
    "$$\n",
    "\\text{From Bayes Rule: } p(AB|I) = p(AB|I) = p(A|I)p(B|I) \\\\\n",
    "\\text{As from } A \\perp B|I \\ \\text{means that } p(A|B, I) = p(A|I) \\\\\n",
    "p(AB|I) = p(A|B,I)p(B|I) = p(A|I)p(B|I) \\\\\n",
    "\\text{Hence, } A \\perp B|I \\implies p(AB|I) = p(A|I)p(B|I) \n",
    "$$\n",
    "And the other way:\n",
    "$$\n",
    "p(AB|I) = p(A|I)p(B|I) \\Rightarrow p(A|B,I)p(B|I) = p(A|I)p(B|I) \\\\\n",
    "\\Rightarrow p(A|B,I) = p(A|I) \\\\\n",
    "\\text{Hence, } p(AB|I) = p(A|I)p(B|I) \\implies A \\perp B|I   \n",
    "$$"
   ]
  },
  {
   "cell_type": "markdown",
   "metadata": {},
   "source": [
    "## Problem 4\n",
    "Let $X$ be a continuous random variable and $F(x) = p(X \\leq x)$ be it's cumulative distribution function. Using only the basic rules of probability, prove that:\n",
    "\n",
    "A. The CDF starts at 0 and goes up to 1: \n",
    "$$\n",
    "F(- \\infty) = 0 \\ \\text{ and } \\ F(\\infty) = 1.\n",
    "$$\n",
    "**Proof:**\n",
    "$$\n",
    "F_X(x) := \\mathbb{P}(X\\le x) = \\mathbb{P}\\left(\\left\\{\\omega: X(\\omega) \\le x\\right\\}\\right) \\\\\n",
    "F_X(- \\infty) := \\mathbb{P}(X\\le -\\infty) = \\mathbb{P}\\left(\\left\\{\\omega: X(\\omega) \\le -\\infty\\right\\}\\right) \\\\\n",
    "$$ \n",
    "which is possibility of having an event $\\omega$ in event space $\\Omega$ which result in $X$ lower than $-\\infty$.\n",
    "As $X<-\\infty$ is outside the possible value it can take i.e. there in no event $\\omega$ exist which result in $X(\\omega)<-\\infty$, so the probability is 0.\n",
    "$$\n",
    "\\text{So, } F(- \\infty) = 0 \\\\\n",
    "\\text{whereas; for, } F_X(\\infty) := \\mathbb{P}(X\\le \\infty) = \\mathbb{P}\\left(\\left\\{\\omega: X(\\omega) \\le \\infty\\right\\}\\right)\\\\\n",
    "$$\n",
    "any event $\\omega$ in event space $\\Omega$ will result in some $X$ lower than $\\infty$ i.e. some feasible/posisble value.\n",
    "$$\n",
    "\\text{So, } F(\\infty) = 1\n",
    "$$"
   ]
  },
  {
   "cell_type": "markdown",
   "metadata": {},
   "source": [
    "B. $F(x)$ is a monotonically increasing function of $x$, i.e., \n",
    "$$\n",
    "x_1 \\leq x_2 \\implies F(x_1) \\leq F(x_2).\n",
    "$$\n",
    "**Proof:**\n",
    "$$\n",
    "F_X(x_1) := \\mathbb{P}(X\\le x_1) = \\mathbb{P}\\left(\\left\\{\\omega_1: X(\\omega_1) \\le x_1\\right\\}\\right) \\\\\n",
    "F_X(x_2) := \\mathbb{P}(X\\le x_2) = \\mathbb{P}\\left(\\left\\{\\omega_2: X(\\omega_2) \\le x_2\\right\\}\\right) \\\\\n",
    "\\text{As, } x_1 \\leq x_2\\\\\n",
    "\\text{So, } \\left\\{\\omega_1: X(\\omega_1) \\le x_1\\right\\} \\subseteq \\left\\{\\omega_2: X(\\omega_2) \\le x_2\\right\\}\\\\\n",
    "\\implies F(x_1) \\leq F(x_2)\n",
    "$$"
   ]
  },
  {
   "cell_type": "markdown",
   "metadata": {},
   "source": [
    "C. The probability of $X$ being in the interval $[x_1, x_2]$ is:\n",
    "$$\n",
    "p(x_1 \\le X \\le x_2|I) = F(x_2) - F(x_1).\n",
    "$$\n",
    "**Proof:**\n",
    "$$\n",
    "F_X(x_1) := \\mathbb{P}(X\\le x_1) = \\mathbb{P}\\left(\\left\\{\\omega_1: X(\\omega_1) \\le x_1\\right\\}\\right) \\\\\n",
    "F_X(x_2) := \\mathbb{P}(X\\le x_2) = \\mathbb{P}\\left(\\left\\{\\omega_2: X(\\omega_2) \\le x_2\\right\\}\\right) \\\\\n",
    "\\text{So, } p(x_1 \\le X \\le x_2) = \\mathbb{P}\\left(\\left\\{\\omega: x_1 \\leq X(\\omega) \\le x_2\\right\\}\\right) \\\\ = \\mathbb{P}\\left(\\left\\{\\omega_2: X(\\omega_2) \\le x_2\\right\\}-\\left\\{\\omega_1: X(\\omega_1) \\le x_1\\right\\}\\right) \\\\\n",
    "\\Rightarrow \\mathbb{P}\\left(\\left\\{\\omega_2: X(\\omega_2) \\le x_2\\right\\}\\right) -\\mathbb{P}\\left(\\left\\{\\omega_1: X(\\omega_1) \\le x_1\\right\\}\\right) = F(x_2) - F(x_1)\n",
    "$$"
   ]
  },
  {
   "cell_type": "markdown",
   "metadata": {},
   "source": [
    "## Problem 5\n",
    "Let $X$ be a random variable. Prove that:\n",
    "$$\n",
    "\\mathbb{V}[X] = \\mathbb{E}[X^2] - \\left(\\mathbb{E}[X]\\right)^2.\n",
    "$$\n",
    "**Proof:**\n",
    "$$\n",
    "\\mathbb{V}[X] = \\mathbb{E}[(X-\\mathbb{E}[X])^2] \\\\\n",
    "\\Rightarrow \\mathbb{E}[X^2+(\\mathbb{E}[X])^2-2\\cdot X\\mathbb{E}[X]] \\\\\n",
    "\\text{Now, Using the rule of expectation,} \\\\\n",
    "\\Rightarrow \\mathbb{E}[X^2]+\\mathbb{E}[(\\mathbb{E}[X])^2]-\\mathbb{E}[2\\cdot X\\mathbb{E}[X]] \\\\\n",
    "\\Rightarrow \\mathbb{E}[X^2]+(\\mathbb{E}[X])^2-(2\\cdot \\mathbb{E}[X])\\cdot \\mathbb{E}[X]) \\\\\n",
    "\\Rightarrow \\mathbb{E}[X^2]+(\\mathbb{E}[X])^2-2\\cdot (\\mathbb{E}[X])^2 \\\\\n",
    "\\text{Hence, } \\mathbb{V}[X] = \\mathbb{E}[X^2]-(\\mathbb{E}[X])^2\n",
    "$$"
   ]
  },
  {
   "cell_type": "markdown",
   "metadata": {},
   "source": [
    "## Problem 6\n",
    "\n",
    "Hint: Before attempting this example, make sure you understand the Lecture 5 examples.\n",
    "You basically have to repeat the same procedure.\n",
    "\n",
    "The [San Andreas fault](https://en.wikipedia.org/wiki/San_Andreas_Fault) extends through California forming the boundary between the Pacific and the North American tectonic plates.\n",
    "It has caused some of the major earthquakes on Earth.\n",
    "We are going to focus on Southern California and we would like to assess the probability of a major earthquake, defined as an earthquake of magnitude 6.5 or greater, during the next ten years."
   ]
  },
  {
   "cell_type": "markdown",
   "metadata": {},
   "source": [
    "A. The first thing we are going to do is go over a [database of past earthquakes](https://scedc.caltech.edu/significant/chron-index.html) that have occured in Southern California and collect the relevant data. We are going to start at 1900 because data before that time may are unreliable.\n",
    "Go over each decade and count the occurence of a major earthquake (i.e., count the number of organge and red colors in each decade). We have done this for you."
   ]
  },
  {
   "cell_type": "code",
   "execution_count": 2,
   "metadata": {},
   "outputs": [
    {
     "data": {
      "image/png": "[encoded data removed]",
      "text/plain": [
       "<Figure size 432x288 with 1 Axes>"
      ]
     },
     "metadata": {
      "needs_background": "light"
     },
     "output_type": "display_data"
    }
   ],
   "source": [
    "eq_data = np.array([\n",
    "    0, # 1900-1909\n",
    "    1, # 1910-1919\n",
    "    2, # 1920-1929\n",
    "    0, # 1930-1939\n",
    "    3, # 1940-1949\n",
    "    2, # 1950-1959\n",
    "    1, # 1960-1969\n",
    "    2, # 1970-1979\n",
    "    1, # 1980-1989\n",
    "    4, # 1990-1999\n",
    "    0, # 2000-2009\n",
    "    2 # 2010-2019 \n",
    "])\n",
    "fig, ax = plt.subplots()\n",
    "ax.bar(np.linspace(1900, 2019, eq_data.shape[0]), eq_data, width=10)\n",
    "ax.set_xlabel('Decade')\n",
    "ax.set_ylabel('# of major earthquakes in Southern CA');"
   ]
  },
  {
   "cell_type": "markdown",
   "metadata": {},
   "source": [
    "B. The right way to model the number of earthquakes $X_n$ in a decade $n$ is using a Poisson distribution with unknown rate parameter $\\lambda$, i.e.,\n",
    "$$\n",
    "X_n | \\lambda \\sim \\operatorname{Poisson}(\\lambda).\n",
    "$$\n",
    "Here we have $N = 12$ observations, say $x_{1:N} = (x_1,\\dots,x_N)$ (stored in ``eq_data`` above).\n",
    "Find the *joint probability* (otherwise known as the likelihood) $p(x_{1:N}|\\lambda)$ of these random variables.<br>\n",
    "**Answer:**\n",
    "$$\n",
    "\\text{As, } X_n | \\lambda \\sim \\operatorname{Poisson}(\\lambda) \\ \\Rightarrow p(x_{k})=\\frac{\\lambda^{x_{k}}e^{-\\lambda}}{x_{k}!} \\\\\n",
    "\\text{Assuming $x_{1:N} = (x_1,\\dots,x_N)$ are independent event outcomes}\\\\\n",
    "p(x_{1:N}|\\lambda) = \\prod_{n=1}^{N}p(x_n|\\lambda) = \\prod_{n=1}^{N}\\frac{\\lambda^{x_{n}}e^{-\\lambda}}{x_{n}!} \\\\\n",
    "p(x_{1:N}|\\lambda) = \\frac{\\lambda^{\\sum_{i=1}^{N}x_{i}} e^{-N\\lambda}}{\\prod_{i=1}^{N}x_i!} \\ \\text{(likelihood of random variables)}\n",
    "$$"
   ]
  },
  {
   "cell_type": "markdown",
   "metadata": {},
   "source": [
    "C. The rate parameter $\\lambda$ (number of major earthquakes in per ten years) is positive. What prior distribution should we assign to it.\n",
    "A suitable choice here is to pick a [Gamma](https://en.wikipedia.org/wiki/Gamma_distribution), see also [the scipy.stats page for the Gamma](https://docs.scipy.org/doc/scipy/reference/generated/scipy.stats.gamma.html).\n",
    "We write:\n",
    "$$\n",
    "\\lambda \\sim \\operatorname{Gamma}(\\alpha, \\beta),\n",
    "$$\n",
    "where $\\alpha$ and $\\beta$ are positive *hyper-parameters* that we have to set to represent our prior state of knowledge.\n",
    "The PDF is:\n",
    "$$\n",
    "p(\\lambda) = \\frac{\\beta^\\alpha \\lambda^{\\alpha-1}e^{-\\beta \\lambda}}{\\Gamma(\\alpha)},\n",
    "$$\n",
    "where we are not conditioning on $\\alpha$ and $\\beta$ because they should be fixed numbers.\n",
    "Use the code below to pick some some reasonable values for $\\alpha$ and $\\beta$."
   ]
  },
  {
   "cell_type": "code",
   "execution_count": 3,
   "metadata": {},
   "outputs": [
    {
     "data": {
      "image/png": "[encoded data removed]",
      "text/plain": [
       "<Figure size 432x288 with 1 Axes>"
      ]
     },
     "metadata": {
      "needs_background": "light"
     },
     "output_type": "display_data"
    }
   ],
   "source": [
    "import scipy.stats as st\n",
    "alpha = 6 # Pick them here\n",
    "beta = 3   # Pick them here\n",
    "lambda_prior = st.gamma(alpha, scale=1.0 / beta) # Make sure you understand why scale = 1 / beta\n",
    "lambdas = np.linspace(0, lambda_prior.ppf(0.99), 100)\n",
    "fig, ax = plt.subplots()\n",
    "ax.plot(lambdas, lambda_prior.pdf(lambdas))\n",
    "ax.set_xlabel('$\\lambda$ (# or major earthquakes per decade)')\n",
    "ax.set_ylabel('$p(\\lambda)$');"
   ]
  },
  {
   "cell_type": "markdown",
   "metadata": {},
   "source": [
    "D. Use the package ``graphviz`` to draw a graphical model representing the situation.\n",
    "Make sure you use the plate notation.\n",
    "Below, we have introduced all the nodes you are going to need, but some nodes should be \"observed\" (observed nodes are filled), a lot of edges are missing, and you need to use the plate notation (see Lecture 5)."
   ]
  },
  {
   "cell_type": "code",
   "execution_count": 4,
   "metadata": {},
   "outputs": [
    {
     "data": {
      "image/svg+xml": [
       "<?xml version=\"1.0\" encoding=\"UTF-8\" standalone=\"no\"?>\r\n",
       "<!DOCTYPE svg PUBLIC \"-//W3C//DTD SVG 1.1//EN\"\r\n",
       " \"http://www.w3.org/Graphics/SVG/1.1/DTD/svg11.dtd\">\r\n",
       "<!-- Generated by graphviz version 2.38.0 (20140413.2041)\r\n",
       " -->\r\n",
       "<!-- Title: hw01_p6_1 Pages: 1 -->\r\n",
       "<svg width=\"134pt\" height=\"227pt\"\r\n",
       " viewBox=\"0.00 0.00 134.00 227.00\" xmlns=\"http://www.w3.org/2000/svg\" xmlns:xlink=\"http://www.w3.org/1999/xlink\">\r\n",
       "<g id=\"graph0\" class=\"graph\" transform=\"scale(1 1) rotate(0) translate(4 223)\">\r\n",
       "<title>hw01_p6_1</title>\r\n",
       "<polygon fill=\"white\" stroke=\"none\" points=\"-4,4 -4,-223 130,-223 130,4 -4,4\"/>\r\n",
       "<g id=\"clust1\" class=\"cluster\"><title>cluster_0</title>\r\n",
       "<polygon fill=\"none\" stroke=\"black\" points=\"28,-8 28,-83 98,-83 98,-8 28,-8\"/>\r\n",
       "<text text-anchor=\"middle\" x=\"63\" y=\"-15.8\" font-family=\"Times New Roman,serif\" font-size=\"14.00\">n=1,...,N</text>\r\n",
       "</g>\r\n",
       "<!-- alpha -->\r\n",
       "<g id=\"node1\" class=\"node\"><title>alpha</title>\r\n",
       "<ellipse fill=\"lightgrey\" stroke=\"black\" cx=\"27\" cy=\"-201\" rx=\"27\" ry=\"18\"/>\r\n",
       "<text text-anchor=\"start\" x=\"23\" y=\"-197.3\" font-family=\"Times New Roman,serif\" font-size=\"14.00\">α</text>\r\n",
       "</g>\r\n",
       "<!-- lambda -->\r\n",
       "<g id=\"node3\" class=\"node\"><title>lambda</title>\r\n",
       "<ellipse fill=\"none\" stroke=\"black\" cx=\"63\" cy=\"-129\" rx=\"27\" ry=\"18\"/>\r\n",
       "<text text-anchor=\"start\" x=\"59.5\" y=\"-125.3\" font-family=\"Times New Roman,serif\" font-size=\"14.00\">λ</text>\r\n",
       "</g>\r\n",
       "<!-- alpha&#45;&gt;lambda -->\r\n",
       "<g id=\"edge1\" class=\"edge\"><title>alpha&#45;&gt;lambda</title>\r\n",
       "<path fill=\"none\" stroke=\"black\" d=\"M35.3496,-183.765C39.7115,-175.283 45.1469,-164.714 50.0413,-155.197\"/>\r\n",
       "<polygon fill=\"black\" stroke=\"black\" points=\"53.2346,-156.641 54.6957,-146.147 47.0096,-153.439 53.2346,-156.641\"/>\r\n",
       "</g>\r\n",
       "<!-- beta -->\r\n",
       "<g id=\"node2\" class=\"node\"><title>beta</title>\r\n",
       "<ellipse fill=\"lightgrey\" stroke=\"black\" cx=\"99\" cy=\"-201\" rx=\"27\" ry=\"18\"/>\r\n",
       "<text text-anchor=\"start\" x=\"95\" y=\"-197.3\" font-family=\"Times New Roman,serif\" font-size=\"14.00\">β</text>\r\n",
       "</g>\r\n",
       "<!-- beta&#45;&gt;lambda -->\r\n",
       "<g id=\"edge2\" class=\"edge\"><title>beta&#45;&gt;lambda</title>\r\n",
       "<path fill=\"none\" stroke=\"black\" d=\"M90.6504,-183.765C86.2885,-175.283 80.8531,-164.714 75.9587,-155.197\"/>\r\n",
       "<polygon fill=\"black\" stroke=\"black\" points=\"78.9904,-153.439 71.3043,-146.147 72.7654,-156.641 78.9904,-153.439\"/>\r\n",
       "</g>\r\n",
       "<!-- Xn -->\r\n",
       "<g id=\"node4\" class=\"node\"><title>Xn</title>\r\n",
       "<ellipse fill=\"lightgrey\" stroke=\"black\" cx=\"63\" cy=\"-57\" rx=\"27\" ry=\"18\"/>\r\n",
       "<text text-anchor=\"start\" x=\"55\" y=\"-54.3\" font-family=\"Times New Roman,serif\" font-size=\"14.00\">X</text>\r\n",
       "<text text-anchor=\"start\" x=\"65\" y=\"-54.3\" font-family=\"Times New Roman,serif\" baseline-shift=\"sub\" font-size=\"14.00\">n</text>\r\n",
       "</g>\r\n",
       "<!-- lambda&#45;&gt;Xn -->\r\n",
       "<g id=\"edge3\" class=\"edge\"><title>lambda&#45;&gt;Xn</title>\r\n",
       "<path fill=\"none\" stroke=\"black\" d=\"M63,-110.697C63,-102.983 63,-93.7125 63,-85.1124\"/>\r\n",
       "<polygon fill=\"black\" stroke=\"black\" points=\"66.5001,-85.1043 63,-75.1043 59.5001,-85.1044 66.5001,-85.1043\"/>\r\n",
       "</g>\r\n",
       "</g>\r\n",
       "</svg>\r\n"
      ],
      "text/plain": [
       "<graphviz.dot.Digraph at 0x1f4a6439a90>"
      ]
     },
     "execution_count": 4,
     "metadata": {},
     "output_type": "execute_result"
    }
   ],
   "source": [
    "from graphviz import Digraph\n",
    "import os\n",
    "gc = Digraph('hw01_p6_1')\n",
    "gc.node('alpha', label='<&alpha;>',style='filled')\n",
    "gc.node('beta', label='<&beta;>', style='filled')\n",
    "gc.node('lambda', label='<&lambda;>')\n",
    "# gc.node('Xn', label='<X<sub>n</sub>>')\n",
    "with gc.subgraph(name='cluster_0') as sg:\n",
    "    sg.node('Xn', label='<X<sub>n</sub>>', style='filled')\n",
    "    sg.attr(label='n=1,...,N')\n",
    "    sg.attr(labelloc='b')\n",
    "gc.edge('alpha', 'lambda')\n",
    "gc.edge('beta', 'lambda')\n",
    "gc.edge('lambda', 'Xn')\n",
    "gc"
   ]
  },
  {
   "cell_type": "markdown",
   "metadata": {},
   "source": [
    "E. Show that the posterior of $\\lambda$ conditioned on $x_{1:N}$ is also a Gamma, but with updated hyperparameters.\n",
    "Hint: When you write down the posterior of $\\lambda$ you can drop any multiplicative term that does not depend on it as it will be absorbed in the normalization constnat. This will simplify the notation a little bit.\n",
    "<br>\n",
    "**Answer:**\n",
    "$$\n",
    "\\text{Posterior } \\lambda \\text{:  } p(\\lambda|x_{1:N}) = \\frac{p(x_{1:N},\\lambda)}{p(x_{1:N})} \\\\\\propto p(x_{1:N}, \\lambda) = p(x_{1:N}|\\lambda)p(\\lambda) \\text{    (likelihood x prior)} \\\\\n",
    "\\text{From above parts}\\\\\n",
    "\\Rightarrow p(\\lambda|x_{1:N})\\propto \\frac{\\lambda^{\\sum_{i=1}^{N}x_{i}} e^{-N\\lambda}}{\\prod_{i=1}^{N}x_i!} \\cdot \\frac{\\beta^\\alpha \\lambda^{\\alpha-1}e^{-\\beta \\lambda}}{\\Gamma(\\alpha)}\\propto \\lambda^{\\alpha+\\sum_{i=1}^{N}x_{i}-1} e^{-(N+\\beta)\\lambda} \\\\\n",
    "\\text{which is essentially a Gamma with updated hyperparameters as :} \\alpha' = \\alpha+\\sum_{i=1}^{N}x_{i} \\text{ and, } \\beta'=N+\\beta\n",
    "$$"
   ]
  },
  {
   "cell_type": "markdown",
   "metadata": {},
   "source": [
    "F. Prior-likelihood pairs that result in a posterior with the same form as the prior as known as conjugate distributions. Conjugate distributions are your only hope for analytical Bayesian inference.\n",
    "As a sanity check, look at the wikipedia page for [conjugate priors](https://en.wikipedia.org/wiki/Conjugate_prior), locate the Poisson-Gamma pair and verify your answer above. <br>\n",
    "**Answer:** <br>\n",
    "* Verified!"
   ]
  },
  {
   "cell_type": "markdown",
   "metadata": {},
   "source": [
    "G. Plot the prior and the posterior of $\\lambda$ on the same plot."
   ]
  },
  {
   "cell_type": "code",
   "execution_count": 5,
   "metadata": {},
   "outputs": [
    {
     "data": {
      "text/plain": [
       "<matplotlib.legend.Legend at 0x1f4a64dc4a8>"
      ]
     },
     "execution_count": 5,
     "metadata": {},
     "output_type": "execute_result"
    },
    {
     "data": {
      "image/png": "[encoded data removed]",
      "text/plain": [
       "<Figure size 432x288 with 1 Axes>"
      ]
     },
     "metadata": {
      "needs_background": "light"
     },
     "output_type": "display_data"
    }
   ],
   "source": [
    "alpha_post = alpha + sum(eq_data) # Your expression for alpha posterior here\n",
    "N = len(eq_data)\n",
    "beta_post = beta + N # Your expression for beta posterior here\n",
    "lambda_post = st.gamma(alpha_post, scale=1.0 / beta_post)\n",
    "lambdas = np.linspace(0, lambda_post.ppf(0.99), 100)\n",
    "fig, ax = plt.subplots()\n",
    "ax.plot(lambdas, lambda_prior.pdf(lambdas), label='$\\lambda$ Prior')\n",
    "ax.plot(lambdas, lambda_post.pdf(lambdas), label='$\\lambda$ Posterior')\n",
    "ax.set_xlabel('$\\lambda$ (# or major earthquakes per decade)')\n",
    "ax.set_ylabel('$p(\\lambda$)');\n",
    "ax.legend()"
   ]
  },
  {
   "cell_type": "markdown",
   "metadata": {},
   "source": [
    "H. Let's work out the predictive distribution for the number of major earthquakes during the next decade.\n",
    "This is something that we did not do in class, but it will appear again and again in future lectures.\n",
    "Let $X$ be the random variable corresponding to the number of major eathquakes during the next decade.\n",
    "We need to calculate:\n",
    "$$\n",
    "p(x|x_{1:N}) = \\text{our state of knowledge about $X$ after seeing the data}.\n",
    "$$\n",
    "How do we do this?\n",
    "We just use the sum rule:\n",
    "$$\n",
    "p(x|x_{1:N}) = \\int_{0}^\\infty p(x|\\lambda, x_{1:N}) p(\\lambda|x_{1:N})d\\lambda = \\int_{0}^\\infty p(x|\\lambda) p(\\lambda|x_{1:N})d\\lambda,\n",
    "$$\n",
    "where going from the middle step to the rightmost one we used the assumption that the number of earthquakes occuring in each decade is independent.\n",
    "Carry out this integral and show that it will give you the [negative Binomial](https://en.wikipedia.org/wiki/Negative_binomial_distribution) distribution $\\operatorname{NB}(r,\\theta)$, see also the [scipy.stats papge](https://docs.scipy.org/doc/scipy/reference/generated/scipy.stats.nbinom.html) with parameters\n",
    "$$\n",
    "r = \\alpha + \\sum_{n=1}^N x_n,\n",
    "$$\n",
    "and\n",
    "$$\n",
    "\\theta = \\frac{1}{\\beta + N + 1}.\n",
    "$$\n",
    "**Answer:**\n",
    "$$\n",
    "p(x|x_{1:N}) = \\int_{0}^\\infty p(x|\\lambda) p(\\lambda|x_{1:N})d\\lambda = \\int_{0}^\\infty \\frac{\\lambda^{x}e^{-\\lambda}}{x!} \\cdot \\frac{\\beta^{'\\alpha'} \\lambda^{{\\alpha'}-1}e^{-\\beta' \\lambda}}{\\Gamma(\\alpha')}d\\lambda\\\\\n",
    "\\text{where :} \\alpha' = \\alpha+\\sum_{n=1}^{N}x_{n} \\text{ and, } \\beta'=N+\\beta\\\\\n",
    "p(x|x_{1:N}) = \\int_{0}^\\infty (N+\\beta)^{\\alpha+\\sum_{n=1}^{N}x_{n}}\\frac{\\lambda^{x+\\alpha+\\sum_{n=1}^{N}x_{n}-1}e^{-(1+\\beta+N)\\lambda}}{x!\\cdot \\Gamma(\\alpha+\\sum_{n=1}^{N}x_{n})} d\\lambda \\\\\n",
    "\\text{On Integration by parts w.r.t. } \\lambda we get, \\\\\n",
    "p(x|x_{1:N}) = \\frac{(x+r-1)!}{(r-1)!x!} \\cdot (1-\\theta)^{r} \\theta^{x} \\\\\n",
    "\\text{which with the above defined $r$ and $x$ is a negative Binomial distribution}\n",
    "$$"
   ]
  },
  {
   "cell_type": "markdown",
   "metadata": {},
   "source": [
    "I. Plot the predictive distribution $p(x|x_{1:N})$."
   ]
  },
  {
   "cell_type": "code",
   "execution_count": 6,
   "metadata": {},
   "outputs": [
    {
     "data": {
      "image/png": "[encoded data removed]",
      "text/plain": [
       "<Figure size 432x288 with 1 Axes>"
      ]
     },
     "metadata": {
      "needs_background": "light"
     },
     "output_type": "display_data"
    }
   ],
   "source": [
    "r = alpha_post # Your expression for r here\n",
    "theta = 1/(beta_post+1) # Your expression for theta here\n",
    "X = st.nbinom(r, 1.0 - theta) # Please pay attention to the fact that the wiki and scipy.stats\n",
    "                              # use slightly different definitions\n",
    "fig, ax = plt.subplots()\n",
    "xs = range(0, 10)\n",
    "ax.vlines(xs, 0, X.pmf(xs), colors='b', lw=5, alpha=0.5)\n",
    "ax.set_xlabel('$x$ (# of earthquakes during next decade)')\n",
    "ax.set_ylabel('$p(x)$');"
   ]
  },
  {
   "cell_type": "markdown",
   "metadata": {},
   "source": [
    "J. What is the probability that at least one major earthquake will occur during the next decade?<br>\n",
    "**Answer:**\n",
    "<br>p(at least one major earthquake will occur during the next decade) $ = p(x) = 1 − p(X = 0) = 0.787523$"
   ]
  },
  {
   "cell_type": "markdown",
   "metadata": {},
   "source": [
    "K. What is the probability that at least one major earthquake will occur during the next two decades?<br>\n",
    "**Answer:** <br>\n",
    "p(at least one major earthquake will occur during the next decade) $ = p(x) = (1 − p(X = 0))^2 = 0.045146$"
   ]
  },
  {
   "cell_type": "markdown",
   "metadata": {},
   "source": [
    "L. Find a 95\\% prediction interval for $\\lambda$."
   ]
  },
  {
   "cell_type": "code",
   "execution_count": 7,
   "metadata": {},
   "outputs": [
    {
     "name": "stdout",
     "output_type": "stream",
     "text": [
      "lambda is in [1.03, 2.30] with 95% probability\n"
     ]
    }
   ],
   "source": [
    "# Write your code here and print() your answer\n",
    "lambda_low = lambda_post.ppf(0.025)\n",
    "lambda_up = lambda_post.ppf(0.975)\n",
    "print('lambda is in [{0:1.2f}, {1:1.2f}] with 95% probability'.format(lambda_low, lambda_up))"
   ]
  },
  {
   "cell_type": "markdown",
   "metadata": {},
   "source": [
    "M. Find the $\\lambda$ that minimizes the absolute loss (see lecture), call it $\\lambda^*_N$.\n",
    "Then, plot the fully Bayesian predictive $p(x|x_{1:N})$ to $p(x|\\lambda^*_N)$."
   ]
  },
  {
   "cell_type": "code",
   "execution_count": 8,
   "metadata": {},
   "outputs": [
    {
     "name": "stdout",
     "output_type": "stream",
     "text": [
      "lambda Star = 1.58\n"
     ]
    },
    {
     "data": {
      "image/png": "[encoded data removed]",
      "text/plain": [
       "<Figure size 600x400 with 1 Axes>"
      ]
     },
     "metadata": {
      "needs_background": "light"
     },
     "output_type": "display_data"
    }
   ],
   "source": [
    "# Write your code here and print() your answer\n",
    "lambda_star = lambda_post.median()\n",
    "print('lambda Star = {0:1.2f}'.format(lambda_star))\n",
    "\n",
    "# p(x|x_{1:N}) Plot\n",
    "r = alpha_post # Your expression for r here\n",
    "theta = 1/(beta_post+1) # Your expression for theta here\n",
    "X = st.nbinom(r, 1.0 - theta)\n",
    "fig, ax = plt.subplots(dpi=100)\n",
    "xs = range(0, 10)\n",
    "ax.vlines(xs, 0, X.pmf(xs), colors='b', lw=10, alpha=0.5, label='Fully Bayesian predictive')\n",
    "ax.set_xlabel('$x$ (# of earthquakes during next decade)')\n",
    "ax.set_ylabel('$p(x)$');\n",
    "\n",
    "# p(x|\\lambda*) Plot\n",
    "X = st.poisson(lambda_star)\n",
    "xs = range(0, 10)\n",
    "ax.bar(xs, X.pmf(xs), color='red',alpha=0.5, label='Based on lambda star');\n",
    "ax.legend();"
   ]
  },
  {
   "cell_type": "markdown",
   "metadata": {},
   "source": [
    "-End-"
   ]
  }
 ],
 "metadata": {
  "kernelspec": {
   "display_name": "Python 3",
   "language": "python",
   "name": "python3"
  },
  "language_info": {
   "codemirror_mode": {
    "name": "ipython",
    "version": 3
   },
   "file_extension": ".py",
   "mimetype": "text/x-python",
   "name": "python",
   "nbconvert_exporter": "python",
   "pygments_lexer": "ipython3",
   "version": "3.6.10"
  }
 },
 "nbformat": 4,
 "nbformat_minor": 2
}
