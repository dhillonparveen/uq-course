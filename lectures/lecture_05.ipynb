{
 "cells": [
  {
   "cell_type": "markdown",
   "metadata": {},
   "source": [
    "# Lecture 5: Introduction to Probability Theory (Part III)"
   ]
  },
  {
   "cell_type": "markdown",
   "metadata": {},
   "source": [
    "## Objectives\n",
    "\n",
    "+ To introduce continuous random variables.\n",
    "+ To introduce the cumulative distribution function and its properties.\n",
    "+ To introduce the probability density function and its properties.\n",
    "+ To introduce the expectation of continuous random variables.\n",
    "+ To introduce the concept of the joint probability density function.\n",
    "+ To present some simple analytical examples Bayesian inference."
   ]
  },
  {
   "cell_type": "markdown",
   "metadata": {},
   "source": [
    "## Readings\n",
    "\n",
    "+ These notes."
   ]
  },
  {
   "cell_type": "code",
   "execution_count": 3,
   "metadata": {},
   "outputs": [],
   "source": [
    "%matplotlib inline\n",
    "import matplotlib.pyplot as plt\n",
    "import seaborn as sns\n",
    "sns.set_context('talk')\n",
    "import numpy as np"
   ]
  },
  {
   "cell_type": "markdown",
   "metadata": {},
   "source": [
    "## Something more on probability spaces\n",
    "\n",
    "It turns out that when $\\Omega$ is a continuous space, like $\\mathbb{R}$ for example, it is not possible to take $\\mathcal{F}$ to be all the subsets of $\\Omega$ (you need to take a major-theoretical probability theory class to understand why this is).\n",
    "However, many \"nice\" subsets of $\\Omega$ are usually in $\\mathcal{F}$.\n",
    "For example, in the case of $\\Omega=\\mathbb{R}$, $\\mathcal{F}$ can include all intervals, and any countable unions and intersections of intervals.\n",
    "That's a lot of sets.\n",
    "\n",
    "In any case, $\\mathcal{F}$ must satisfy certain properties for everything to be well-defined.\n",
    "These properties are:\n",
    "+ $\\Omega \\in \\mathcal{F}$\n",
    "+ For any $A$ in $\\mathcal{F}$, the complement $A^c$ is in $\\mathcal{F}$.\n",
    "+ For any $A_1,A_2,\\dots$ in $\\mathcal{F}$, the union $\\cup_n A_n$ is in $\\mathcal{F}$.\n",
    "When a set of subsets $\\mathcal{F}$ satisfies these properties, we say that it forms a $\\sigma$-algebra."
   ]
  },
  {
   "cell_type": "markdown",
   "metadata": {},
   "source": [
    "## Continuous random variables\n",
    "\n",
    "Consider a probability space $(\\Omega, \\mathcal{F}, \\mathbb{P})$.\n",
    "A continuous random variable models the result of an experiment that can potentially take infinitely many values.\n",
    "That is, it is a function\n",
    "$$\n",
    "X:\\Omega \\rightarrow \\mathbb{R}.\n",
    "$$"
   ]
  },
  {
   "cell_type": "markdown",
   "metadata": {},
   "source": [
    "## The cumulative distribution function\n",
    "\n",
    "Let $X$ be a continuous random variable.\n",
    "Its cumulative distribution function (CDF) $F_X(x)$ gives the probability that $X$ is smaller than $x$:\n",
    "$$\n",
    "F_X(x) := \\mathbb{P}(X\\le x) = \\mathbb{P}\\left(\\left\\{\\omega: X(\\omega) \\le x\\right\\}\\right).\n",
    "$$\n",
    "\n",
    "### Properties of the cumulative distribution function\n",
    "\n",
    "+ $F_X(x)$ is an increasing function.\n",
    "+ $F_X(-\\infty) = 0$.\n",
    "+ $F_X(+\\infty) = 1$.\n",
    "+ $\\mathbb{P}(a\\le X \\le b) = F_X(b) - F_X(a)$."
   ]
  },
  {
   "cell_type": "markdown",
   "metadata": {},
   "source": [
    "## The probability density function\n",
    "\n",
    "The probability density function (PDF) is a \"function\" $f_X(x)$ that can give us the probability that $X$ is in any \"good\" subset $A$ of $\\mathbb{R}$ as follows:\n",
    "$$\n",
    "\\mathbb{P}(X\\in A) = \\int_A f_X(x) dx.\n",
    "$$\n",
    "Note that certain random variables may not have a PDF that is a function.\n",
    "That's why I put the word \"function\" in quotes.\n",
    "However, if you allow the PDF to include Dirac's $\\delta$, then any random variable has a PDF.\n",
    "We will ignore this complication for the moment.\n",
    "\n",
    "In this class, we will simplify the notation and we will be writing:\n",
    "$$\n",
    "p(x) \\equiv f_X(x),\n",
    "$$\n",
    "when there is no ambiguity.\n",
    "\n",
    "### Properties of the probability density function\n",
    "+ $p(x) \\ge 0$ for all $x$.\n",
    "+ $\\int_{-\\infty}^{\\infty} p(x) dx = 1$.\n",
    "+ The derivative of the CDF is the PDF, i.e., $F_X'(x) = p(x)$.\n",
    "\n",
    "### Dirac's delta and a unified view of all random variables\n",
    "\n",
    "Dirac's $\\delta$ is a special function, actually called a distribution, which is defined as follows:\n",
    "$$\n",
    "\\delta(x) = 0,\n",
    "$$\n",
    "for $x\\not=0$, and\n",
    "$$\n",
    "\\int_{-\\infty}^\\infty \\delta(x) dx = 0\n",
    "$$\n",
    "You can think of Dirac's $\\delta$ as the PDF of a discrete random variable that takes the value $0$ with probability one.\n",
    "\n",
    "Using Dirac's $\\delta$ you can make any discrete random variable you want look like a continuous random variable.\n",
    "For example, consider a Categorical random variable taking values $x_1,\\dots,x_K$ with probabilities $p_1,\\dots,p_K$.\n",
    "The PDF of this random variable can be written as:\n",
    "$$\n",
    "p(x) = \\sum_{k=1}^Kp_k\\delta(x - x_k).\n",
    "$$\n",
    "\n",
    "The most general random variable one can think of has a PDF that consists of two parts:\n",
    "$$\n",
    "p(x) = f^n_X(x) + f^{\\delta}_X(x),\n",
    "$$\n",
    "a part $f^n_X(x)$ that is a nice proper function and a part $f^{\\delta}_X(x)$ that consists of a weighted sum of Dirac $\\delta$'s. "
   ]
  },
  {
   "cell_type": "markdown",
   "metadata": {},
   "source": [
    "## Expectations of continuous random variables\n",
    "\n",
    "The expectation of a continuous random variable is:\n",
    "$$\n",
    "\\mathbb{E}[X] = \\int_{-\\infty}^\\infty x p(x)dx.\n",
    "$$\n",
    "Its properties are the same as the expectation of a discrete random variable.\n",
    "\n",
    "The expectation of a function of the random variable is:\n",
    "$$\n",
    "\\mathbb{E}[f(X)] = \\int_{-\\infty}^\\infty f(x)p(x)dx.\n",
    "$$\n",
    "\n",
    "In general, using the Dirac $\\delta$ trick we introduced above, there is no need to differentiate between integrations and summations.\n",
    "We can use integration for both continuous and discrete random variables."
   ]
  },
  {
   "cell_type": "markdown",
   "metadata": {},
   "source": [
    "## Example: The uniform distribution\n",
    "\n",
    "The uniform distribution is the most common continuous distribution.\n",
    "It corresponds to a random variable that is equally likely to take a value within a given interval.\n",
    "We write:\n",
    "$$\n",
    "X\\sim U([0,1]),\n",
    "$$\n",
    "and we read $X$ follows a uniform distribution taking values in $[0,1]$.\n",
    "\n",
    "The probability density of the uniform is constant in $[0,1]$ and zero outside it.\n",
    "We have:\n",
    "$$\n",
    "p(x) := U(x|[0,1]) := f_X(x) = \\begin{cases}\n",
    "1,&\\;0\\le x \\le 1,\\\\\n",
    "0,&\\;\\text{otherwise}.\n",
    "\\end{cases}\n",
    "$$\n",
    "\n",
    "The cumulative distribution funciton of the uniform is:\n",
    "$$\n",
    "F_X(x) = \\mathbb{P}(X \\le x) = \\int_0^x f_X(u) du = \\int_0^x du = x.\n",
    "$$\n",
    "\n",
    "$$\n",
    "\\mathbb{P}(a \\le X \\le b) = F_X(b) - F_X(a) = b - a.\n",
    "$$\n",
    "\n",
    "The expectation of the uniform is:\n",
    "$$\n",
    "\\mathbb{E}[X] = \\int_0^1 xdx = \\frac{1}{2}.\n",
    "$$\n",
    "\n",
    "The variance of the uniform is:\n",
    "$$\n",
    "\\mathbb{V}[X] = \\mathbb{E}[X^2] - \\left(\\mathbb{E}[X]\\right)^2 = \\frac{1}{3} - \\frac{1}{4} = \\frac{1}{12}.\n",
    "$$"
   ]
  },
  {
   "cell_type": "code",
   "execution_count": 4,
   "metadata": {},
   "outputs": [
    {
     "data": {
      "text/plain": "array([2.65659478, 4.28128912, 2.66028309, 3.42840242, 2.08326967,\n       3.39758243, 3.52428256, 4.05023812, 2.73121894, 2.24493135,\n       4.95769343, 3.75160612, 3.93183568, 4.2655949 , 3.14598749,\n       4.73224714, 2.34038694, 2.18343651, 3.36233754, 2.63788706,\n       3.56740583, 4.22739161, 4.06938345, 4.15692383, 4.17666777,\n       4.0111061 , 3.30200357, 2.72270344, 2.74975063, 2.55057023,\n       3.11993405, 3.69395073, 4.78489388, 3.47374607, 4.67706985,\n       2.63631815, 4.15575127, 3.16507185, 2.06356937, 3.89118342,\n       2.08348425, 4.71647633, 3.51765819, 4.69773714, 3.25333811,\n       3.94133335, 3.66014179, 4.12807677, 3.04777782, 2.3840396 ,\n       4.36260842, 4.50400392, 3.39067618, 3.05993455, 3.73609513,\n       4.30283761, 4.9379493 , 2.39514265, 2.47144409, 2.65734982,\n       4.15302739, 4.26159366, 2.55013933, 4.41013473, 4.39737239,\n       4.81593665, 3.87926935, 4.07936084, 3.05027848, 4.29538502,\n       3.1776098 , 4.11618389, 3.1768737 , 3.85431365, 2.05139374,\n       3.78847166, 4.63619924, 4.25610759, 4.12738777, 4.05035243,\n       3.62406395, 2.24057236, 3.6000193 , 2.0390727 , 4.04634194,\n       2.13909861, 2.68419121, 4.79803513, 4.06650504, 2.40747573,\n       3.63107155, 4.47109861, 2.17164278, 2.20504314, 2.75886791,\n       3.42772586, 4.90440905, 2.06768361, 4.0749263 , 2.45624086])"
     },
     "execution_count": 4,
     "metadata": {},
     "output_type": "execute_result"
    }
   ],
   "source": [
    "# Let's demonstrate how you can sample from the uniform\n",
    "import scipy.stats as st\n",
    "X = st.uniform(loc = 2, scale =3)\n",
    "X.rvs(size=100)"
   ]
  },
  {
   "cell_type": "code",
   "execution_count": 5,
   "metadata": {},
   "outputs": [
    {
     "data": {
      "text/plain": "array([2.28772833, 4.83332237, 2.96068362, 3.62026273, 4.97010091,\n       2.44915597, 4.83457003, 2.85503983, 3.80106233, 2.47495105,\n       3.98099557, 4.96724238, 2.98228165, 4.81981411, 4.11388266,\n       4.22944889, 2.40512967, 2.68985214, 4.34077411, 2.55352439,\n       3.85818328, 3.56247622, 2.03949511, 4.53771929, 3.69814449,\n       2.1789548 , 4.38447174, 4.42908455, 3.1052745 , 2.51873069,\n       2.30068043, 2.42748715, 2.7377184 , 4.78365304, 4.00931884,\n       2.04514943, 3.45722911, 2.70216028, 4.45113174, 2.00817989,\n       2.25989808, 3.73583505, 2.15092301, 2.1676728 , 3.95527013,\n       4.99559351, 4.38924947, 4.74229648, 2.34834189, 4.0772268 ,\n       2.26691375, 4.14321851, 4.41736387, 3.26623036, 4.3093952 ,\n       3.02020791, 3.90137772, 4.09821815, 2.90937947, 4.5216007 ,\n       4.65308777, 4.19828008, 2.85942146, 3.47665232, 2.27109964,\n       2.62768446, 3.00814697, 2.58661888, 2.2884805 , 4.6286187 ,\n       2.25071249, 4.72954538, 3.77176755, 3.83087909, 2.32038084,\n       3.83943919, 4.45693582, 2.64534932, 2.60522514, 2.88366748,\n       2.14019585, 3.99364761, 2.61299054, 4.74244823, 4.38942716,\n       2.70595687, 2.20607075, 3.71604609, 3.88364094, 3.98716165,\n       4.00580905, 2.80142524, 4.84880998, 3.26669867, 2.17804207,\n       4.50198712, 2.00468198, 2.69000088, 3.95036171, 3.69628002])"
     },
     "execution_count": 5,
     "metadata": {},
     "output_type": "execute_result"
    }
   ],
   "source": [
    "# An alternative way is to use the functionality of numpy\n",
    "2 +3*np.random.rand(100)"
   ]
  },
  {
   "cell_type": "markdown",
   "metadata": {},
   "source": [
    "### Questions\n",
    "\n",
    "+ Modify the code above so that you sample from a uniform distribution taking values in $[2, 5]$?\n",
    "> Done"
   ]
  },
  {
   "cell_type": "markdown",
   "metadata": {},
   "source": [
    "## Joint probability density function\n",
    "\n",
    "Let $X$ and $Y$ be two random variables.\n",
    "There joint probability density $f_{X,Y}(x,y)$ is the function that can give us the probability that the pair $(X,Y)$ belongs to any \"good\" subset $A$ of $\\mathbb{R}^2$ as follows:\n",
    "$$\n",
    "\\mathbb{P}\\left((X,Y)\\in A\\right) = \\int\\int_{A} f_{X,Y}(x,y)dxdy.\n",
    "$$\n",
    "Of course, we will be writing:\n",
    "$$\n",
    "p(x,y) := f_{X,Y}(x,y),\n",
    "$$\n",
    "when there is no ambiguity.\n",
    "\n",
    "If you integrate one of the variables out of the joint, you get the PDF of the other variable.\n",
    "For example:\n",
    "$$\n",
    "p(x) = \\int_{-\\infty}^\\infty p(x,y) dy,\n",
    "$$\n",
    "and\n",
    "$$\n",
    "p(y) = \\int_{-\\infty}^\\infty p(x, y) dx.\n",
    "$$\n",
    "\n",
    "For many random variables $X_1,\\dots,X_N$ their joint PDF $p(x_1,\\dot,x_N)$ is similarly defined.\n",
    "Again, integrating out some variables gives the pdf of the others."
   ]
  },
  {
   "cell_type": "markdown",
   "metadata": {},
   "source": [
    "## Conditioning a random variable on another\n",
    "\n",
    "Consider two random variables $X$ and $Y$.\n",
    "If we had observed that $Y=y$, how would this change the PDF of $X$?\n",
    "The answer is given via Bayes' rule.\n",
    "The PDF of $X$ conditioned on $Y=y$ is:\n",
    "$$\n",
    "p(x|y) = \\frac{p(x,y)}{p(y)}.\n",
    "$$"
   ]
  },
  {
   "cell_type": "markdown",
   "metadata": {},
   "source": [
    "## Example: Inferring the probability of a coin toss from data (1/3)\n",
    "\n",
    "This is our first Bayesian inference example!\n",
    "\n",
    "Let's say that we run a coin toss experiment $N$ times and we wish to figure out the probability of heads.\n",
    "We will bring into the picture all the mathematical machinery we have introduced so far.\n",
    "Let's say that the data we have observe are $x_1,\\dots,x_N$.\n",
    "For notational convenience we will be writing:\n",
    "$$\n",
    "x_{1:N} := (x_1,\\dots,x_N).\n",
    "$$\n",
    "\n",
    "First, let's start with the probability of success of the coin toss.\n",
    "Let's call it $\\theta$.\n",
    "How can we describe our uncertainty about it?\n",
    "We have to assign a *prior* probability distribution on it.\n",
    "Let's say that we don't know anything about it except that it must be between 0 and 1.\n",
    "What distribution should we assign?\n",
    "Of course, a uniform distribution:\n",
    "$$\n",
    "\\theta \\sim U([0,1]).\n",
    "$$\n",
    "Second, each coin toss experiment corresponds to an independent Bernoulli variable with the same probability of success $\\theta$.\n",
    "We write:\n",
    "$$\n",
    "X_n | \\theta \\sim \\operatorname{Bernoulli}(\\theta),\n",
    "$$\n",
    "for $n=1,\\dots,N$.\n",
    "Note that these random variables depend on $\\theta$.\n",
    "That's why we are conditioning like this.\n",
    "\n",
    "Before proceeding with the mathematics, let's draw the graph."
   ]
  },
  {
   "cell_type": "code",
   "execution_count": 7,
   "metadata": {},
   "outputs": [
    {
     "data": {
      "image/svg+xml": "<?xml version=\"1.0\" encoding=\"UTF-8\" standalone=\"no\"?>\r\n<!DOCTYPE svg PUBLIC \"-//W3C//DTD SVG 1.1//EN\"\r\n \"http://www.w3.org/Graphics/SVG/1.1/DTD/svg11.dtd\">\r\n<!-- Generated by graphviz version 2.38.0 (20140413.2041)\r\n -->\r\n<!-- Title: coin_toss_bayes_1 Pages: 1 -->\r\n<svg width=\"62pt\" height=\"116pt\"\r\n viewBox=\"0.00 0.00 62.00 116.00\" xmlns=\"http://www.w3.org/2000/svg\" xmlns:xlink=\"http://www.w3.org/1999/xlink\">\r\n<g id=\"graph0\" class=\"graph\" transform=\"scale(1 1) rotate(0) translate(4 112)\">\r\n<title>coin_toss_bayes_1</title>\r\n<polygon fill=\"white\" stroke=\"none\" points=\"-4,4 -4,-112 58,-112 58,4 -4,4\"/>\r\n<!-- theta -->\r\n<g id=\"node1\" class=\"node\"><title>theta</title>\r\n<ellipse fill=\"none\" stroke=\"black\" cx=\"27\" cy=\"-90\" rx=\"27\" ry=\"18\"/>\r\n<text text-anchor=\"start\" x=\"23.5\" y=\"-86.3\" font-family=\"Times New Roman,serif\" font-size=\"14.00\">θ</text>\r\n</g>\r\n<!-- X1 -->\r\n<g id=\"node2\" class=\"node\"><title>X1</title>\r\n<ellipse fill=\"lightgrey\" stroke=\"black\" cx=\"27\" cy=\"-18\" rx=\"27\" ry=\"18\"/>\r\n<text text-anchor=\"start\" x=\"18.5\" y=\"-15.3\" font-family=\"Times New Roman,serif\" font-size=\"14.00\">X</text>\r\n<text text-anchor=\"start\" x=\"28.5\" y=\"-15.3\" font-family=\"Times New Roman,serif\" baseline-shift=\"sub\" font-size=\"14.00\">1</text>\r\n</g>\r\n<!-- theta&#45;&gt;X1 -->\r\n<g id=\"edge1\" class=\"edge\"><title>theta&#45;&gt;X1</title>\r\n<path fill=\"none\" stroke=\"black\" d=\"M27,-71.6966C27,-63.9827 27,-54.7125 27,-46.1124\"/>\r\n<polygon fill=\"black\" stroke=\"black\" points=\"30.5001,-46.1043 27,-36.1043 23.5001,-46.1044 30.5001,-46.1043\"/>\r\n</g>\r\n</g>\r\n</svg>\r\n",
      "text/plain": "<graphviz.dot.Digraph at 0x175ab640550>"
     },
     "execution_count": 7,
     "metadata": {},
     "output_type": "execute_result"
    }
   ],
   "source": [
    "# First for one coin toss\n",
    "from graphviz import Digraph\n",
    "gc = Digraph('coin_toss_bayes_1')\n",
    "gc.node('theta', label='<&theta;>')\n",
    "gc.node('X1', label='<X<sub>1</sub>>', style='filled')\n",
    "gc.edge('theta', 'X1')\n",
    "gc.render('coin_toss_bayes_1', format='png')\n",
    "gc"
   ]
  },
  {
   "cell_type": "code",
   "execution_count": 8,
   "metadata": {},
   "outputs": [
    {
     "data": {
      "image/svg+xml": "<?xml version=\"1.0\" encoding=\"UTF-8\" standalone=\"no\"?>\r\n<!DOCTYPE svg PUBLIC \"-//W3C//DTD SVG 1.1//EN\"\r\n \"http://www.w3.org/Graphics/SVG/1.1/DTD/svg11.dtd\">\r\n<!-- Generated by graphviz version 2.38.0 (20140413.2041)\r\n -->\r\n<!-- Title: coin_toss_bayes_2 Pages: 1 -->\r\n<svg width=\"134pt\" height=\"116pt\"\r\n viewBox=\"0.00 0.00 134.00 116.00\" xmlns=\"http://www.w3.org/2000/svg\" xmlns:xlink=\"http://www.w3.org/1999/xlink\">\r\n<g id=\"graph0\" class=\"graph\" transform=\"scale(1 1) rotate(0) translate(4 112)\">\r\n<title>coin_toss_bayes_2</title>\r\n<polygon fill=\"white\" stroke=\"none\" points=\"-4,4 -4,-112 130,-112 130,4 -4,4\"/>\r\n<!-- theta -->\r\n<g id=\"node1\" class=\"node\"><title>theta</title>\r\n<ellipse fill=\"none\" stroke=\"black\" cx=\"63\" cy=\"-90\" rx=\"27\" ry=\"18\"/>\r\n<text text-anchor=\"start\" x=\"59.5\" y=\"-86.3\" font-family=\"Times New Roman,serif\" font-size=\"14.00\">θ</text>\r\n</g>\r\n<!-- X1 -->\r\n<g id=\"node2\" class=\"node\"><title>X1</title>\r\n<ellipse fill=\"lightgrey\" stroke=\"black\" cx=\"27\" cy=\"-18\" rx=\"27\" ry=\"18\"/>\r\n<text text-anchor=\"start\" x=\"18.5\" y=\"-15.3\" font-family=\"Times New Roman,serif\" font-size=\"14.00\">X</text>\r\n<text text-anchor=\"start\" x=\"28.5\" y=\"-15.3\" font-family=\"Times New Roman,serif\" baseline-shift=\"sub\" font-size=\"14.00\">1</text>\r\n</g>\r\n<!-- theta&#45;&gt;X1 -->\r\n<g id=\"edge1\" class=\"edge\"><title>theta&#45;&gt;X1</title>\r\n<path fill=\"none\" stroke=\"black\" d=\"M54.6504,-72.7646C50.2885,-64.2831 44.8531,-53.7144 39.9587,-44.1974\"/>\r\n<polygon fill=\"black\" stroke=\"black\" points=\"42.9904,-42.4395 35.3043,-35.1473 36.7654,-45.6409 42.9904,-42.4395\"/>\r\n</g>\r\n<!-- X2 -->\r\n<g id=\"node3\" class=\"node\"><title>X2</title>\r\n<ellipse fill=\"lightgrey\" stroke=\"black\" cx=\"99\" cy=\"-18\" rx=\"27\" ry=\"18\"/>\r\n<text text-anchor=\"start\" x=\"90.5\" y=\"-15.3\" font-family=\"Times New Roman,serif\" font-size=\"14.00\">X</text>\r\n<text text-anchor=\"start\" x=\"100.5\" y=\"-15.3\" font-family=\"Times New Roman,serif\" baseline-shift=\"sub\" font-size=\"14.00\">2</text>\r\n</g>\r\n<!-- theta&#45;&gt;X2 -->\r\n<g id=\"edge2\" class=\"edge\"><title>theta&#45;&gt;X2</title>\r\n<path fill=\"none\" stroke=\"black\" d=\"M71.3496,-72.7646C75.7115,-64.2831 81.1469,-53.7144 86.0413,-44.1974\"/>\r\n<polygon fill=\"black\" stroke=\"black\" points=\"89.2346,-45.6409 90.6957,-35.1473 83.0096,-42.4395 89.2346,-45.6409\"/>\r\n</g>\r\n</g>\r\n</svg>\r\n",
      "text/plain": "<graphviz.dot.Digraph at 0x175ab651860>"
     },
     "execution_count": 8,
     "metadata": {},
     "output_type": "execute_result"
    }
   ],
   "source": [
    "# Now for two coin tosses\n",
    "gc2 = Digraph('coin_toss_bayes_2')\n",
    "gc2.node('theta', label='<&theta;>')\n",
    "gc2.node('X1', label='<X<sub>1</sub>>', style='filled')\n",
    "gc2.node('X2', label='<X<sub>2</sub>>', style='filled')\n",
    "gc2.edge('theta', 'X1')\n",
    "gc2.edge('theta', 'X2')\n",
    "gc2.render('coin_toss_bayes_2', format='png')\n",
    "gc2"
   ]
  },
  {
   "cell_type": "code",
   "execution_count": 9,
   "metadata": {},
   "outputs": [
    {
     "data": {
      "image/svg+xml": "<?xml version=\"1.0\" encoding=\"UTF-8\" standalone=\"no\"?>\r\n<!DOCTYPE svg PUBLIC \"-//W3C//DTD SVG 1.1//EN\"\r\n \"http://www.w3.org/Graphics/SVG/1.1/DTD/svg11.dtd\">\r\n<!-- Generated by graphviz version 2.38.0 (20140413.2041)\r\n -->\r\n<!-- Title: coin_toss_bayes_3 Pages: 1 -->\r\n<svg width=\"206pt\" height=\"116pt\"\r\n viewBox=\"0.00 0.00 206.00 116.00\" xmlns=\"http://www.w3.org/2000/svg\" xmlns:xlink=\"http://www.w3.org/1999/xlink\">\r\n<g id=\"graph0\" class=\"graph\" transform=\"scale(1 1) rotate(0) translate(4 112)\">\r\n<title>coin_toss_bayes_3</title>\r\n<polygon fill=\"white\" stroke=\"none\" points=\"-4,4 -4,-112 202,-112 202,4 -4,4\"/>\r\n<!-- theta -->\r\n<g id=\"node1\" class=\"node\"><title>theta</title>\r\n<ellipse fill=\"none\" stroke=\"black\" cx=\"99\" cy=\"-90\" rx=\"27\" ry=\"18\"/>\r\n<text text-anchor=\"start\" x=\"95.5\" y=\"-86.3\" font-family=\"Times New Roman,serif\" font-size=\"14.00\">θ</text>\r\n</g>\r\n<!-- X1 -->\r\n<g id=\"node2\" class=\"node\"><title>X1</title>\r\n<ellipse fill=\"lightgrey\" stroke=\"black\" cx=\"27\" cy=\"-18\" rx=\"27\" ry=\"18\"/>\r\n<text text-anchor=\"start\" x=\"18.5\" y=\"-15.3\" font-family=\"Times New Roman,serif\" font-size=\"14.00\">X</text>\r\n<text text-anchor=\"start\" x=\"28.5\" y=\"-15.3\" font-family=\"Times New Roman,serif\" baseline-shift=\"sub\" font-size=\"14.00\">1</text>\r\n</g>\r\n<!-- theta&#45;&gt;X1 -->\r\n<g id=\"edge1\" class=\"edge\"><title>theta&#45;&gt;X1</title>\r\n<path fill=\"none\" stroke=\"black\" d=\"M84.4297,-74.8345C74.2501,-64.9376 60.4761,-51.5462 48.9694,-40.3591\"/>\r\n<polygon fill=\"black\" stroke=\"black\" points=\"51.4055,-37.8461 41.7957,-33.3847 46.5259,-42.865 51.4055,-37.8461\"/>\r\n</g>\r\n<!-- X2 -->\r\n<g id=\"node3\" class=\"node\"><title>X2</title>\r\n<ellipse fill=\"lightgrey\" stroke=\"black\" cx=\"99\" cy=\"-18\" rx=\"27\" ry=\"18\"/>\r\n<text text-anchor=\"start\" x=\"90.5\" y=\"-15.3\" font-family=\"Times New Roman,serif\" font-size=\"14.00\">X</text>\r\n<text text-anchor=\"start\" x=\"100.5\" y=\"-15.3\" font-family=\"Times New Roman,serif\" baseline-shift=\"sub\" font-size=\"14.00\">2</text>\r\n</g>\r\n<!-- theta&#45;&gt;X2 -->\r\n<g id=\"edge2\" class=\"edge\"><title>theta&#45;&gt;X2</title>\r\n<path fill=\"none\" stroke=\"black\" d=\"M99,-71.6966C99,-63.9827 99,-54.7125 99,-46.1124\"/>\r\n<polygon fill=\"black\" stroke=\"black\" points=\"102.5,-46.1043 99,-36.1043 95.5001,-46.1044 102.5,-46.1043\"/>\r\n</g>\r\n<!-- X3 -->\r\n<g id=\"node4\" class=\"node\"><title>X3</title>\r\n<ellipse fill=\"lightgrey\" stroke=\"black\" cx=\"171\" cy=\"-18\" rx=\"27\" ry=\"18\"/>\r\n<text text-anchor=\"start\" x=\"162.5\" y=\"-15.3\" font-family=\"Times New Roman,serif\" font-size=\"14.00\">X</text>\r\n<text text-anchor=\"start\" x=\"172.5\" y=\"-15.3\" font-family=\"Times New Roman,serif\" baseline-shift=\"sub\" font-size=\"14.00\">3</text>\r\n</g>\r\n<!-- theta&#45;&gt;X3 -->\r\n<g id=\"edge3\" class=\"edge\"><title>theta&#45;&gt;X3</title>\r\n<path fill=\"none\" stroke=\"black\" d=\"M113.57,-74.8345C123.75,-64.9376 137.524,-51.5462 149.031,-40.3591\"/>\r\n<polygon fill=\"black\" stroke=\"black\" points=\"151.474,-42.865 156.204,-33.3847 146.595,-37.8461 151.474,-42.865\"/>\r\n</g>\r\n</g>\r\n</svg>\r\n",
      "text/plain": "<graphviz.dot.Digraph at 0x175ab651da0>"
     },
     "execution_count": 9,
     "metadata": {},
     "output_type": "execute_result"
    }
   ],
   "source": [
    "# Now for three coin tosses\n",
    "gc3 = Digraph('coin_toss_bayes_3')\n",
    "gc3.node('theta', label='<&theta;>')\n",
    "gc3.node('X1', label='<X<sub>1</sub>>', style='filled')\n",
    "gc3.node('X2', label='<X<sub>2</sub>>', style='filled')\n",
    "gc3.node('X3', label='<X<sub>3</sub>>', style='filled')\n",
    "gc3.edge('theta', 'X1')\n",
    "gc3.edge('theta', 'X2')\n",
    "gc3.edge('theta', 'X3')\n",
    "gc3.render('coin_toss_bayes_3', format='png')\n",
    "gc3"
   ]
  },
  {
   "cell_type": "markdown",
   "metadata": {},
   "source": [
    "Because this notation gets a little bit too involved, we introduce the so called [plate notation](https://en.wikipedia.org/wiki/Plate_notation).\n",
    "Whategver is inside the subgrpah indicated by the box is supposed to be repeated as many times as indicated:"
   ]
  },
  {
   "cell_type": "code",
   "execution_count": 10,
   "metadata": {},
   "outputs": [
    {
     "data": {
      "image/svg+xml": "<?xml version=\"1.0\" encoding=\"UTF-8\" standalone=\"no\"?>\r\n<!DOCTYPE svg PUBLIC \"-//W3C//DTD SVG 1.1//EN\"\r\n \"http://www.w3.org/Graphics/SVG/1.1/DTD/svg11.dtd\">\r\n<!-- Generated by graphviz version 2.38.0 (20140413.2041)\r\n -->\r\n<!-- Title: coin_toss_bayes_plate Pages: 1 -->\r\n<svg width=\"94pt\" height=\"155pt\"\r\n viewBox=\"0.00 0.00 94.00 155.00\" xmlns=\"http://www.w3.org/2000/svg\" xmlns:xlink=\"http://www.w3.org/1999/xlink\">\r\n<g id=\"graph0\" class=\"graph\" transform=\"scale(1 1) rotate(0) translate(4 151)\">\r\n<title>coin_toss_bayes_plate</title>\r\n<polygon fill=\"white\" stroke=\"none\" points=\"-4,4 -4,-151 90,-151 90,4 -4,4\"/>\r\n<g id=\"clust1\" class=\"cluster\"><title>cluster_0</title>\r\n<polygon fill=\"none\" stroke=\"black\" points=\"8,-8 8,-83 78,-83 78,-8 8,-8\"/>\r\n<text text-anchor=\"middle\" x=\"43\" y=\"-15.8\" font-family=\"Times New Roman,serif\" font-size=\"14.00\">n=1,...,N</text>\r\n</g>\r\n<!-- theta -->\r\n<g id=\"node1\" class=\"node\"><title>theta</title>\r\n<ellipse fill=\"none\" stroke=\"black\" cx=\"43\" cy=\"-129\" rx=\"27\" ry=\"18\"/>\r\n<text text-anchor=\"start\" x=\"39.5\" y=\"-125.3\" font-family=\"Times New Roman,serif\" font-size=\"14.00\">θ</text>\r\n</g>\r\n<!-- Xn -->\r\n<g id=\"node2\" class=\"node\"><title>Xn</title>\r\n<ellipse fill=\"lightgrey\" stroke=\"black\" cx=\"43\" cy=\"-57\" rx=\"27\" ry=\"18\"/>\r\n<text text-anchor=\"start\" x=\"35\" y=\"-54.3\" font-family=\"Times New Roman,serif\" font-size=\"14.00\">X</text>\r\n<text text-anchor=\"start\" x=\"45\" y=\"-54.3\" font-family=\"Times New Roman,serif\" baseline-shift=\"sub\" font-size=\"14.00\">n</text>\r\n</g>\r\n<!-- theta&#45;&gt;Xn -->\r\n<g id=\"edge1\" class=\"edge\"><title>theta&#45;&gt;Xn</title>\r\n<path fill=\"none\" stroke=\"black\" d=\"M43,-110.697C43,-102.983 43,-93.7125 43,-85.1124\"/>\r\n<polygon fill=\"black\" stroke=\"black\" points=\"46.5001,-85.1043 43,-75.1043 39.5001,-85.1044 46.5001,-85.1043\"/>\r\n</g>\r\n</g>\r\n</svg>\r\n",
      "text/plain": "<graphviz.dot.Digraph at 0x175ab651828>"
     },
     "execution_count": 10,
     "metadata": {},
     "output_type": "execute_result"
    }
   ],
   "source": [
    "gcp = Digraph('coin_toss_bayes_plate')\n",
    "gcp.node('theta', label='<&theta;>')\n",
    "with gcp.subgraph(name='cluster_0') as sg:\n",
    "    sg.node('Xn', label='<X<sub>n</sub>>', style='filled')\n",
    "    sg.attr(label='n=1,...,N')\n",
    "    sg.attr(labelloc='b')\n",
    "gcp.edge('theta', 'Xn')\n",
    "gcp.render('coin_toss_bayes_plate', format='png')\n",
    "gcp"
   ]
  },
  {
   "cell_type": "markdown",
   "metadata": {},
   "source": [
    "To carry out Bayesian inference, we need the joint probability density of all variables.\n",
    "It is:\n",
    "$$\n",
    "p(x_1,\\dots,x_N, \\theta) = p(x_{1:N}|\\theta) p(\\theta) = \\left(\\prod_{n=1}p(x_n|\\theta)\\right)p(\\theta),\n",
    "$$\n",
    "where we first used Bayes' rule and then the fact that the coin tosses are independent.\n",
    "We must find the mathematical form of all these expressions.\n",
    "For $\\theta$, we simply have:\n",
    "$$\n",
    "p(\\theta) = 1_{[0,1]}(\\theta),\n",
    "$$\n",
    "where $1_A(x)$ is the indicator function of $A$, i.e., $1_A(x) = 1$ if $x$ is in $A$ and zero otherwise.\n",
    "For the Bernoulli pmf's we have:\n",
    "$$\n",
    "p(X_n = 1|\\theta) = \\theta,\n",
    "$$\n",
    "and\n",
    "$$\n",
    "p(X_n = 0|\\theta) = 1- \\theta.\n",
    "$$\n",
    "So, in a unified way, we can write:\n",
    "$$\n",
    "p(x_n | \\theta) = \\theta^{x_n}(1-\\theta)^{1-x_n}.\n",
    "$$\n",
    "Now, let's re-write the joint pmf:\n",
    "$$\n",
    "p(x_1,\\dots,x_N, \\theta) = \\theta^{\\sum_{n=1}^Nx_n}(1-\\theta)^{N-\\sum_{n=1}^Nx_n}1_{[0,1]}(\\theta),\n",
    "$$\n",
    "which has a nice interpretation as it depends only on the total number of heads $\\sum_{n=1}^Nx_n$.\n",
    "\n",
    "Now, we are in a position to apply Bayes rule to condition on the data.\n",
    "We have:\n",
    "$$\n",
    "p(\\theta|x_{1:N}) = \\frac{p(x_{1:N},\\theta)}{p(x_{1:N})} \\propto p(x_{1:N}, \\theta) = \\theta^{\\sum_{n=1}^Nx_n}(1-\\theta)^{N-\\sum_{n=1}^Nx_n}1_{[0,1]}(\\theta).\n",
    "$$\n",
    "It may be the first time you encounter this, but we have actually discovered a new distribution called the [Beta distribution](https://en.wikipedia.org/wiki/Beta_distribution).\n",
    "This is what the posterior turns out to be.\n",
    "This is one of the few instances where the posterior is analytically available.\n",
    "We will return to the example, once we introduce the Beta distribution."
   ]
  },
  {
   "cell_type": "markdown",
   "metadata": {},
   "source": [
    "## Example: The Beta distribution\n",
    "\n",
    "The Beta distribution is suitable for random variables that take values in $[0,1]$ but are not necessarily uniform.\n",
    "We write:\n",
    "$$\n",
    "X\\sim \\operatorname{Beta}(\\alpha, \\beta),\n",
    "$$\n",
    "where $\\alpha$ and $\\beta$ are positive shape parameters.\n",
    "The interpretation of the parameters is more or less this:\n",
    "+ The bigger $\\alpha$ is, the more the distribution is pulled towards zero.\n",
    "+ The bigger $\\beta$ is, the more the distribution is pulled towards one.\n",
    "\n",
    "The PDF of the Beta is:\n",
    "$$\n",
    "p(x) = \\frac{x^{\\alpha-1}(1-x)^{\\beta - 1}}{B(\\alpha,\\beta)},\n",
    "$$\n",
    "where\n",
    "$$\n",
    "B(\\alpha,\\beta) = \\frac{\\Gamma(\\alpha)\\Gamma(\\beta)}{\\Gamma(\\alpha+\\beta)},\n",
    "$$\n",
    "where $\\Gamma$ is the [Gamma function](https://en.wikipedia.org/wiki/Gamma_function).\n",
    "It's expectation is:\n",
    "$$\n",
    "\\mathbb{E}[X] = \\frac{\\alpha}{\\alpha + \\beta}.\n",
    "$$"
   ]
  },
  {
   "cell_type": "markdown",
   "metadata": {},
   "source": [
    "## Example: Inferring the probability of a coin toss from data (2/2)\n",
    "\n",
    "Now, that we know about the Beta distribution, we can write for the posterior of $\\theta$:\n",
    "$$\n",
    "p(\\theta|x_{1:N}) = \\operatorname{Beta}\\left(\\theta\\middle|1 + \\sum_{n=1}^Nx_n, 1 + N - \\sum_{n=1}^Nx_n\\right).\n",
    "$$\n",
    "where with $\\operatorname{Beta}(\\theta|\\alpha,\\beta)$ we mean the PDF of the $\\operatorname{Beta}(\\alpha,\\beta)$ evaluated at $\\theta$ (this is a very useful notation).\n",
    "So, we see that the $\\alpha$ parameter is just one plus the number of heads and the $\\beta$ parameter is one plus the number of tails.\n",
    "\n",
    "Let's try this out with some fake data."
   ]
  },
  {
   "cell_type": "code",
   "execution_count": 12,
   "metadata": {},
   "outputs": [
    {
     "data": {
      "text/plain": "<matplotlib.legend.Legend at 0x175aba55cc0>"
     },
     "execution_count": 12,
     "metadata": {},
     "output_type": "execute_result"
    },
    {
     "data": {
      "image/png": "[encoded data removed]",
      "image/svg+xml": "<?xml version=\"1.0\" encoding=\"utf-8\" standalone=\"no\"?>\r\n<!DOCTYPE svg PUBLIC \"-//W3C//DTD SVG 1.1//EN\"\r\n  \"http://www.w3.org/Graphics/SVG/1.1/DTD/svg11.dtd\">\r\n<!-- Created with matplotlib (https://matplotlib.org/) -->\r\n<svg height=\"301.406719pt\" version=\"1.1\" viewBox=\"0 0 391.69625 301.406719\" width=\"391.69625pt\" xmlns=\"http://www.w3.org/2000/svg\" xmlns:xlink=\"http://www.w3.org/1999/xlink\">\r\n <defs>\r\n  <style type=\"text/css\">\r\n*{stroke-linecap:butt;stroke-linejoin:round;}\r\n  </style>\r\n </defs>\r\n <g id=\"figure_1\">\r\n  <g id=\"patch_1\">\r\n   <path d=\"M 0 301.406719 \r\nL 391.69625 301.406719 \r\nL 391.69625 0 \r\nL 0 0 \r\nz\r\n\" style=\"fill:none;\"/>\r\n  </g>\r\n  <g id=\"axes_1\">\r\n   <g id=\"patch_2\">\r\n    <path d=\"M 40.69625 244.317187 \r\nL 375.49625 244.317187 \r\nL 375.49625 26.877187 \r\nL 40.69625 26.877187 \r\nz\r\n\" style=\"fill:#ffffff;\"/>\r\n   </g>\r\n   <g id=\"matplotlib.axis_1\">\r\n    <g id=\"xtick_1\">\r\n     <g id=\"line2d_1\">\r\n      <defs>\r\n       <path d=\"M 0 0 \r\nL 0 9 \r\n\" id=\"med6ce30502\" style=\"stroke:#000000;stroke-width:1.875;\"/>\r\n      </defs>\r\n      <g>\r\n       <use style=\"stroke:#000000;stroke-width:1.875;\" x=\"55.914432\" xlink:href=\"#med6ce30502\" y=\"244.317187\"/>\r\n      </g>\r\n     </g>\r\n     <g id=\"text_1\">\r\n      <!-- 0.0 -->\r\n      <defs>\r\n       <path d=\"M 31.78125 66.40625 \r\nQ 24.171875 66.40625 20.328125 58.90625 \r\nQ 16.5 51.421875 16.5 36.375 \r\nQ 16.5 21.390625 20.328125 13.890625 \r\nQ 24.171875 6.390625 31.78125 6.390625 \r\nQ 39.453125 6.390625 43.28125 13.890625 \r\nQ 47.125 21.390625 47.125 36.375 \r\nQ 47.125 51.421875 43.28125 58.90625 \r\nQ 39.453125 66.40625 31.78125 66.40625 \r\nz\r\nM 31.78125 74.21875 \r\nQ 44.046875 74.21875 50.515625 64.515625 \r\nQ 56.984375 54.828125 56.984375 36.375 \r\nQ 56.984375 17.96875 50.515625 8.265625 \r\nQ 44.046875 -1.421875 31.78125 -1.421875 \r\nQ 19.53125 -1.421875 13.0625 8.265625 \r\nQ 6.59375 17.96875 6.59375 36.375 \r\nQ 6.59375 54.828125 13.0625 64.515625 \r\nQ 19.53125 74.21875 31.78125 74.21875 \r\nz\r\n\" id=\"DejaVuSans-48\"/>\r\n       <path d=\"M 10.6875 12.40625 \r\nL 21 12.40625 \r\nL 21 0 \r\nL 10.6875 0 \r\nz\r\n\" id=\"DejaVuSans-46\"/>\r\n      </defs>\r\n      <g transform=\"translate(42.794354 269.354609)scale(0.165 -0.165)\">\r\n       <use xlink:href=\"#DejaVuSans-48\"/>\r\n       <use x=\"63.623047\" xlink:href=\"#DejaVuSans-46\"/>\r\n       <use x=\"95.410156\" xlink:href=\"#DejaVuSans-48\"/>\r\n      </g>\r\n     </g>\r\n    </g>\r\n    <g id=\"xtick_2\">\r\n     <g id=\"line2d_2\">\r\n      <g>\r\n       <use style=\"stroke:#000000;stroke-width:1.875;\" x=\"116.787159\" xlink:href=\"#med6ce30502\" y=\"244.317187\"/>\r\n      </g>\r\n     </g>\r\n     <g id=\"text_2\">\r\n      <!-- 0.2 -->\r\n      <defs>\r\n       <path d=\"M 19.1875 8.296875 \r\nL 53.609375 8.296875 \r\nL 53.609375 0 \r\nL 7.328125 0 \r\nL 7.328125 8.296875 \r\nQ 12.9375 14.109375 22.625 23.890625 \r\nQ 32.328125 33.6875 34.8125 36.53125 \r\nQ 39.546875 41.84375 41.421875 45.53125 \r\nQ 43.3125 49.21875 43.3125 52.78125 \r\nQ 43.3125 58.59375 39.234375 62.25 \r\nQ 35.15625 65.921875 28.609375 65.921875 \r\nQ 23.96875 65.921875 18.8125 64.3125 \r\nQ 13.671875 62.703125 7.8125 59.421875 \r\nL 7.8125 69.390625 \r\nQ 13.765625 71.78125 18.9375 73 \r\nQ 24.125 74.21875 28.421875 74.21875 \r\nQ 39.75 74.21875 46.484375 68.546875 \r\nQ 53.21875 62.890625 53.21875 53.421875 \r\nQ 53.21875 48.921875 51.53125 44.890625 \r\nQ 49.859375 40.875 45.40625 35.40625 \r\nQ 44.1875 33.984375 37.640625 27.21875 \r\nQ 31.109375 20.453125 19.1875 8.296875 \r\nz\r\n\" id=\"DejaVuSans-50\"/>\r\n      </defs>\r\n      <g transform=\"translate(103.667081 269.354609)scale(0.165 -0.165)\">\r\n       <use xlink:href=\"#DejaVuSans-48\"/>\r\n       <use x=\"63.623047\" xlink:href=\"#DejaVuSans-46\"/>\r\n       <use x=\"95.410156\" xlink:href=\"#DejaVuSans-50\"/>\r\n      </g>\r\n     </g>\r\n    </g>\r\n    <g id=\"xtick_3\">\r\n     <g id=\"line2d_3\">\r\n      <g>\r\n       <use style=\"stroke:#000000;stroke-width:1.875;\" x=\"177.659886\" xlink:href=\"#med6ce30502\" y=\"244.317187\"/>\r\n      </g>\r\n     </g>\r\n     <g id=\"text_3\">\r\n      <!-- 0.4 -->\r\n      <defs>\r\n       <path d=\"M 37.796875 64.3125 \r\nL 12.890625 25.390625 \r\nL 37.796875 25.390625 \r\nz\r\nM 35.203125 72.90625 \r\nL 47.609375 72.90625 \r\nL 47.609375 25.390625 \r\nL 58.015625 25.390625 \r\nL 58.015625 17.1875 \r\nL 47.609375 17.1875 \r\nL 47.609375 0 \r\nL 37.796875 0 \r\nL 37.796875 17.1875 \r\nL 4.890625 17.1875 \r\nL 4.890625 26.703125 \r\nz\r\n\" id=\"DejaVuSans-52\"/>\r\n      </defs>\r\n      <g transform=\"translate(164.539808 269.354609)scale(0.165 -0.165)\">\r\n       <use xlink:href=\"#DejaVuSans-48\"/>\r\n       <use x=\"63.623047\" xlink:href=\"#DejaVuSans-46\"/>\r\n       <use x=\"95.410156\" xlink:href=\"#DejaVuSans-52\"/>\r\n      </g>\r\n     </g>\r\n    </g>\r\n    <g id=\"xtick_4\">\r\n     <g id=\"line2d_4\">\r\n      <g>\r\n       <use style=\"stroke:#000000;stroke-width:1.875;\" x=\"238.532614\" xlink:href=\"#med6ce30502\" y=\"244.317187\"/>\r\n      </g>\r\n     </g>\r\n     <g id=\"text_4\">\r\n      <!-- 0.6 -->\r\n      <defs>\r\n       <path d=\"M 33.015625 40.375 \r\nQ 26.375 40.375 22.484375 35.828125 \r\nQ 18.609375 31.296875 18.609375 23.390625 \r\nQ 18.609375 15.53125 22.484375 10.953125 \r\nQ 26.375 6.390625 33.015625 6.390625 \r\nQ 39.65625 6.390625 43.53125 10.953125 \r\nQ 47.40625 15.53125 47.40625 23.390625 \r\nQ 47.40625 31.296875 43.53125 35.828125 \r\nQ 39.65625 40.375 33.015625 40.375 \r\nz\r\nM 52.59375 71.296875 \r\nL 52.59375 62.3125 \r\nQ 48.875 64.0625 45.09375 64.984375 \r\nQ 41.3125 65.921875 37.59375 65.921875 \r\nQ 27.828125 65.921875 22.671875 59.328125 \r\nQ 17.53125 52.734375 16.796875 39.40625 \r\nQ 19.671875 43.65625 24.015625 45.921875 \r\nQ 28.375 48.1875 33.59375 48.1875 \r\nQ 44.578125 48.1875 50.953125 41.515625 \r\nQ 57.328125 34.859375 57.328125 23.390625 \r\nQ 57.328125 12.15625 50.6875 5.359375 \r\nQ 44.046875 -1.421875 33.015625 -1.421875 \r\nQ 20.359375 -1.421875 13.671875 8.265625 \r\nQ 6.984375 17.96875 6.984375 36.375 \r\nQ 6.984375 53.65625 15.1875 63.9375 \r\nQ 23.390625 74.21875 37.203125 74.21875 \r\nQ 40.921875 74.21875 44.703125 73.484375 \r\nQ 48.484375 72.75 52.59375 71.296875 \r\nz\r\n\" id=\"DejaVuSans-54\"/>\r\n      </defs>\r\n      <g transform=\"translate(225.412536 269.354609)scale(0.165 -0.165)\">\r\n       <use xlink:href=\"#DejaVuSans-48\"/>\r\n       <use x=\"63.623047\" xlink:href=\"#DejaVuSans-46\"/>\r\n       <use x=\"95.410156\" xlink:href=\"#DejaVuSans-54\"/>\r\n      </g>\r\n     </g>\r\n    </g>\r\n    <g id=\"xtick_5\">\r\n     <g id=\"line2d_5\">\r\n      <g>\r\n       <use style=\"stroke:#000000;stroke-width:1.875;\" x=\"299.405341\" xlink:href=\"#med6ce30502\" y=\"244.317187\"/>\r\n      </g>\r\n     </g>\r\n     <g id=\"text_5\">\r\n      <!-- 0.8 -->\r\n      <defs>\r\n       <path d=\"M 31.78125 34.625 \r\nQ 24.75 34.625 20.71875 30.859375 \r\nQ 16.703125 27.09375 16.703125 20.515625 \r\nQ 16.703125 13.921875 20.71875 10.15625 \r\nQ 24.75 6.390625 31.78125 6.390625 \r\nQ 38.8125 6.390625 42.859375 10.171875 \r\nQ 46.921875 13.96875 46.921875 20.515625 \r\nQ 46.921875 27.09375 42.890625 30.859375 \r\nQ 38.875 34.625 31.78125 34.625 \r\nz\r\nM 21.921875 38.8125 \r\nQ 15.578125 40.375 12.03125 44.71875 \r\nQ 8.5 49.078125 8.5 55.328125 \r\nQ 8.5 64.0625 14.71875 69.140625 \r\nQ 20.953125 74.21875 31.78125 74.21875 \r\nQ 42.671875 74.21875 48.875 69.140625 \r\nQ 55.078125 64.0625 55.078125 55.328125 \r\nQ 55.078125 49.078125 51.53125 44.71875 \r\nQ 48 40.375 41.703125 38.8125 \r\nQ 48.828125 37.15625 52.796875 32.3125 \r\nQ 56.78125 27.484375 56.78125 20.515625 \r\nQ 56.78125 9.90625 50.3125 4.234375 \r\nQ 43.84375 -1.421875 31.78125 -1.421875 \r\nQ 19.734375 -1.421875 13.25 4.234375 \r\nQ 6.78125 9.90625 6.78125 20.515625 \r\nQ 6.78125 27.484375 10.78125 32.3125 \r\nQ 14.796875 37.15625 21.921875 38.8125 \r\nz\r\nM 18.3125 54.390625 \r\nQ 18.3125 48.734375 21.84375 45.5625 \r\nQ 25.390625 42.390625 31.78125 42.390625 \r\nQ 38.140625 42.390625 41.71875 45.5625 \r\nQ 45.3125 48.734375 45.3125 54.390625 \r\nQ 45.3125 60.0625 41.71875 63.234375 \r\nQ 38.140625 66.40625 31.78125 66.40625 \r\nQ 25.390625 66.40625 21.84375 63.234375 \r\nQ 18.3125 60.0625 18.3125 54.390625 \r\nz\r\n\" id=\"DejaVuSans-56\"/>\r\n      </defs>\r\n      <g transform=\"translate(286.285263 269.354609)scale(0.165 -0.165)\">\r\n       <use xlink:href=\"#DejaVuSans-48\"/>\r\n       <use x=\"63.623047\" xlink:href=\"#DejaVuSans-46\"/>\r\n       <use x=\"95.410156\" xlink:href=\"#DejaVuSans-56\"/>\r\n      </g>\r\n     </g>\r\n    </g>\r\n    <g id=\"xtick_6\">\r\n     <g id=\"line2d_6\">\r\n      <g>\r\n       <use style=\"stroke:#000000;stroke-width:1.875;\" x=\"360.278068\" xlink:href=\"#med6ce30502\" y=\"244.317187\"/>\r\n      </g>\r\n     </g>\r\n     <g id=\"text_6\">\r\n      <!-- 1.0 -->\r\n      <defs>\r\n       <path d=\"M 12.40625 8.296875 \r\nL 28.515625 8.296875 \r\nL 28.515625 63.921875 \r\nL 10.984375 60.40625 \r\nL 10.984375 69.390625 \r\nL 28.421875 72.90625 \r\nL 38.28125 72.90625 \r\nL 38.28125 8.296875 \r\nL 54.390625 8.296875 \r\nL 54.390625 0 \r\nL 12.40625 0 \r\nz\r\n\" id=\"DejaVuSans-49\"/>\r\n      </defs>\r\n      <g transform=\"translate(347.15799 269.354609)scale(0.165 -0.165)\">\r\n       <use xlink:href=\"#DejaVuSans-49\"/>\r\n       <use x=\"63.623047\" xlink:href=\"#DejaVuSans-46\"/>\r\n       <use x=\"95.410156\" xlink:href=\"#DejaVuSans-48\"/>\r\n      </g>\r\n     </g>\r\n    </g>\r\n    <g id=\"text_7\">\r\n     <!-- $\\theta$ -->\r\n     <defs>\r\n      <path d=\"M 45.515625 34.671875 \r\nL 14.453125 34.671875 \r\nQ 12.359375 20.0625 14.5 13.875 \r\nQ 17.1875 6.25 24.46875 6.25 \r\nQ 31.78125 6.25 37.359375 13.921875 \r\nQ 42.234375 20.65625 45.515625 34.671875 \r\nz\r\nM 47.015625 42.96875 \r\nQ 48.34375 56.84375 46.625 61.71875 \r\nQ 43.953125 69.4375 36.765625 69.4375 \r\nQ 29.296875 69.4375 23.828125 61.8125 \r\nQ 19.53125 55.671875 16.15625 42.96875 \r\nz\r\nM 38.1875 76.765625 \r\nQ 49.90625 76.765625 54.59375 66.40625 \r\nQ 59.28125 56.109375 55.71875 37.84375 \r\nQ 52.203125 19.625 43.453125 9.28125 \r\nQ 34.765625 -1.125 23.046875 -1.125 \r\nQ 11.28125 -1.125 6.640625 9.28125 \r\nQ 2 19.625 5.515625 37.84375 \r\nQ 9.078125 56.109375 17.71875 66.40625 \r\nQ 26.421875 76.765625 38.1875 76.765625 \r\nz\r\n\" id=\"DejaVuSans-Oblique-952\"/>\r\n     </defs>\r\n     <g transform=\"translate(202.51625 290.463281)scale(0.18 -0.18)\">\r\n      <use transform=\"translate(0 0.234375)\" xlink:href=\"#DejaVuSans-Oblique-952\"/>\r\n     </g>\r\n    </g>\r\n   </g>\r\n   <g id=\"matplotlib.axis_2\">\r\n    <g id=\"ytick_1\">\r\n     <g id=\"line2d_7\">\r\n      <defs>\r\n       <path d=\"M 0 0 \r\nL -9 0 \r\n\" id=\"mc8087162aa\" style=\"stroke:#000000;stroke-width:1.875;\"/>\r\n      </defs>\r\n      <g>\r\n       <use style=\"stroke:#000000;stroke-width:1.875;\" x=\"40.69625\" xlink:href=\"#mc8087162aa\" y=\"234.433551\"/>\r\n      </g>\r\n     </g>\r\n     <g id=\"text_8\">\r\n      <!-- 0 -->\r\n      <g transform=\"translate(17.698125 240.702262)scale(0.165 -0.165)\">\r\n       <use xlink:href=\"#DejaVuSans-48\"/>\r\n      </g>\r\n     </g>\r\n    </g>\r\n    <g id=\"ytick_2\">\r\n     <g id=\"line2d_8\">\r\n      <g>\r\n       <use style=\"stroke:#000000;stroke-width:1.875;\" x=\"40.69625\" xlink:href=\"#mc8087162aa\" y=\"170.234275\"/>\r\n      </g>\r\n     </g>\r\n     <g id=\"text_9\">\r\n      <!-- 5 -->\r\n      <defs>\r\n       <path d=\"M 10.796875 72.90625 \r\nL 49.515625 72.90625 \r\nL 49.515625 64.59375 \r\nL 19.828125 64.59375 \r\nL 19.828125 46.734375 \r\nQ 21.96875 47.46875 24.109375 47.828125 \r\nQ 26.265625 48.1875 28.421875 48.1875 \r\nQ 40.625 48.1875 47.75 41.5 \r\nQ 54.890625 34.8125 54.890625 23.390625 \r\nQ 54.890625 11.625 47.5625 5.09375 \r\nQ 40.234375 -1.421875 26.90625 -1.421875 \r\nQ 22.3125 -1.421875 17.546875 -0.640625 \r\nQ 12.796875 0.140625 7.71875 1.703125 \r\nL 7.71875 11.625 \r\nQ 12.109375 9.234375 16.796875 8.0625 \r\nQ 21.484375 6.890625 26.703125 6.890625 \r\nQ 35.15625 6.890625 40.078125 11.328125 \r\nQ 45.015625 15.765625 45.015625 23.390625 \r\nQ 45.015625 31 40.078125 35.4375 \r\nQ 35.15625 39.890625 26.703125 39.890625 \r\nQ 22.75 39.890625 18.8125 39.015625 \r\nQ 14.890625 38.140625 10.796875 36.28125 \r\nz\r\n\" id=\"DejaVuSans-53\"/>\r\n      </defs>\r\n      <g transform=\"translate(17.698125 176.502986)scale(0.165 -0.165)\">\r\n       <use xlink:href=\"#DejaVuSans-53\"/>\r\n      </g>\r\n     </g>\r\n    </g>\r\n    <g id=\"ytick_3\">\r\n     <g id=\"line2d_9\">\r\n      <g>\r\n       <use style=\"stroke:#000000;stroke-width:1.875;\" x=\"40.69625\" xlink:href=\"#mc8087162aa\" y=\"106.034999\"/>\r\n      </g>\r\n     </g>\r\n     <g id=\"text_10\">\r\n      <!-- 10 -->\r\n      <g transform=\"translate(7.2 112.303709)scale(0.165 -0.165)\">\r\n       <use xlink:href=\"#DejaVuSans-49\"/>\r\n       <use x=\"63.623047\" xlink:href=\"#DejaVuSans-48\"/>\r\n      </g>\r\n     </g>\r\n    </g>\r\n    <g id=\"ytick_4\">\r\n     <g id=\"line2d_10\">\r\n      <g>\r\n       <use style=\"stroke:#000000;stroke-width:1.875;\" x=\"40.69625\" xlink:href=\"#mc8087162aa\" y=\"41.835722\"/>\r\n      </g>\r\n     </g>\r\n     <g id=\"text_11\">\r\n      <!-- 15 -->\r\n      <g transform=\"translate(7.2 48.104433)scale(0.165 -0.165)\">\r\n       <use xlink:href=\"#DejaVuSans-49\"/>\r\n       <use x=\"63.623047\" xlink:href=\"#DejaVuSans-53\"/>\r\n      </g>\r\n     </g>\r\n    </g>\r\n   </g>\r\n   <g id=\"line2d_11\">\r\n    <defs>\r\n     <path d=\"M 0 5 \r\nC 1.326016 5 2.597899 4.473168 3.535534 3.535534 \r\nC 4.473168 2.597899 5 1.326016 5 0 \r\nC 5 -1.326016 4.473168 -2.597899 3.535534 -3.535534 \r\nC 2.597899 -4.473168 1.326016 -5 0 -5 \r\nC -1.326016 -5 -2.597899 -4.473168 -3.535534 -3.535534 \r\nC -4.473168 -2.597899 -5 -1.326016 -5 0 \r\nC -5 1.326016 -4.473168 2.597899 -3.535534 3.535534 \r\nC -2.597899 4.473168 -1.326016 5 0 5 \r\nz\r\n\" id=\"m30e11a1633\" style=\"stroke:#1f77b4;stroke-width:2;\"/>\r\n    </defs>\r\n    <g clip-path=\"url(#p50baad169e)\">\r\n     <use style=\"fill:#1f77b4;stroke:#1f77b4;stroke-width:2;\" x=\"299.405341\" xlink:href=\"#m30e11a1633\" y=\"234.433551\"/>\r\n    </g>\r\n   </g>\r\n   <g id=\"line2d_12\">\r\n    <path clip-path=\"url(#p50baad169e)\" d=\"M 55.914432 234.433551 \r\nL 58.988812 234.433551 \r\nL 62.063192 234.433551 \r\nL 65.137572 234.433551 \r\nL 68.211952 234.433551 \r\nL 71.286333 234.433551 \r\nL 74.360713 234.433551 \r\nL 77.435093 234.433551 \r\nL 80.509473 234.433551 \r\nL 83.583853 234.433551 \r\nL 86.658233 234.433551 \r\nL 89.732614 234.433551 \r\nL 92.806994 234.433551 \r\nL 95.881374 234.433551 \r\nL 98.955754 234.433551 \r\nL 102.030134 234.433551 \r\nL 105.104514 234.433551 \r\nL 108.178895 234.433551 \r\nL 111.253275 234.433551 \r\nL 114.327655 234.433551 \r\nL 117.402035 234.433551 \r\nL 120.476415 234.433551 \r\nL 123.550795 234.433551 \r\nL 126.625176 234.433551 \r\nL 129.699556 234.433551 \r\nL 132.773936 234.433551 \r\nL 135.848316 234.433551 \r\nL 138.922696 234.433551 \r\nL 141.997076 234.433551 \r\nL 145.071457 234.433551 \r\nL 148.145837 234.433551 \r\nL 151.220217 234.433551 \r\nL 154.294597 234.433551 \r\nL 157.368977 234.433551 \r\nL 160.443357 234.433551 \r\nL 163.517738 234.433551 \r\nL 166.592118 234.433551 \r\nL 169.666498 234.433551 \r\nL 172.740878 234.433551 \r\nL 175.815258 234.433551 \r\nL 178.889638 234.433551 \r\nL 181.964019 234.433551 \r\nL 185.038399 234.433551 \r\nL 188.112779 234.433551 \r\nL 191.187159 234.433551 \r\nL 194.261539 234.433551 \r\nL 197.335919 234.433551 \r\nL 200.4103 234.433551 \r\nL 203.48468 234.433551 \r\nL 206.55906 234.433551 \r\nL 209.63344 234.433551 \r\nL 212.70782 234.433551 \r\nL 215.7822 234.433551 \r\nL 218.856581 234.433551 \r\nL 221.930961 234.433551 \r\nL 225.005341 234.433551 \r\nL 228.079721 234.433551 \r\nL 231.154101 234.433551 \r\nL 234.228481 234.433551 \r\nL 237.302862 234.433551 \r\nL 240.377242 234.433551 \r\nL 243.451622 234.433551 \r\nL 246.526002 234.433551 \r\nL 249.600382 234.433551 \r\nL 252.674762 234.43355 \r\nL 255.749143 234.433543 \r\nL 258.823523 234.433508 \r\nL 261.897903 234.43335 \r\nL 264.972283 234.432672 \r\nL 268.046663 234.429974 \r\nL 271.121043 234.419993 \r\nL 274.195424 234.385749 \r\nL 277.269804 234.277061 \r\nL 280.344184 233.958899 \r\nL 283.418564 233.103106 \r\nL 286.492944 230.997657 \r\nL 289.567324 226.28722 \r\nL 292.641705 216.774986 \r\nL 295.716085 199.607962 \r\nL 298.790465 172.30389 \r\nL 301.864845 134.842381 \r\nL 304.939225 92.138065 \r\nL 308.013605 54.926929 \r\nL 311.087986 36.760824 \r\nL 314.162366 47.008284 \r\nL 317.236746 83.958517 \r\nL 320.311126 134.222672 \r\nL 323.385506 180.479743 \r\nL 326.459886 211.70129 \r\nL 329.534267 227.247192 \r\nL 332.608647 232.821088 \r\nL 335.683027 234.195417 \r\nL 338.757407 234.412731 \r\nL 341.831787 234.432629 \r\nL 344.906167 234.433535 \r\nL 347.980548 234.433551 \r\nL 351.054928 234.433551 \r\nL 354.129308 234.433551 \r\nL 357.203688 234.433551 \r\nL 360.278068 234.433551 \r\n\" style=\"fill:none;stroke:#ff7f0e;stroke-linecap:square;stroke-width:2.25;\"/>\r\n   </g>\r\n   <g id=\"patch_3\">\r\n    <path d=\"M 40.69625 244.317187 \r\nL 40.69625 26.877187 \r\n\" style=\"fill:none;stroke:#000000;stroke-linecap:square;stroke-linejoin:miter;stroke-width:1.875;\"/>\r\n   </g>\r\n   <g id=\"patch_4\">\r\n    <path d=\"M 375.49625 244.317187 \r\nL 375.49625 26.877187 \r\n\" style=\"fill:none;stroke:#000000;stroke-linecap:square;stroke-linejoin:miter;stroke-width:1.875;\"/>\r\n   </g>\r\n   <g id=\"patch_5\">\r\n    <path d=\"M 40.69625 244.317187 \r\nL 375.49625 244.317187 \r\n\" style=\"fill:none;stroke:#000000;stroke-linecap:square;stroke-linejoin:miter;stroke-width:1.875;\"/>\r\n   </g>\r\n   <g id=\"patch_6\">\r\n    <path d=\"M 40.69625 26.877187 \r\nL 375.49625 26.877187 \r\n\" style=\"fill:none;stroke:#000000;stroke-linecap:square;stroke-linejoin:miter;stroke-width:1.875;\"/>\r\n   </g>\r\n   <g id=\"text_12\">\r\n    <!-- $N=200$ -->\r\n    <defs>\r\n     <path d=\"M 16.890625 72.90625 \r\nL 30.171875 72.90625 \r\nL 50.296875 10.40625 \r\nL 62.5 72.90625 \r\nL 72.125 72.90625 \r\nL 57.90625 0 \r\nL 44.578125 0 \r\nL 24.515625 62.890625 \r\nL 12.3125 0 \r\nL 2.6875 0 \r\nz\r\n\" id=\"DejaVuSans-Oblique-78\"/>\r\n     <path d=\"M 10.59375 45.40625 \r\nL 73.1875 45.40625 \r\nL 73.1875 37.203125 \r\nL 10.59375 37.203125 \r\nz\r\nM 10.59375 25.484375 \r\nL 73.1875 25.484375 \r\nL 73.1875 17.1875 \r\nL 10.59375 17.1875 \r\nz\r\n\" id=\"DejaVuSans-61\"/>\r\n    </defs>\r\n    <g transform=\"translate(173.08625 20.877187)scale(0.18 -0.18)\">\r\n     <use transform=\"translate(0 0.78125)\" xlink:href=\"#DejaVuSans-Oblique-78\"/>\r\n     <use transform=\"translate(94.287109 0.78125)\" xlink:href=\"#DejaVuSans-61\"/>\r\n     <use transform=\"translate(197.558594 0.78125)\" xlink:href=\"#DejaVuSans-50\"/>\r\n     <use transform=\"translate(261.181641 0.78125)\" xlink:href=\"#DejaVuSans-48\"/>\r\n     <use transform=\"translate(324.804688 0.78125)\" xlink:href=\"#DejaVuSans-48\"/>\r\n    </g>\r\n   </g>\r\n   <g id=\"legend_1\">\r\n    <g id=\"patch_7\">\r\n     <path d=\"M 52.24625 89.211094 \r\nL 192.795312 89.211094 \r\nQ 196.095313 89.211094 196.095313 85.911094 \r\nL 196.095313 38.427188 \r\nQ 196.095313 35.127187 192.795312 35.127187 \r\nL 52.24625 35.127187 \r\nQ 48.94625 35.127187 48.94625 38.427188 \r\nL 48.94625 85.911094 \r\nQ 48.94625 89.211094 52.24625 89.211094 \r\nz\r\n\" style=\"fill:#ffffff;opacity:0.8;stroke:#cccccc;stroke-linejoin:miter;stroke-width:1.5;\"/>\r\n    </g>\r\n    <g id=\"line2d_13\"/>\r\n    <g id=\"line2d_14\">\r\n     <g>\r\n      <use style=\"fill:#1f77b4;stroke:#1f77b4;stroke-width:2;\" x=\"72.04625\" xlink:href=\"#m30e11a1633\" y=\"48.489609\"/>\r\n     </g>\r\n    </g>\r\n    <g id=\"text_13\">\r\n     <!-- True value -->\r\n     <defs>\r\n      <path d=\"M -0.296875 72.90625 \r\nL 61.375 72.90625 \r\nL 61.375 64.59375 \r\nL 35.5 64.59375 \r\nL 35.5 0 \r\nL 25.59375 0 \r\nL 25.59375 64.59375 \r\nL -0.296875 64.59375 \r\nz\r\n\" id=\"DejaVuSans-84\"/>\r\n      <path d=\"M 41.109375 46.296875 \r\nQ 39.59375 47.171875 37.8125 47.578125 \r\nQ 36.03125 48 33.890625 48 \r\nQ 26.265625 48 22.1875 43.046875 \r\nQ 18.109375 38.09375 18.109375 28.8125 \r\nL 18.109375 0 \r\nL 9.078125 0 \r\nL 9.078125 54.6875 \r\nL 18.109375 54.6875 \r\nL 18.109375 46.1875 \r\nQ 20.953125 51.171875 25.484375 53.578125 \r\nQ 30.03125 56 36.53125 56 \r\nQ 37.453125 56 38.578125 55.875 \r\nQ 39.703125 55.765625 41.0625 55.515625 \r\nz\r\n\" id=\"DejaVuSans-114\"/>\r\n      <path d=\"M 8.5 21.578125 \r\nL 8.5 54.6875 \r\nL 17.484375 54.6875 \r\nL 17.484375 21.921875 \r\nQ 17.484375 14.15625 20.5 10.265625 \r\nQ 23.53125 6.390625 29.59375 6.390625 \r\nQ 36.859375 6.390625 41.078125 11.03125 \r\nQ 45.3125 15.671875 45.3125 23.6875 \r\nL 45.3125 54.6875 \r\nL 54.296875 54.6875 \r\nL 54.296875 0 \r\nL 45.3125 0 \r\nL 45.3125 8.40625 \r\nQ 42.046875 3.421875 37.71875 1 \r\nQ 33.40625 -1.421875 27.6875 -1.421875 \r\nQ 18.265625 -1.421875 13.375 4.4375 \r\nQ 8.5 10.296875 8.5 21.578125 \r\nz\r\nM 31.109375 56 \r\nz\r\n\" id=\"DejaVuSans-117\"/>\r\n      <path d=\"M 56.203125 29.59375 \r\nL 56.203125 25.203125 \r\nL 14.890625 25.203125 \r\nQ 15.484375 15.921875 20.484375 11.0625 \r\nQ 25.484375 6.203125 34.421875 6.203125 \r\nQ 39.59375 6.203125 44.453125 7.46875 \r\nQ 49.3125 8.734375 54.109375 11.28125 \r\nL 54.109375 2.78125 \r\nQ 49.265625 0.734375 44.1875 -0.34375 \r\nQ 39.109375 -1.421875 33.890625 -1.421875 \r\nQ 20.796875 -1.421875 13.15625 6.1875 \r\nQ 5.515625 13.8125 5.515625 26.8125 \r\nQ 5.515625 40.234375 12.765625 48.109375 \r\nQ 20.015625 56 32.328125 56 \r\nQ 43.359375 56 49.78125 48.890625 \r\nQ 56.203125 41.796875 56.203125 29.59375 \r\nz\r\nM 47.21875 32.234375 \r\nQ 47.125 39.59375 43.09375 43.984375 \r\nQ 39.0625 48.390625 32.421875 48.390625 \r\nQ 24.90625 48.390625 20.390625 44.140625 \r\nQ 15.875 39.890625 15.1875 32.171875 \r\nz\r\n\" id=\"DejaVuSans-101\"/>\r\n      <path id=\"DejaVuSans-32\"/>\r\n      <path d=\"M 2.984375 54.6875 \r\nL 12.5 54.6875 \r\nL 29.59375 8.796875 \r\nL 46.6875 54.6875 \r\nL 56.203125 54.6875 \r\nL 35.6875 0 \r\nL 23.484375 0 \r\nz\r\n\" id=\"DejaVuSans-118\"/>\r\n      <path d=\"M 34.28125 27.484375 \r\nQ 23.390625 27.484375 19.1875 25 \r\nQ 14.984375 22.515625 14.984375 16.5 \r\nQ 14.984375 11.71875 18.140625 8.90625 \r\nQ 21.296875 6.109375 26.703125 6.109375 \r\nQ 34.1875 6.109375 38.703125 11.40625 \r\nQ 43.21875 16.703125 43.21875 25.484375 \r\nL 43.21875 27.484375 \r\nz\r\nM 52.203125 31.203125 \r\nL 52.203125 0 \r\nL 43.21875 0 \r\nL 43.21875 8.296875 \r\nQ 40.140625 3.328125 35.546875 0.953125 \r\nQ 30.953125 -1.421875 24.3125 -1.421875 \r\nQ 15.921875 -1.421875 10.953125 3.296875 \r\nQ 6 8.015625 6 15.921875 \r\nQ 6 25.140625 12.171875 29.828125 \r\nQ 18.359375 34.515625 30.609375 34.515625 \r\nL 43.21875 34.515625 \r\nL 43.21875 35.40625 \r\nQ 43.21875 41.609375 39.140625 45 \r\nQ 35.0625 48.390625 27.6875 48.390625 \r\nQ 23 48.390625 18.546875 47.265625 \r\nQ 14.109375 46.140625 10.015625 43.890625 \r\nL 10.015625 52.203125 \r\nQ 14.9375 54.109375 19.578125 55.046875 \r\nQ 24.21875 56 28.609375 56 \r\nQ 40.484375 56 46.34375 49.84375 \r\nQ 52.203125 43.703125 52.203125 31.203125 \r\nz\r\n\" id=\"DejaVuSans-97\"/>\r\n      <path d=\"M 9.421875 75.984375 \r\nL 18.40625 75.984375 \r\nL 18.40625 0 \r\nL 9.421875 0 \r\nz\r\n\" id=\"DejaVuSans-108\"/>\r\n     </defs>\r\n     <g transform=\"translate(101.74625 54.264609)scale(0.165 -0.165)\">\r\n      <use xlink:href=\"#DejaVuSans-84\"/>\r\n      <use x=\"60.865234\" xlink:href=\"#DejaVuSans-114\"/>\r\n      <use x=\"101.978516\" xlink:href=\"#DejaVuSans-117\"/>\r\n      <use x=\"165.357422\" xlink:href=\"#DejaVuSans-101\"/>\r\n      <use x=\"226.880859\" xlink:href=\"#DejaVuSans-32\"/>\r\n      <use x=\"258.667969\" xlink:href=\"#DejaVuSans-118\"/>\r\n      <use x=\"317.847656\" xlink:href=\"#DejaVuSans-97\"/>\r\n      <use x=\"379.126953\" xlink:href=\"#DejaVuSans-108\"/>\r\n      <use x=\"406.910156\" xlink:href=\"#DejaVuSans-117\"/>\r\n      <use x=\"470.289062\" xlink:href=\"#DejaVuSans-101\"/>\r\n     </g>\r\n    </g>\r\n    <g id=\"line2d_15\">\r\n     <path d=\"M 55.54625 72.876094 \r\nL 88.54625 72.876094 \r\n\" style=\"fill:none;stroke:#ff7f0e;stroke-linecap:square;stroke-width:2.25;\"/>\r\n    </g>\r\n    <g id=\"line2d_16\"/>\r\n    <g id=\"text_14\">\r\n     <!-- $p(\\theta|x_{1:N})$ -->\r\n     <defs>\r\n      <path d=\"M 49.609375 33.6875 \r\nQ 49.609375 40.875 46.484375 44.671875 \r\nQ 43.359375 48.484375 37.5 48.484375 \r\nQ 33.5 48.484375 29.859375 46.4375 \r\nQ 26.21875 44.390625 23.390625 40.484375 \r\nQ 20.609375 36.625 18.9375 31.15625 \r\nQ 17.28125 25.6875 17.28125 20.3125 \r\nQ 17.28125 13.484375 20.40625 9.796875 \r\nQ 23.53125 6.109375 29.296875 6.109375 \r\nQ 33.546875 6.109375 37.1875 8.109375 \r\nQ 40.828125 10.109375 43.40625 13.921875 \r\nQ 46.1875 17.921875 47.890625 23.34375 \r\nQ 49.609375 28.765625 49.609375 33.6875 \r\nz\r\nM 21.78125 46.390625 \r\nQ 25.390625 51.125 30.296875 53.5625 \r\nQ 35.203125 56 41.21875 56 \r\nQ 49.609375 56 54.25 50.5 \r\nQ 58.890625 45.015625 58.890625 35.109375 \r\nQ 58.890625 27 56 19.65625 \r\nQ 53.125 12.3125 47.703125 6.5 \r\nQ 44.09375 2.640625 39.546875 0.609375 \r\nQ 35.015625 -1.421875 29.984375 -1.421875 \r\nQ 24.171875 -1.421875 20.21875 1 \r\nQ 16.265625 3.421875 14.3125 8.203125 \r\nL 8.6875 -20.796875 \r\nL -0.296875 -20.796875 \r\nL 14.40625 54.6875 \r\nL 23.390625 54.6875 \r\nz\r\n\" id=\"DejaVuSans-Oblique-112\"/>\r\n      <path d=\"M 31 75.875 \r\nQ 24.46875 64.65625 21.28125 53.65625 \r\nQ 18.109375 42.671875 18.109375 31.390625 \r\nQ 18.109375 20.125 21.3125 9.0625 \r\nQ 24.515625 -2 31 -13.1875 \r\nL 23.1875 -13.1875 \r\nQ 15.875 -1.703125 12.234375 9.375 \r\nQ 8.59375 20.453125 8.59375 31.390625 \r\nQ 8.59375 42.28125 12.203125 53.3125 \r\nQ 15.828125 64.359375 23.1875 75.875 \r\nz\r\n\" id=\"DejaVuSans-40\"/>\r\n      <path d=\"M 21 76.421875 \r\nL 21 -23.578125 \r\nL 12.703125 -23.578125 \r\nL 12.703125 76.421875 \r\nz\r\n\" id=\"DejaVuSans-124\"/>\r\n      <path d=\"M 60.015625 54.6875 \r\nL 34.90625 27.875 \r\nL 50.296875 0 \r\nL 39.984375 0 \r\nL 28.421875 21.6875 \r\nL 8.296875 0 \r\nL -2.59375 0 \r\nL 24.3125 28.8125 \r\nL 10.015625 54.6875 \r\nL 20.3125 54.6875 \r\nL 30.8125 34.90625 \r\nL 49.125 54.6875 \r\nz\r\n\" id=\"DejaVuSans-Oblique-120\"/>\r\n      <path d=\"M 11.71875 12.40625 \r\nL 22.015625 12.40625 \r\nL 22.015625 0 \r\nL 11.71875 0 \r\nz\r\nM 11.71875 51.703125 \r\nL 22.015625 51.703125 \r\nL 22.015625 39.3125 \r\nL 11.71875 39.3125 \r\nz\r\n\" id=\"DejaVuSans-58\"/>\r\n      <path d=\"M 8.015625 75.875 \r\nL 15.828125 75.875 \r\nQ 23.140625 64.359375 26.78125 53.3125 \r\nQ 30.421875 42.28125 30.421875 31.390625 \r\nQ 30.421875 20.453125 26.78125 9.375 \r\nQ 23.140625 -1.703125 15.828125 -13.1875 \r\nL 8.015625 -13.1875 \r\nQ 14.5 -2 17.703125 9.0625 \r\nQ 20.90625 20.125 20.90625 31.390625 \r\nQ 20.90625 42.671875 17.703125 53.65625 \r\nQ 14.5 64.65625 8.015625 75.875 \r\nz\r\n\" id=\"DejaVuSans-41\"/>\r\n     </defs>\r\n     <g transform=\"translate(101.74625 78.651094)scale(0.165 -0.165)\">\r\n      <use transform=\"translate(0 0.234375)\" xlink:href=\"#DejaVuSans-Oblique-112\"/>\r\n      <use transform=\"translate(63.476562 0.234375)\" xlink:href=\"#DejaVuSans-40\"/>\r\n      <use transform=\"translate(102.490234 0.234375)\" xlink:href=\"#DejaVuSans-Oblique-952\"/>\r\n      <use transform=\"translate(163.671875 0.234375)\" xlink:href=\"#DejaVuSans-124\"/>\r\n      <use transform=\"translate(197.363281 0.234375)\" xlink:href=\"#DejaVuSans-Oblique-120\"/>\r\n      <use transform=\"translate(256.542969 -16.171875)scale(0.7)\" xlink:href=\"#DejaVuSans-49\"/>\r\n      <use transform=\"translate(314.716797 -16.171875)scale(0.7)\" xlink:href=\"#DejaVuSans-58\"/>\r\n      <use transform=\"translate(351.938477 -16.171875)scale(0.7)\" xlink:href=\"#DejaVuSans-Oblique-78\"/>\r\n      <use transform=\"translate(407.036133 0.234375)\" xlink:href=\"#DejaVuSans-41\"/>\r\n     </g>\r\n    </g>\r\n   </g>\r\n  </g>\r\n </g>\r\n <defs>\r\n  <clipPath id=\"p50baad169e\">\r\n   <rect height=\"217.44\" width=\"334.8\" x=\"40.69625\" y=\"26.877187\"/>\r\n  </clipPath>\r\n </defs>\r\n</svg>\r\n",
      "text/plain": "<Figure size 432x288 with 1 Axes>"
     },
     "metadata": {
      "needs_background": "light"
     },
     "output_type": "display_data"
    }
   ],
   "source": [
    "# Take a fake coin which is a little bit biased\n",
    "theta_true = 0.8\n",
    "# This is the random variable corresponding to a coin toss\n",
    "X = st.bernoulli(theta_true)\n",
    "# Sample from it a number of times to generate our data = (x1, ..., xN)\n",
    "N = 200\n",
    "data = X.rvs(size=N)\n",
    "# Now we are ready to calculate the posterior which the Beta we have above\n",
    "alpha = 1.0 + data.sum()\n",
    "beta = 1.0 + N - data.sum()\n",
    "Theta_post = st.beta(alpha, beta)\n",
    "# Now we can plot the posterior PDF for theta\n",
    "fig, ax = plt.subplots()\n",
    "thetas = np.linspace(0, 1, 100)\n",
    "ax.plot([theta_true], [0.0], 'o', markeredgewidth=2, markersize=10, label='True value')\n",
    "ax.plot(thetas, Theta_post.pdf(thetas), label=r'$p(\\theta|x_{1:N})$')\n",
    "ax.set_xlabel(r'$\\theta$')\n",
    "ax.set_title('$N={0:d}$'.format(N))\n",
    "plt.legend(loc='best')"
   ]
  },
  {
   "cell_type": "markdown",
   "metadata": {},
   "source": [
    "### Questions\n",
    "\n",
    "+ Experiment with different values of $\\theta_{\\text{true}}$ and different values of $N$.\n",
    "+ Is the true value always covered by the posterior PDF?"
   ]
  }
 ],
 "metadata": {
  "anaconda-cloud": {},
  "kernelspec": {
   "display_name": "Python 3",
   "language": "python",
   "name": "python3"
  },
  "language_info": {
   "codemirror_mode": {
    "name": "ipython",
    "version": 3
   },
   "file_extension": ".py",
   "mimetype": "text/x-python",
   "name": "python",
   "nbconvert_exporter": "python",
   "pygments_lexer": "ipython3",
   "version": "3.6.10-final"
  },
  "latex_envs": {
   "bibliofile": "biblio.bib",
   "cite_by": "apalike",
   "current_citInitial": 1,
   "eqLabelWithNumbers": true,
   "eqNumInitial": 0
  },
  "widgets": {
   "state": {
    "968a18c908c6495081a9936faebe0473": {
     "views": [
      {
       "cell_index": 11
      }
     ]
    }
   },
   "version": "1.2.0"
  }
 },
 "nbformat": 4,
 "nbformat_minor": 2
}