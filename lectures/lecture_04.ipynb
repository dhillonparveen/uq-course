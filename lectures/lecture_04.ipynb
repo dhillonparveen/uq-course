{
 "cells": [
  {
   "cell_type": "markdown",
   "metadata": {
    "colab_type": "text",
    "id": "wZ2FFdxgTVfQ"
   },
   "source": [
    "# Lecture 4: Introduction to Probability Theory (Part II)"
   ]
  },
  {
   "cell_type": "markdown",
   "metadata": {
    "colab_type": "text",
    "id": "hXIJBJQ-TVfU"
   },
   "source": [
    "## Objectives\n",
    "\n",
    "+ To introduce the concept of a probability space.\n",
    "+ To introduce the concept of discrete random variables.\n",
    "+ To introduce the probability mass function and the cumulative distribution function.\n",
    "+ To learn about the expectation and variance of a random variable.\n",
    "+ To introduce joint probability mass function.\n",
    "+ To learn how one can condition a random variable on observations of another.\n",
    "+ To introduce the concept of independent random variables.\n",
    "+ To learn about some basic discrete random variables."
   ]
  },
  {
   "cell_type": "markdown",
   "metadata": {
    "colab_type": "text",
    "id": "JaTfOtFSTVfX"
   },
   "source": [
    "## Readings\n",
    "\n",
    "+ These notes.\n",
    "+ The wikipedia page for the [Bernoulli distribution](https://en.wikipedia.org/wiki/Bernoulli_distribution).\n",
    "+ The wikipedia page for the [Binomial distribution](https://en.wikipedia.org/wiki/Binomial_distribution).\n",
    "+ The wikipedia page for the [Poisson distribution](https://en.wikipedia.org/wiki/Poisson_distribution)."
   ]
  },
  {
   "cell_type": "code",
   "execution_count": 1,
   "metadata": {},
   "outputs": [],
   "source": [
    "%matplotlib inline\n",
    "import matplotlib.pyplot as plt\n",
    "import seaborn as sns\n",
    "sns.set_context('talk')\n",
    "import numpy as np"
   ]
  },
  {
   "cell_type": "markdown",
   "metadata": {
    "colab_type": "text",
    "id": "v9dswPH5TVfh"
   },
   "source": [
    "## Probability spaces\n",
    "\n",
    "In whatever we write below, everything is conditioned on our current information $I$.\n",
    "Because this information is always on the background, we will not be explictily showing it in our notation.\n",
    "\n",
    "Assume that we are doing an experiment.\n",
    "It doesn't matter what exactly the experiment is.\n",
    "The result of the experiment depends on the values of some physical variables $\\omega$ which may be unknown to us (epistemic uncertainty) or truly random (aleatory uncertainty).\n",
    "In the language of mathematical probability theory, this $\\omega$ is called an **event**.\n",
    "The space of all possible $\\omega$'s, denoted by $\\Omega$, is called the **event space**.\n",
    "For today, assume that $\\Omega$ is a discrete space (otherwise things become a little bit more complicated).\n",
    "\n",
    "Since, we are uncertain about which $\\omega$ will appear in nature, we need to assign probabilities over the possible values.\n",
    "Ideally, what we would like to have is some function $\\mathbb{P}(A)$ that takes an arbitrary subset $A$ of $\\Omega$ and tells us how probable it is.\n",
    "That $\\mathbb{P}$ is a function from all subsets of $\\Omega$, $\\mathcal{F} = \\mathcal{P}(\\Omega)$, to the real numbers:\n",
    "$$\n",
    "\\mathbb{P}: \\mathcal{F} \\rightarrow \\mathbb{R},\n",
    "$$\n",
    "There are a few things that this function should satisfy for all $A$ in $\\mathcal{F}$\n",
    "+ It should be nonnegative, i.e., $\\mathbb{P}(A)\\ge 0$.\n",
    "+ One of the $\\omega$'s must happen, $\\mathbb{P}(\\Omega) = 1$.\n",
    "+ The obvious rule $\\mathbb{P}(A^c) = 1 - \\mathbb{P}(A)$, where $A^c = \\Omega\\setminus A$ is the complement of $A$.\n",
    "When these properties are satisfied, we say that $\\mathbb{P}$ is a probability measure on $\\mathcal{F}$.\n",
    "\n",
    "The triplet $(\\Omega, \\mathcal{F}, \\mathbb{P})$ is called a **probability space**.\n",
    "\n",
    "Note: If we wanted to show the background information we would be writting $\\mathbb{P}[A|I]$."
   ]
  },
  {
   "cell_type": "markdown",
   "metadata": {
    "colab_type": "text",
    "id": "j9vfYQPWTVfj"
   },
   "source": [
    "## The mathematical definition of a random variable\n",
    "\n",
    "Now assume that we are doing a specific experiment that measures something, say an integer.\n",
    "Assume that the physical variables that determine what is the result of the experiment are $\\omega$ and they take values in a set $\\Omega$.\n",
    "We are uncertain about the $\\omega$'s and we have described this uncertainty using a probability measure $\\mathbb{P}$ on some subsets $\\mathcal{F}$ of $\\Omega$.\n",
    "Call $X$ the result of the experiment.\n",
    "The graph is as follows:"
   ]
  },
  {
   "cell_type": "code",
   "execution_count": 2,
   "metadata": {},
   "outputs": [
    {
     "data": {
      "image/svg+xml": "<?xml version=\"1.0\" encoding=\"UTF-8\" standalone=\"no\"?>\r\n<!DOCTYPE svg PUBLIC \"-//W3C//DTD SVG 1.1//EN\"\r\n \"http://www.w3.org/Graphics/SVG/1.1/DTD/svg11.dtd\">\r\n<!-- Generated by graphviz version 2.38.0 (20140413.2041)\r\n -->\r\n<!-- Title: omega_X Pages: 1 -->\r\n<svg width=\"62pt\" height=\"116pt\"\r\n viewBox=\"0.00 0.00 62.00 116.00\" xmlns=\"http://www.w3.org/2000/svg\" xmlns:xlink=\"http://www.w3.org/1999/xlink\">\r\n<g id=\"graph0\" class=\"graph\" transform=\"scale(1 1) rotate(0) translate(4 112)\">\r\n<title>omega_X</title>\r\n<polygon fill=\"white\" stroke=\"none\" points=\"-4,4 -4,-112 58,-112 58,4 -4,4\"/>\r\n<!-- omega -->\r\n<g id=\"node1\" class=\"node\"><title>omega</title>\r\n<ellipse fill=\"none\" stroke=\"black\" cx=\"27\" cy=\"-90\" rx=\"27\" ry=\"18\"/>\r\n<text text-anchor=\"start\" x=\"22\" y=\"-86.3\" font-family=\"Times New Roman,serif\" font-size=\"14.00\">ω</text>\r\n</g>\r\n<!-- X -->\r\n<g id=\"node2\" class=\"node\"><title>X</title>\r\n<ellipse fill=\"none\" stroke=\"black\" cx=\"27\" cy=\"-18\" rx=\"27\" ry=\"18\"/>\r\n<text text-anchor=\"middle\" x=\"27\" y=\"-14.3\" font-family=\"Times New Roman,serif\" font-size=\"14.00\">X</text>\r\n</g>\r\n<!-- omega&#45;&gt;X -->\r\n<g id=\"edge1\" class=\"edge\"><title>omega&#45;&gt;X</title>\r\n<path fill=\"none\" stroke=\"black\" d=\"M27,-71.6966C27,-63.9827 27,-54.7125 27,-46.1124\"/>\r\n<polygon fill=\"black\" stroke=\"black\" points=\"30.5001,-46.1043 27,-36.1043 23.5001,-46.1044 30.5001,-46.1043\"/>\r\n</g>\r\n</g>\r\n</svg>\r\n",
      "text/plain": "<graphviz.dot.Digraph at 0x2216d5991d0>"
     },
     "execution_count": 2,
     "metadata": {},
     "output_type": "execute_result"
    }
   ],
   "source": [
    "from graphviz import Digraph\n",
    "g = Digraph('omega_X')\n",
    "g.node('omega', label='<&omega;>')\n",
    "g.node('X')\n",
    "g.edge('omega', 'X')\n",
    "g.render('omega_X', format='png')\n",
    "g"
   ]
  },
  {
   "cell_type": "markdown",
   "metadata": {
    "colab_type": "text",
    "id": "2RUXuSc1TVfr"
   },
   "source": [
    "This brings us to the mathematical definition of a random variable:\n",
    "\n",
    "> A random variable is a function of the event space $X(\\omega)$.\n",
    "\n",
    "Note: if the event space is not discrete, we need some more restrictions on these functions.\n",
    "You need to take a probability theory course to learn about the technical details.\n",
    "\n",
    "Now, if $X(\\omega)$ takes discrete values, like heads or tails, $0, 1, 2$, etc., then we say that $X$ is a discrete random variable.\n",
    "If $X(\\omega)$ takes continuous values, like real numbers, then we say that $X$ is a continuous random variables.\n",
    "Today, we are only going to work with discrete random variables.\n",
    "\n",
    "Notation:\n",
    "+ We will be using upper case letters to represent random variables, like $X, Y, Z$.\n",
    "+ We will be using lower case letters to represent the values of random variables, like $x, y, z$."
   ]
  },
  {
   "cell_type": "markdown",
   "metadata": {
    "colab_type": "text",
    "id": "WqDInTPdTVfs"
   },
   "source": [
    "### Example: The random variable corresponding to the result of a coin toss (1/2)\n",
    "\n",
    "Let's consider again the coin tossing example we introduced in the previous lecture.\n",
    "\n",
    "![Coin flipping](coin_flipping.png)\n",
    "\n",
    "Remember that we denoted with $v_0$ and $\\omega_0$ the initial velocity and angular velocity of the coin.\n",
    "Then, we showed that the variable $X$ representing the coin toss can be predicted exactly, if we knew $v_0$ and $\\omega_0$.\n",
    "Specifically, we derived the following relationship between the result of the coin toss and the initial conditions:\n",
    "$$\n",
    "X = \n",
    "\\begin{cases}\n",
    "T,&\\;\\text{if}\\;\\frac{2v_0\\omega_0}{g} (\\text{mod}\\;2\\pi) \\in \\left(\\frac{\\pi}{2},\\frac{3\\pi}{2}\\right),\\\\\n",
    "H,&\\;\\text{otherwise}.\n",
    "\\end{cases}\n",
    "$$\n",
    "Graphically, this relationship can be represented by:"
   ]
  },
  {
   "cell_type": "code",
   "execution_count": 3,
   "metadata": {},
   "outputs": [
    {
     "data": {
      "image/svg+xml": "<?xml version=\"1.0\" encoding=\"UTF-8\" standalone=\"no\"?>\r\n<!DOCTYPE svg PUBLIC \"-//W3C//DTD SVG 1.1//EN\"\r\n \"http://www.w3.org/Graphics/SVG/1.1/DTD/svg11.dtd\">\r\n<!-- Generated by graphviz version 2.38.0 (20140413.2041)\r\n -->\r\n<!-- Title: coin_toss_g Pages: 1 -->\r\n<svg width=\"206pt\" height=\"116pt\"\r\n viewBox=\"0.00 0.00 206.00 116.00\" xmlns=\"http://www.w3.org/2000/svg\" xmlns:xlink=\"http://www.w3.org/1999/xlink\">\r\n<g id=\"graph0\" class=\"graph\" transform=\"scale(1 1) rotate(0) translate(4 112)\">\r\n<title>coin_toss_g</title>\r\n<polygon fill=\"white\" stroke=\"none\" points=\"-4,4 -4,-112 202,-112 202,4 -4,4\"/>\r\n<!-- omega0 -->\r\n<g id=\"node1\" class=\"node\"><title>omega0</title>\r\n<ellipse fill=\"none\" stroke=\"black\" cx=\"27\" cy=\"-90\" rx=\"27\" ry=\"18\"/>\r\n<text text-anchor=\"start\" x=\"18.5\" y=\"-87.3\" font-family=\"Times New Roman,serif\" font-size=\"14.00\">ω</text>\r\n<text text-anchor=\"start\" x=\"28.5\" y=\"-87.3\" font-family=\"Times New Roman,serif\" baseline-shift=\"sub\" font-size=\"14.00\">0</text>\r\n</g>\r\n<!-- X -->\r\n<g id=\"node4\" class=\"node\"><title>X</title>\r\n<ellipse fill=\"none\" stroke=\"black\" cx=\"99\" cy=\"-18\" rx=\"27\" ry=\"18\"/>\r\n<text text-anchor=\"middle\" x=\"99\" y=\"-14.3\" font-family=\"Times New Roman,serif\" font-size=\"14.00\">X</text>\r\n</g>\r\n<!-- omega0&#45;&gt;X -->\r\n<g id=\"edge3\" class=\"edge\"><title>omega0&#45;&gt;X</title>\r\n<path fill=\"none\" stroke=\"black\" d=\"M41.5703,-74.8345C51.7499,-64.9376 65.5239,-51.5462 77.0306,-40.3591\"/>\r\n<polygon fill=\"black\" stroke=\"black\" points=\"79.4741,-42.865 84.2043,-33.3847 74.5945,-37.8461 79.4741,-42.865\"/>\r\n</g>\r\n<!-- v0 -->\r\n<g id=\"node2\" class=\"node\"><title>v0</title>\r\n<ellipse fill=\"none\" stroke=\"black\" cx=\"99\" cy=\"-90\" rx=\"27\" ry=\"18\"/>\r\n<text text-anchor=\"start\" x=\"92\" y=\"-87.3\" font-family=\"Times New Roman,serif\" font-size=\"14.00\">v</text>\r\n<text text-anchor=\"start\" x=\"99\" y=\"-87.3\" font-family=\"Times New Roman,serif\" baseline-shift=\"sub\" font-size=\"14.00\">0</text>\r\n</g>\r\n<!-- v0&#45;&gt;X -->\r\n<g id=\"edge2\" class=\"edge\"><title>v0&#45;&gt;X</title>\r\n<path fill=\"none\" stroke=\"black\" d=\"M99,-71.6966C99,-63.9827 99,-54.7125 99,-46.1124\"/>\r\n<polygon fill=\"black\" stroke=\"black\" points=\"102.5,-46.1043 99,-36.1043 95.5001,-46.1044 102.5,-46.1043\"/>\r\n</g>\r\n<!-- g -->\r\n<g id=\"node3\" class=\"node\"><title>g</title>\r\n<ellipse fill=\"lightgrey\" stroke=\"black\" cx=\"171\" cy=\"-90\" rx=\"27\" ry=\"18\"/>\r\n<text text-anchor=\"middle\" x=\"171\" y=\"-86.3\" font-family=\"Times New Roman,serif\" font-size=\"14.00\">g</text>\r\n</g>\r\n<!-- g&#45;&gt;X -->\r\n<g id=\"edge1\" class=\"edge\"><title>g&#45;&gt;X</title>\r\n<path fill=\"none\" stroke=\"black\" d=\"M156.43,-74.8345C146.25,-64.9376 132.476,-51.5462 120.969,-40.3591\"/>\r\n<polygon fill=\"black\" stroke=\"black\" points=\"123.405,-37.8461 113.796,-33.3847 118.526,-42.865 123.405,-37.8461\"/>\r\n</g>\r\n</g>\r\n</svg>\r\n",
      "text/plain": "<graphviz.dot.Digraph at 0x2216d5dadd8>"
     },
     "execution_count": 3,
     "metadata": {},
     "output_type": "execute_result"
    }
   ],
   "source": [
    "from graphviz import Digraph\n",
    "gct = Digraph('coin_toss_g')\n",
    "gct.node('omega0', label='<&omega;<sub>0</sub>>')\n",
    "gct.node('v0', label='<v<sub>0</sub>>')\n",
    "gct.node('g', style='filled')\n",
    "gct.node('X')\n",
    "gct.edge('g', 'X')\n",
    "gct.edge('v0', 'X')\n",
    "gct.edge('omega0', 'X')\n",
    "gct.render('coin_toss_g', format='png')\n",
    "gct"
   ]
  },
  {
   "cell_type": "markdown",
   "metadata": {
    "colab_type": "text",
    "id": "fAk-O8v3TVf0"
   },
   "source": [
    "Then, we argued that the uncertainty about the value of $X$ is induced by our uncertainty about the values of $v_0$ and $\\omega_0$.\n",
    "It is not that the coin toss is random.\n",
    "It is described in extreme detail by Newton's laws.\n",
    "It is that we do not know what the initial conditions are.\n",
    "So, the state of nature is captured by $(v_0,\\omega_0)$.\n",
    "Notice that essentially the variable $X$ is a function of $(v_0,\\omega_0)$.\n",
    "We can write:\n",
    "$$\n",
    "X = X(v_0, \\omega_0).\n",
    "$$\n",
    "You see that the result of the coin toss $X$ is nothing more but a function of the *true state of nature* $(v_0, \\omega_0)$.\n",
    "It is just that the value of $X$ is uncertain because the state of nature is uncertain.\n",
    "$X$ is an example of a random variable."
   ]
  },
  {
   "cell_type": "markdown",
   "metadata": {
    "colab_type": "text",
    "id": "kM7RpF6kTVf2"
   },
   "source": [
    "## The probability mass function\n",
    "\n",
    "Take a discrete random variable $X$ defined on some probability space $(\\Omega, \\mathcal{F}, \\mathbb{P})$.\n",
    "Without loss of generality, assume that $X$ can potentially take infinite $\\mathbb{N} = \\{1,2,\\dots\\}$.\n",
    "Why is this sufficient?\n",
    "\n",
    "+ If $X$ takes finite values then we can simply set the probability of values after a given number equal to zero.\n",
    "+ If the values are of another type (e.g., heads and tails) you can just map them to the natural numbers.\n",
    "\n",
    "The probability mass function of the random variable $X$, denoted by $f_X(x)$, gives the probability of $X$ taking the value $x$.\n",
    "Mathematically, it is defined by:\n",
    "$$\n",
    "f_X(x) := \\mathbb{P}(X=x) = \\mathbb{P}\\left(\\{\\omega: X(\\omega) = x\\}\\right).\n",
    "$$\n",
    "Notice that we are just gathering in a set all the states of nature $\\omega$ that give an experiment with value $x$, $X=k$, and then we find probability of that set.\n",
    "\n",
    "If you are 100\\% sure about which random variable you are talking about,\n",
    "feel free to use the much simpler notation:\n",
    "$$\n",
    "p(x) \\equiv p(X=x) \\equiv f_X(x) = \\mathbb{P}\\left(\\{\\omega: X(\\omega) = x\\}\\right).\n",
    "$$\n",
    "This is the notation we will employ from this point on.\n",
    "We will only use the strict mathematical notation when we have no choice.\n",
    "\n",
    "Note: If we wanted to show the background information we would be writing $p(x|I)$."
   ]
  },
  {
   "cell_type": "markdown",
   "metadata": {
    "colab_type": "text",
    "id": "KT-Ws1wQTVf3"
   },
   "source": [
    "### Properties of the probability mass function\n",
    "\n",
    "There are some standard properties of the probability mass function that is worth memorizing:\n",
    "\n",
    "+ The probability mass function is nonnegative:\n",
    "$$\n",
    "p(x) \\ge 0,\n",
    "$$\n",
    "for all $x$ in $\\mathbb{N}$.\n",
    "+ The probability mass function is normalized:\n",
    "$$\n",
    "\\sum_{x=0}^\\infty p(x) = 1.\n",
    "$$\n",
    "This is a direct consequence of the fact that $X$ must take a value.\n",
    "+ Take any set of possible values of $X$, $A$. The probability of $X$ taking values in $A$ is:\n",
    "$$\n",
    "p(X\\in A) = \\sum_{x\\in A} p(x).\n",
    "$$"
   ]
  },
  {
   "cell_type": "markdown",
   "metadata": {
    "colab_type": "text",
    "id": "gfQBfhcoTVf4"
   },
   "source": [
    "### Example: The random variable corresponding to the result of a coin toss (2/2)\n",
    "\n",
    "Let's write down the probability mass function of the coin toss random variable $X$.\n",
    "Without loss of generality, we can map heads to the number $0$ and tails to the number $1$.\n",
    "We need to specify the probability of one of these events, as the probability of the other one is trivially defined.\n",
    "For a fair coin we have:\n",
    "$$\n",
    "p(X=0) = \\text{probability of heads} = \\frac{1}{2}.\n",
    "$$\n",
    "From this, because of the normalization constraint:\n",
    "$$\n",
    "p(X=0) + p(X=1) = 1,\n",
    "$$\n",
    "we get that:\n",
    "$$\n",
    "p(X=1) = \\frac{1}{2}.\n",
    "$$\n",
    "This is an example of a special random variable taking two discrete values $0$ and $1$, which we call the Bernoulli random variable.\n",
    "We will see it in an example later on."
   ]
  },
  {
   "cell_type": "markdown",
   "metadata": {
    "colab_type": "text",
    "id": "caB-hoczTVf5"
   },
   "source": [
    "## Functions of discrete random variables\n",
    "\n",
    "Consider a random variable $X$ taking values in $\\mathbb{N}$ with probability mass function $p(x)$.\n",
    "Now, consider a function $g(x)$.\n",
    "We can now define a new random variable:\n",
    "$$\n",
    "Y = g(X).\n",
    "$$\n",
    "The this random variable takes values in:\n",
    "$$\n",
    "g(\\mathbb{N}) := \\{g(x): x \\in \\mathbb{N}\\}.\n",
    "$$\n",
    "It has its own probability mass function (pmf) which we can define using the pmf of $X$:\n",
    "$$\n",
    "p(y) = p(Y = y) = p(X\\in g^{-1}(y)) = \\sum_{x\\in g^{-1}(y)} p(x),\n",
    "$$\n",
    "where $g^{-1}(y)$ is the set of $x$'s that map to $y$ through $g$, i.e.,\n",
    "$$\n",
    "g^{-1}(y) := \\{x\\in\\mathbb{N}: g(x) = y\\}.\n",
    "$$\n",
    "\n",
    "This is formal definition of the uncertainty propagation problem.\n",
    "The correspondence is that $X$ represents the parameters of a physical model, and $Y = g(X)$ is the uncertain result of the physical model."
   ]
  },
  {
   "cell_type": "markdown",
   "metadata": {
    "colab_type": "text",
    "id": "JAAfYbcTTVf5"
   },
   "source": [
    "## Expectation of random variables\n",
    "\n",
    "The expectation of a random variable is defined to be:\n",
    "$$\n",
    "\\mathbb{E}[X] = \\sum_{x=0}^\\infty x p(x).\n",
    "$$\n",
    "You can think of the expectation as the value of the random variable that one should \"expect\" to get.\n",
    "However, take this interpretation with a grain of salt because it may be a value that the random variable has a zero probability of getting...\n",
    "\n",
    "### Example: Expectation of a coin toss\n",
    "The expectation of the coin toss random variable is:\n",
    "$$\n",
    "\\mathbb{E}[X] = 0\\cdot p(X=0) + 1\\cdot p(X=1) = 0.5.\n",
    "$$\n",
    "Of course, this is not a value that the random variable can get.\n",
    "\n",
    "### Properties of the expectation\n",
    "Here are some properties of the expectation.\n",
    "The proof of some of these properties will be given as homework.\n",
    "+ Take any constant $c$. Then we have:\n",
    "$$\n",
    "\\mathbb{E}[X + c] = \\mathbb{E}[X] + c.\n",
    "$$\n",
    "+ For any $\\lambda$ real number, we also have:\n",
    "$$\n",
    "\\mathbb{E}[\\lambda X] = \\lambda \\mathbb{E}[X].\n",
    "$$\n",
    "+ Take two random variables $X$ and $Y$. Then we have:\n",
    "$$\n",
    "\\mathbb{E}[X + Y] = \\mathbb{E}[X] + \\mathbb{E}[Y].\n",
    "$$\n",
    "+ Now consider any function $g(x)$.\n",
    "We can now define the expectation of $g(X)$ as the expectation of the random variable $Y = g(X)$.\n",
    "It is quite easy to show that:\n",
    "$$\n",
    "\\mathbb{E}[g(X)] = \\sum_{x=0}^\\infty g(x) p(x).\n",
    "$$\n",
    "+ Assume that $g(x)$ is a convex function, then:\n",
    "$$\n",
    "g\\left(\\mathbb{E}[X]\\right) \\le \\mathbb{E}[g(X)].\n",
    "$$\n",
    "This is known as Jensen's inequality."
   ]
  },
  {
   "cell_type": "markdown",
   "metadata": {
    "colab_type": "text",
    "id": "GjiB-vsCTVf7"
   },
   "source": [
    "## Variance of random variables\n",
    "\n",
    "The variance of a random variable $X$ is defined as the expectation of the square deviation from its expectation, i.e.:\n",
    "$$\n",
    "\\mathbb{V}[X] := \\mathbb{E}\\left[(X - \\mathbb{E}[X])^2\\right].\n",
    "$$\n",
    "You can think of the variance as the spread of the random variable around its expectation.\n",
    "However, do not take this too literally for discrete random variables.\n",
    "\n",
    "### Example: Variance of a coin toss\n",
    "Let's calculate the variance of the coin toss.\n",
    "We need:\n",
    "$$\n",
    "\\mathbb{E}\\left[X^2\\right] = 0^2\\cdot p(X=0) + 1^2 \\cdot p(X=1) = 0.5.\n",
    "$$\n",
    "So, using the formula above we get:\n",
    "$$\n",
    "\\mathbb{V}[X] = \\mathbb{E}\\left[X^2\\right] - \\left(\\mathbb{E}[X]\\right)^2 = 0.5 - (0.5)^2 = 0.5 - 0.25 = 0.25.\n",
    "$$\n",
    "\n",
    "### Properties of the variance\n",
    "Here are some properties of the variance.\n",
    "+ It holds that:\n",
    "$$\n",
    "\\mathbb{V}[X] = \\mathbb{E}\\left[X^2\\right] - \\left(\\mathbb{E}[X]\\right)^2.\n",
    "$$\n",
    "+ For any constant $c$, we have:\n",
    "$$\n",
    "\\mathbb{V}[X + c] = \\mathbb{V}[X].\n",
    "$$\n",
    "+ For any constant $c$, we have:\n",
    "$$\n",
    "\\mathbb{V}[cX] = c^2\\mathbb{V}[X].\n",
    "$$"
   ]
  },
  {
   "cell_type": "markdown",
   "metadata": {
    "colab_type": "text",
    "id": "D7W7N1gdTVf9"
   },
   "source": [
    "## Example: The Bernoulli random variable (1/2)\n",
    "\n",
    "Bernoulli random variable generalizes the concept of a coin toss.\n",
    "You can think of it as the result of an experiment with two possible outcomes $0$ and $1$.\n",
    "One just needs to specify the probability of one of the outcomes, typically the probability of zero.\n",
    "So, how do we denote mathematically a Bernoulli random variable $X$ that takes the value $1$ with probability $\\theta$ in $[0,1]$?\n",
    "We can write:\n",
    "$$\n",
    "X = \\begin{cases} 1,\\;\\text{with probability}\\;\\theta,\\\\\n",
    "0,\\;\\text{otherwise}.\n",
    "\\end{cases}\n",
    "$$\n",
    "Notice that in defining this random variable we are ignoring the mechanism that is giving rise to it.\n",
    "This is ok. It just means that we have decided to not look into it.\n",
    "The other way we can write this is as follows:\n",
    "$$\n",
    "X \\sim \\operatorname{Bernoulli}(\\theta).\n",
    "$$\n",
    "The expectation of the Bernoulli is:\n",
    "$$\n",
    "\\mathbb{E}[X] = \\sum_x x p(X=x) = 0\\cdot (1-\\theta) + 1\\cdot \\theta = \\theta.\n",
    "$$\n",
    "Similarly, the variance of the Bernoulli is:\n",
    "$$\n",
    "\\mathbb{V}[X] = \\mathbb{E}[X^2] - \\left(\\mathbb{E}[X]\\right)^2 = \\theta - \\theta^2 = \\theta(1-\\theta).\n",
    "$$\n",
    "Let's use the functionality of ``scipy.stats`` to define a Bernoulli random variable and sample from it."
   ]
  },
  {
   "cell_type": "code",
   "execution_count": 4,
   "metadata": {},
   "outputs": [],
   "source": [
    "# Import the scipy.stats library\n",
    "import scipy.stats as st\n",
    "# This is the probability of 1:\n",
    "theta = 0.6\n",
    "# Define the random variable, Bernoulli(theta)\n",
    "X = st.bernoulli(theta)"
   ]
  },
  {
   "cell_type": "code",
   "execution_count": 5,
   "metadata": {},
   "outputs": [
    {
     "name": "stdout",
     "output_type": "stream",
     "text": "X takes values in (0, 1)\n"
    }
   ],
   "source": [
    "# Here is the **support** of the random variable. It tells you which variables it takes:\n",
    "print('X takes values in', X.support())"
   ]
  },
  {
   "cell_type": "code",
   "execution_count": 11,
   "metadata": {},
   "outputs": [
    {
     "name": "stdout",
     "output_type": "stream",
     "text": "p(X=0) = 0.40\np(X=1) = 0.60\n"
    }
   ],
   "source": [
    "# Evaluate the probability mass function at every point of the support\n",
    "for x in X.support():\n",
    "    print('p(X={0:d}) = {1:1.2f}'.format(x, X.pmf(x)))"
   ]
  },
  {
   "cell_type": "code",
   "execution_count": 12,
   "metadata": {},
   "outputs": [
    {
     "name": "stdout",
     "output_type": "stream",
     "text": "p(X=0) = 0.40\np(X=1) = 1.00\n"
    }
   ],
   "source": [
    "# Evaluate the cumulative distribution function at every point of the support\n",
    "for x in X.support():\n",
    "    print('p(X={0:d}) = {1:1.2f}'.format(x, X.cdf(x)))"
   ]
  },
  {
   "cell_type": "code",
   "execution_count": 14,
   "metadata": {},
   "outputs": [
    {
     "name": "stdout",
     "output_type": "stream",
     "text": "[0 1 0 1 0 1 1 0 0 0 1 0 0 1 1 1 0 1 0 1 1 1 1 0 1 1 0 1 1 1 0 0 1 1 0 0 0\n 1 1 1 0 1 0 1 1 0 0 0 0 1 1 0 1 0 0 1 0 0 0 1 0 0 1 0 1 1 1 1 0 1 0 0 1 1\n 1 1 0 0 1 0 1 0 1 1 1 1 0 0 1 0 1 0 1 1 0 1 1 1 1 0]\n"
    }
   ],
   "source": [
    "# Sample the random variable 100 times:\n",
    "xs = X.rvs(100)\n",
    "print(xs)"
   ]
  },
  {
   "cell_type": "code",
   "execution_count": 16,
   "metadata": {},
   "outputs": [
    {
     "name": "stdout",
     "output_type": "stream",
     "text": "E[X] = 0.60\n"
    }
   ],
   "source": [
    "# The expectation of the Bernoulli:\n",
    "print('E[X] = {0:1.2f}'.format(X.expect()))"
   ]
  },
  {
   "cell_type": "code",
   "execution_count": 17,
   "metadata": {},
   "outputs": [
    {
     "name": "stdout",
     "output_type": "stream",
     "text": "V[X] = 0.24\n"
    }
   ],
   "source": [
    "# The variance of the Bernoulli:\n",
    "print('V[X] = {0:1.2f}'.format(X.var()))"
   ]
  },
  {
   "cell_type": "markdown",
   "metadata": {
    "colab_type": "text",
    "id": "DB_kSGGETVgY"
   },
   "source": [
    "### Questions\n",
    "\n",
    "+ Rerun the code above for $\\theta = 0.8$.\n",
    "+ Verify using your calculation that ``scipy.stats`` is giving the correct expectation and variance.\n",
    "+ Plot the histogram of 1000 random samples from $X$."
   ]
  },
  {
   "cell_type": "code",
   "execution_count": 19,
   "metadata": {},
   "outputs": [],
   "source": [
    "# Import the scipy.stats library\n",
    "import scipy.stats as st\n",
    "# This is the probability of 1:\n",
    "theta = 0.8\n",
    "# Define the random variable, Bernoulli(theta)\n",
    "Y = st.bernoulli(theta)"
   ]
  },
  {
   "cell_type": "code",
   "execution_count": 21,
   "metadata": {},
   "outputs": [
    {
     "name": "stdout",
     "output_type": "stream",
     "text": "p(Y=0) = 0.20\np(Y=1) = 0.80\n"
    }
   ],
   "source": [
    "for y in Y.support():\n",
    "    print('p(Y={0:d}) = {1:1.2f}'.format(y,Y.pmf(y)))"
   ]
  },
  {
   "cell_type": "code",
   "execution_count": 22,
   "metadata": {},
   "outputs": [
    {
     "name": "stdout",
     "output_type": "stream",
     "text": "E[Y] = 0.80\n"
    }
   ],
   "source": [
    "print('E[Y] = {0:1.2f}'.format(Y.expect()))"
   ]
  },
  {
   "cell_type": "code",
   "execution_count": 23,
   "metadata": {},
   "outputs": [
    {
     "name": "stdout",
     "output_type": "stream",
     "text": "V[Y] = 0.16\n"
    }
   ],
   "source": [
    "print('V[Y] = {0:1.2f}'.format(Y.var()))"
   ]
  },
  {
   "cell_type": "code",
   "execution_count": 31,
   "metadata": {},
   "outputs": [
    {
     "data": {
      "image/png": "[encoded data removed]",
      "image/svg+xml": "<?xml version=\"1.0\" encoding=\"utf-8\" standalone=\"no\"?>\r\n<!DOCTYPE svg PUBLIC \"-//W3C//DTD SVG 1.1//EN\"\r\n  \"http://www.w3.org/Graphics/SVG/1.1/DTD/svg11.dtd\">\r\n<!-- Created with matplotlib (https://matplotlib.org/) -->\r\n<svg height=\"281.729531pt\" version=\"1.1\" viewBox=\"0 0 393.61875 281.729531\" width=\"393.61875pt\" xmlns=\"http://www.w3.org/2000/svg\" xmlns:xlink=\"http://www.w3.org/1999/xlink\">\r\n <defs>\r\n  <style type=\"text/css\">\r\n*{stroke-linecap:butt;stroke-linejoin:round;}\r\n  </style>\r\n </defs>\r\n <g id=\"figure_1\">\r\n  <g id=\"patch_1\">\r\n   <path d=\"M 0 281.729531 \r\nL 393.61875 281.729531 \r\nL 393.61875 0 \r\nL 0 0 \r\nz\r\n\" style=\"fill:none;\"/>\r\n  </g>\r\n  <g id=\"axes_1\">\r\n   <g id=\"patch_2\">\r\n    <path d=\"M 51.61875 224.64 \r\nL 386.41875 224.64 \r\nL 386.41875 7.2 \r\nL 51.61875 7.2 \r\nz\r\n\" style=\"fill:#ffffff;\"/>\r\n   </g>\r\n   <g id=\"patch_3\">\r\n    <path clip-path=\"url(#p531299de97)\" d=\"M 66.836932 224.64 \r\nL 97.273295 224.64 \r\nL 97.273295 174.156418 \r\nL 66.836932 174.156418 \r\nz\r\n\" style=\"fill:#1f77b4;\"/>\r\n   </g>\r\n   <g id=\"patch_4\">\r\n    <path clip-path=\"url(#p531299de97)\" d=\"M 97.273295 224.64 \r\nL 127.709659 224.64 \r\nL 127.709659 224.64 \r\nL 97.273295 224.64 \r\nz\r\n\" style=\"fill:#1f77b4;\"/>\r\n   </g>\r\n   <g id=\"patch_5\">\r\n    <path clip-path=\"url(#p531299de97)\" d=\"M 127.709659 224.64 \r\nL 158.146023 224.64 \r\nL 158.146023 224.64 \r\nL 127.709659 224.64 \r\nz\r\n\" style=\"fill:#1f77b4;\"/>\r\n   </g>\r\n   <g id=\"patch_6\">\r\n    <path clip-path=\"url(#p531299de97)\" d=\"M 158.146023 224.64 \r\nL 188.582386 224.64 \r\nL 188.582386 224.64 \r\nL 158.146023 224.64 \r\nz\r\n\" style=\"fill:#1f77b4;\"/>\r\n   </g>\r\n   <g id=\"patch_7\">\r\n    <path clip-path=\"url(#p531299de97)\" d=\"M 188.582386 224.64 \r\nL 219.01875 224.64 \r\nL 219.01875 224.64 \r\nL 188.582386 224.64 \r\nz\r\n\" style=\"fill:#1f77b4;\"/>\r\n   </g>\r\n   <g id=\"patch_8\">\r\n    <path clip-path=\"url(#p531299de97)\" d=\"M 219.01875 224.64 \r\nL 249.455114 224.64 \r\nL 249.455114 224.64 \r\nL 219.01875 224.64 \r\nz\r\n\" style=\"fill:#1f77b4;\"/>\r\n   </g>\r\n   <g id=\"patch_9\">\r\n    <path clip-path=\"url(#p531299de97)\" d=\"M 249.455114 224.64 \r\nL 279.891477 224.64 \r\nL 279.891477 224.64 \r\nL 249.455114 224.64 \r\nz\r\n\" style=\"fill:#1f77b4;\"/>\r\n   </g>\r\n   <g id=\"patch_10\">\r\n    <path clip-path=\"url(#p531299de97)\" d=\"M 279.891477 224.64 \r\nL 310.327841 224.64 \r\nL 310.327841 224.64 \r\nL 279.891477 224.64 \r\nz\r\n\" style=\"fill:#1f77b4;\"/>\r\n   </g>\r\n   <g id=\"patch_11\">\r\n    <path clip-path=\"url(#p531299de97)\" d=\"M 310.327841 224.64 \r\nL 340.764205 224.64 \r\nL 340.764205 224.64 \r\nL 310.327841 224.64 \r\nz\r\n\" style=\"fill:#1f77b4;\"/>\r\n   </g>\r\n   <g id=\"patch_12\">\r\n    <path clip-path=\"url(#p531299de97)\" d=\"M 340.764205 224.64 \r\nL 371.200568 224.64 \r\nL 371.200568 17.554286 \r\nL 340.764205 17.554286 \r\nz\r\n\" style=\"fill:#1f77b4;\"/>\r\n   </g>\r\n   <g id=\"matplotlib.axis_1\">\r\n    <g id=\"xtick_1\">\r\n     <g id=\"line2d_1\">\r\n      <defs>\r\n       <path d=\"M 0 0 \r\nL 0 9 \r\n\" id=\"m262bf1fb0d\" style=\"stroke:#000000;stroke-width:1.875;\"/>\r\n      </defs>\r\n      <g>\r\n       <use style=\"stroke:#000000;stroke-width:1.875;\" x=\"66.836932\" xlink:href=\"#m262bf1fb0d\" y=\"224.64\"/>\r\n      </g>\r\n     </g>\r\n     <g id=\"text_1\">\r\n      <!-- 0.0 -->\r\n      <defs>\r\n       <path d=\"M 31.78125 66.40625 \r\nQ 24.171875 66.40625 20.328125 58.90625 \r\nQ 16.5 51.421875 16.5 36.375 \r\nQ 16.5 21.390625 20.328125 13.890625 \r\nQ 24.171875 6.390625 31.78125 6.390625 \r\nQ 39.453125 6.390625 43.28125 13.890625 \r\nQ 47.125 21.390625 47.125 36.375 \r\nQ 47.125 51.421875 43.28125 58.90625 \r\nQ 39.453125 66.40625 31.78125 66.40625 \r\nz\r\nM 31.78125 74.21875 \r\nQ 44.046875 74.21875 50.515625 64.515625 \r\nQ 56.984375 54.828125 56.984375 36.375 \r\nQ 56.984375 17.96875 50.515625 8.265625 \r\nQ 44.046875 -1.421875 31.78125 -1.421875 \r\nQ 19.53125 -1.421875 13.0625 8.265625 \r\nQ 6.59375 17.96875 6.59375 36.375 \r\nQ 6.59375 54.828125 13.0625 64.515625 \r\nQ 19.53125 74.21875 31.78125 74.21875 \r\nz\r\n\" id=\"DejaVuSans-48\"/>\r\n       <path d=\"M 10.6875 12.40625 \r\nL 21 12.40625 \r\nL 21 0 \r\nL 10.6875 0 \r\nz\r\n\" id=\"DejaVuSans-46\"/>\r\n      </defs>\r\n      <g transform=\"translate(53.716854 249.677422)scale(0.165 -0.165)\">\r\n       <use xlink:href=\"#DejaVuSans-48\"/>\r\n       <use x=\"63.623047\" xlink:href=\"#DejaVuSans-46\"/>\r\n       <use x=\"95.410156\" xlink:href=\"#DejaVuSans-48\"/>\r\n      </g>\r\n     </g>\r\n    </g>\r\n    <g id=\"xtick_2\">\r\n     <g id=\"line2d_2\">\r\n      <g>\r\n       <use style=\"stroke:#000000;stroke-width:1.875;\" x=\"127.709659\" xlink:href=\"#m262bf1fb0d\" y=\"224.64\"/>\r\n      </g>\r\n     </g>\r\n     <g id=\"text_2\">\r\n      <!-- 0.2 -->\r\n      <defs>\r\n       <path d=\"M 19.1875 8.296875 \r\nL 53.609375 8.296875 \r\nL 53.609375 0 \r\nL 7.328125 0 \r\nL 7.328125 8.296875 \r\nQ 12.9375 14.109375 22.625 23.890625 \r\nQ 32.328125 33.6875 34.8125 36.53125 \r\nQ 39.546875 41.84375 41.421875 45.53125 \r\nQ 43.3125 49.21875 43.3125 52.78125 \r\nQ 43.3125 58.59375 39.234375 62.25 \r\nQ 35.15625 65.921875 28.609375 65.921875 \r\nQ 23.96875 65.921875 18.8125 64.3125 \r\nQ 13.671875 62.703125 7.8125 59.421875 \r\nL 7.8125 69.390625 \r\nQ 13.765625 71.78125 18.9375 73 \r\nQ 24.125 74.21875 28.421875 74.21875 \r\nQ 39.75 74.21875 46.484375 68.546875 \r\nQ 53.21875 62.890625 53.21875 53.421875 \r\nQ 53.21875 48.921875 51.53125 44.890625 \r\nQ 49.859375 40.875 45.40625 35.40625 \r\nQ 44.1875 33.984375 37.640625 27.21875 \r\nQ 31.109375 20.453125 19.1875 8.296875 \r\nz\r\n\" id=\"DejaVuSans-50\"/>\r\n      </defs>\r\n      <g transform=\"translate(114.589581 249.677422)scale(0.165 -0.165)\">\r\n       <use xlink:href=\"#DejaVuSans-48\"/>\r\n       <use x=\"63.623047\" xlink:href=\"#DejaVuSans-46\"/>\r\n       <use x=\"95.410156\" xlink:href=\"#DejaVuSans-50\"/>\r\n      </g>\r\n     </g>\r\n    </g>\r\n    <g id=\"xtick_3\">\r\n     <g id=\"line2d_3\">\r\n      <g>\r\n       <use style=\"stroke:#000000;stroke-width:1.875;\" x=\"188.582386\" xlink:href=\"#m262bf1fb0d\" y=\"224.64\"/>\r\n      </g>\r\n     </g>\r\n     <g id=\"text_3\">\r\n      <!-- 0.4 -->\r\n      <defs>\r\n       <path d=\"M 37.796875 64.3125 \r\nL 12.890625 25.390625 \r\nL 37.796875 25.390625 \r\nz\r\nM 35.203125 72.90625 \r\nL 47.609375 72.90625 \r\nL 47.609375 25.390625 \r\nL 58.015625 25.390625 \r\nL 58.015625 17.1875 \r\nL 47.609375 17.1875 \r\nL 47.609375 0 \r\nL 37.796875 0 \r\nL 37.796875 17.1875 \r\nL 4.890625 17.1875 \r\nL 4.890625 26.703125 \r\nz\r\n\" id=\"DejaVuSans-52\"/>\r\n      </defs>\r\n      <g transform=\"translate(175.462308 249.677422)scale(0.165 -0.165)\">\r\n       <use xlink:href=\"#DejaVuSans-48\"/>\r\n       <use x=\"63.623047\" xlink:href=\"#DejaVuSans-46\"/>\r\n       <use x=\"95.410156\" xlink:href=\"#DejaVuSans-52\"/>\r\n      </g>\r\n     </g>\r\n    </g>\r\n    <g id=\"xtick_4\">\r\n     <g id=\"line2d_4\">\r\n      <g>\r\n       <use style=\"stroke:#000000;stroke-width:1.875;\" x=\"249.455114\" xlink:href=\"#m262bf1fb0d\" y=\"224.64\"/>\r\n      </g>\r\n     </g>\r\n     <g id=\"text_4\">\r\n      <!-- 0.6 -->\r\n      <defs>\r\n       <path d=\"M 33.015625 40.375 \r\nQ 26.375 40.375 22.484375 35.828125 \r\nQ 18.609375 31.296875 18.609375 23.390625 \r\nQ 18.609375 15.53125 22.484375 10.953125 \r\nQ 26.375 6.390625 33.015625 6.390625 \r\nQ 39.65625 6.390625 43.53125 10.953125 \r\nQ 47.40625 15.53125 47.40625 23.390625 \r\nQ 47.40625 31.296875 43.53125 35.828125 \r\nQ 39.65625 40.375 33.015625 40.375 \r\nz\r\nM 52.59375 71.296875 \r\nL 52.59375 62.3125 \r\nQ 48.875 64.0625 45.09375 64.984375 \r\nQ 41.3125 65.921875 37.59375 65.921875 \r\nQ 27.828125 65.921875 22.671875 59.328125 \r\nQ 17.53125 52.734375 16.796875 39.40625 \r\nQ 19.671875 43.65625 24.015625 45.921875 \r\nQ 28.375 48.1875 33.59375 48.1875 \r\nQ 44.578125 48.1875 50.953125 41.515625 \r\nQ 57.328125 34.859375 57.328125 23.390625 \r\nQ 57.328125 12.15625 50.6875 5.359375 \r\nQ 44.046875 -1.421875 33.015625 -1.421875 \r\nQ 20.359375 -1.421875 13.671875 8.265625 \r\nQ 6.984375 17.96875 6.984375 36.375 \r\nQ 6.984375 53.65625 15.1875 63.9375 \r\nQ 23.390625 74.21875 37.203125 74.21875 \r\nQ 40.921875 74.21875 44.703125 73.484375 \r\nQ 48.484375 72.75 52.59375 71.296875 \r\nz\r\n\" id=\"DejaVuSans-54\"/>\r\n      </defs>\r\n      <g transform=\"translate(236.335036 249.677422)scale(0.165 -0.165)\">\r\n       <use xlink:href=\"#DejaVuSans-48\"/>\r\n       <use x=\"63.623047\" xlink:href=\"#DejaVuSans-46\"/>\r\n       <use x=\"95.410156\" xlink:href=\"#DejaVuSans-54\"/>\r\n      </g>\r\n     </g>\r\n    </g>\r\n    <g id=\"xtick_5\">\r\n     <g id=\"line2d_5\">\r\n      <g>\r\n       <use style=\"stroke:#000000;stroke-width:1.875;\" x=\"310.327841\" xlink:href=\"#m262bf1fb0d\" y=\"224.64\"/>\r\n      </g>\r\n     </g>\r\n     <g id=\"text_5\">\r\n      <!-- 0.8 -->\r\n      <defs>\r\n       <path d=\"M 31.78125 34.625 \r\nQ 24.75 34.625 20.71875 30.859375 \r\nQ 16.703125 27.09375 16.703125 20.515625 \r\nQ 16.703125 13.921875 20.71875 10.15625 \r\nQ 24.75 6.390625 31.78125 6.390625 \r\nQ 38.8125 6.390625 42.859375 10.171875 \r\nQ 46.921875 13.96875 46.921875 20.515625 \r\nQ 46.921875 27.09375 42.890625 30.859375 \r\nQ 38.875 34.625 31.78125 34.625 \r\nz\r\nM 21.921875 38.8125 \r\nQ 15.578125 40.375 12.03125 44.71875 \r\nQ 8.5 49.078125 8.5 55.328125 \r\nQ 8.5 64.0625 14.71875 69.140625 \r\nQ 20.953125 74.21875 31.78125 74.21875 \r\nQ 42.671875 74.21875 48.875 69.140625 \r\nQ 55.078125 64.0625 55.078125 55.328125 \r\nQ 55.078125 49.078125 51.53125 44.71875 \r\nQ 48 40.375 41.703125 38.8125 \r\nQ 48.828125 37.15625 52.796875 32.3125 \r\nQ 56.78125 27.484375 56.78125 20.515625 \r\nQ 56.78125 9.90625 50.3125 4.234375 \r\nQ 43.84375 -1.421875 31.78125 -1.421875 \r\nQ 19.734375 -1.421875 13.25 4.234375 \r\nQ 6.78125 9.90625 6.78125 20.515625 \r\nQ 6.78125 27.484375 10.78125 32.3125 \r\nQ 14.796875 37.15625 21.921875 38.8125 \r\nz\r\nM 18.3125 54.390625 \r\nQ 18.3125 48.734375 21.84375 45.5625 \r\nQ 25.390625 42.390625 31.78125 42.390625 \r\nQ 38.140625 42.390625 41.71875 45.5625 \r\nQ 45.3125 48.734375 45.3125 54.390625 \r\nQ 45.3125 60.0625 41.71875 63.234375 \r\nQ 38.140625 66.40625 31.78125 66.40625 \r\nQ 25.390625 66.40625 21.84375 63.234375 \r\nQ 18.3125 60.0625 18.3125 54.390625 \r\nz\r\n\" id=\"DejaVuSans-56\"/>\r\n      </defs>\r\n      <g transform=\"translate(297.207763 249.677422)scale(0.165 -0.165)\">\r\n       <use xlink:href=\"#DejaVuSans-48\"/>\r\n       <use x=\"63.623047\" xlink:href=\"#DejaVuSans-46\"/>\r\n       <use x=\"95.410156\" xlink:href=\"#DejaVuSans-56\"/>\r\n      </g>\r\n     </g>\r\n    </g>\r\n    <g id=\"xtick_6\">\r\n     <g id=\"line2d_6\">\r\n      <g>\r\n       <use style=\"stroke:#000000;stroke-width:1.875;\" x=\"371.200568\" xlink:href=\"#m262bf1fb0d\" y=\"224.64\"/>\r\n      </g>\r\n     </g>\r\n     <g id=\"text_6\">\r\n      <!-- 1.0 -->\r\n      <defs>\r\n       <path d=\"M 12.40625 8.296875 \r\nL 28.515625 8.296875 \r\nL 28.515625 63.921875 \r\nL 10.984375 60.40625 \r\nL 10.984375 69.390625 \r\nL 28.421875 72.90625 \r\nL 38.28125 72.90625 \r\nL 38.28125 8.296875 \r\nL 54.390625 8.296875 \r\nL 54.390625 0 \r\nL 12.40625 0 \r\nz\r\n\" id=\"DejaVuSans-49\"/>\r\n      </defs>\r\n      <g transform=\"translate(358.08049 249.677422)scale(0.165 -0.165)\">\r\n       <use xlink:href=\"#DejaVuSans-49\"/>\r\n       <use x=\"63.623047\" xlink:href=\"#DejaVuSans-46\"/>\r\n       <use x=\"95.410156\" xlink:href=\"#DejaVuSans-48\"/>\r\n      </g>\r\n     </g>\r\n    </g>\r\n    <g id=\"text_7\">\r\n     <!-- Y -->\r\n     <defs>\r\n      <path d=\"M -0.203125 72.90625 \r\nL 10.40625 72.90625 \r\nL 30.609375 42.921875 \r\nL 50.6875 72.90625 \r\nL 61.28125 72.90625 \r\nL 35.5 34.71875 \r\nL 35.5 0 \r\nL 25.59375 0 \r\nL 25.59375 34.71875 \r\nz\r\n\" id=\"DejaVuSans-89\"/>\r\n     </defs>\r\n     <g transform=\"translate(213.521719 270.786094)scale(0.18 -0.18)\">\r\n      <use xlink:href=\"#DejaVuSans-89\"/>\r\n     </g>\r\n    </g>\r\n   </g>\r\n   <g id=\"matplotlib.axis_2\">\r\n    <g id=\"ytick_1\">\r\n     <g id=\"line2d_7\">\r\n      <defs>\r\n       <path d=\"M 0 0 \r\nL -9 0 \r\n\" id=\"me715623f67\" style=\"stroke:#000000;stroke-width:1.875;\"/>\r\n      </defs>\r\n      <g>\r\n       <use style=\"stroke:#000000;stroke-width:1.875;\" x=\"51.61875\" xlink:href=\"#me715623f67\" y=\"224.64\"/>\r\n      </g>\r\n     </g>\r\n     <g id=\"text_8\">\r\n      <!-- 0 -->\r\n      <g transform=\"translate(28.620625 230.908711)scale(0.165 -0.165)\">\r\n       <use xlink:href=\"#DejaVuSans-48\"/>\r\n      </g>\r\n     </g>\r\n    </g>\r\n    <g id=\"ytick_2\">\r\n     <g id=\"line2d_8\">\r\n      <g>\r\n       <use style=\"stroke:#000000;stroke-width:1.875;\" x=\"51.61875\" xlink:href=\"#me715623f67\" y=\"173.126141\"/>\r\n      </g>\r\n     </g>\r\n     <g id=\"text_9\">\r\n      <!-- 2 -->\r\n      <g transform=\"translate(28.620625 179.394852)scale(0.165 -0.165)\">\r\n       <use xlink:href=\"#DejaVuSans-50\"/>\r\n      </g>\r\n     </g>\r\n    </g>\r\n    <g id=\"ytick_3\">\r\n     <g id=\"line2d_9\">\r\n      <g>\r\n       <use style=\"stroke:#000000;stroke-width:1.875;\" x=\"51.61875\" xlink:href=\"#me715623f67\" y=\"121.612281\"/>\r\n      </g>\r\n     </g>\r\n     <g id=\"text_10\">\r\n      <!-- 4 -->\r\n      <g transform=\"translate(28.620625 127.880992)scale(0.165 -0.165)\">\r\n       <use xlink:href=\"#DejaVuSans-52\"/>\r\n      </g>\r\n     </g>\r\n    </g>\r\n    <g id=\"ytick_4\">\r\n     <g id=\"line2d_10\">\r\n      <g>\r\n       <use style=\"stroke:#000000;stroke-width:1.875;\" x=\"51.61875\" xlink:href=\"#me715623f67\" y=\"70.098422\"/>\r\n      </g>\r\n     </g>\r\n     <g id=\"text_11\">\r\n      <!-- 6 -->\r\n      <g transform=\"translate(28.620625 76.367133)scale(0.165 -0.165)\">\r\n       <use xlink:href=\"#DejaVuSans-54\"/>\r\n      </g>\r\n     </g>\r\n    </g>\r\n    <g id=\"ytick_5\">\r\n     <g id=\"line2d_11\">\r\n      <g>\r\n       <use style=\"stroke:#000000;stroke-width:1.875;\" x=\"51.61875\" xlink:href=\"#me715623f67\" y=\"18.584563\"/>\r\n      </g>\r\n     </g>\r\n     <g id=\"text_12\">\r\n      <!-- 8 -->\r\n      <g transform=\"translate(28.620625 24.853274)scale(0.165 -0.165)\">\r\n       <use xlink:href=\"#DejaVuSans-56\"/>\r\n      </g>\r\n     </g>\r\n    </g>\r\n    <g id=\"text_13\">\r\n     <!-- p(Y) -->\r\n     <defs>\r\n      <path d=\"M 18.109375 8.203125 \r\nL 18.109375 -20.796875 \r\nL 9.078125 -20.796875 \r\nL 9.078125 54.6875 \r\nL 18.109375 54.6875 \r\nL 18.109375 46.390625 \r\nQ 20.953125 51.265625 25.265625 53.625 \r\nQ 29.59375 56 35.59375 56 \r\nQ 45.5625 56 51.78125 48.09375 \r\nQ 58.015625 40.1875 58.015625 27.296875 \r\nQ 58.015625 14.40625 51.78125 6.484375 \r\nQ 45.5625 -1.421875 35.59375 -1.421875 \r\nQ 29.59375 -1.421875 25.265625 0.953125 \r\nQ 20.953125 3.328125 18.109375 8.203125 \r\nz\r\nM 48.6875 27.296875 \r\nQ 48.6875 37.203125 44.609375 42.84375 \r\nQ 40.53125 48.484375 33.40625 48.484375 \r\nQ 26.265625 48.484375 22.1875 42.84375 \r\nQ 18.109375 37.203125 18.109375 27.296875 \r\nQ 18.109375 17.390625 22.1875 11.75 \r\nQ 26.265625 6.109375 33.40625 6.109375 \r\nQ 40.53125 6.109375 44.609375 11.75 \r\nQ 48.6875 17.390625 48.6875 27.296875 \r\nz\r\n\" id=\"DejaVuSans-112\"/>\r\n      <path d=\"M 31 75.875 \r\nQ 24.46875 64.65625 21.28125 53.65625 \r\nQ 18.109375 42.671875 18.109375 31.390625 \r\nQ 18.109375 20.125 21.3125 9.0625 \r\nQ 24.515625 -2 31 -13.1875 \r\nL 23.1875 -13.1875 \r\nQ 15.875 -1.703125 12.234375 9.375 \r\nQ 8.59375 20.453125 8.59375 31.390625 \r\nQ 8.59375 42.28125 12.203125 53.3125 \r\nQ 15.828125 64.359375 23.1875 75.875 \r\nz\r\n\" id=\"DejaVuSans-40\"/>\r\n      <path d=\"M 8.015625 75.875 \r\nL 15.828125 75.875 \r\nQ 23.140625 64.359375 26.78125 53.3125 \r\nQ 30.421875 42.28125 30.421875 31.390625 \r\nQ 30.421875 20.453125 26.78125 9.375 \r\nQ 23.140625 -1.703125 15.828125 -13.1875 \r\nL 8.015625 -13.1875 \r\nQ 14.5 -2 17.703125 9.0625 \r\nQ 20.90625 20.125 20.90625 31.390625 \r\nQ 20.90625 42.671875 17.703125 53.65625 \r\nQ 14.5 64.65625 8.015625 75.875 \r\nz\r\n\" id=\"DejaVuSans-41\"/>\r\n     </defs>\r\n     <g transform=\"translate(20.877187 134.153437)rotate(-90)scale(0.18 -0.18)\">\r\n      <use xlink:href=\"#DejaVuSans-112\"/>\r\n      <use x=\"63.476562\" xlink:href=\"#DejaVuSans-40\"/>\r\n      <use x=\"102.490234\" xlink:href=\"#DejaVuSans-89\"/>\r\n      <use x=\"163.574219\" xlink:href=\"#DejaVuSans-41\"/>\r\n     </g>\r\n    </g>\r\n   </g>\r\n   <g id=\"patch_13\">\r\n    <path d=\"M 51.61875 224.64 \r\nL 51.61875 7.2 \r\n\" style=\"fill:none;stroke:#000000;stroke-linecap:square;stroke-linejoin:miter;stroke-width:1.875;\"/>\r\n   </g>\r\n   <g id=\"patch_14\">\r\n    <path d=\"M 386.41875 224.64 \r\nL 386.41875 7.2 \r\n\" style=\"fill:none;stroke:#000000;stroke-linecap:square;stroke-linejoin:miter;stroke-width:1.875;\"/>\r\n   </g>\r\n   <g id=\"patch_15\">\r\n    <path d=\"M 51.61875 224.64 \r\nL 386.41875 224.64 \r\n\" style=\"fill:none;stroke:#000000;stroke-linecap:square;stroke-linejoin:miter;stroke-width:1.875;\"/>\r\n   </g>\r\n   <g id=\"patch_16\">\r\n    <path d=\"M 51.61875 7.2 \r\nL 386.41875 7.2 \r\n\" style=\"fill:none;stroke:#000000;stroke-linecap:square;stroke-linejoin:miter;stroke-width:1.875;\"/>\r\n   </g>\r\n  </g>\r\n </g>\r\n <defs>\r\n  <clipPath id=\"p531299de97\">\r\n   <rect height=\"217.44\" width=\"334.8\" x=\"51.61875\" y=\"7.2\"/>\r\n  </clipPath>\r\n </defs>\r\n</svg>\r\n",
      "text/plain": "<Figure size 600x400 with 1 Axes>"
     },
     "metadata": {
      "needs_background": "light"
     },
     "output_type": "display_data"
    }
   ],
   "source": [
    "ys = Y.rvs(1000)\n",
    "fig, ax = plt.subplots(dpi=100)\n",
    "ax.hist(ys, density=True)\n",
    "ax.set_xlabel('Y')\n",
    "ax.set_ylabel('p(Y)')\n",
    "plt.show()\n",
    "plt.close()"
   ]
  },
  {
   "cell_type": "markdown",
   "metadata": {
    "colab_type": "text",
    "id": "YilM9UJ8TVgZ"
   },
   "source": [
    "## Joint probability mass function of random variables\n",
    "\n",
    "Consider two random variables $X$ and $Y$.\n",
    "The *joint probability mass function* of the pair $(X,Y)$ is the function $f_{X,Y}(x,y)$ giving the probability that $X=x$ and $Y=y$.\n",
    "Mathematically (and introducing a simplified notation), we have:\n",
    "$$\n",
    "p(x,y) \\equiv p(X=x, Y=y) \\equiv f_{X,Y}(x,y) := \\mathbb{P}\\left(\\{\\omega: X(\\omega) = x, Y(\\omega)=y\\}\\right).\n",
    "$$\n",
    "\n",
    "### Properties of the joint probability mass function\n",
    "+ It is nonnegative:\n",
    "$$\n",
    "p(x,y) \\ge 0.\n",
    "$$\n",
    "+ If you sum over all the possible values of all random variables, you should get one:\n",
    "$$\n",
    "\\sum_x \\sum_y p(x,y) = 1.\n",
    "$$\n",
    "+ If you *marginalize* over the values of one of the random variables you get the pmf of the other.\n",
    "For example:\n",
    "$$\n",
    "p(x) = \\sum_y p(x,y),\n",
    "$$\n",
    "and \n",
    "$$\n",
    "p(y) = \\sum_x p(x, y).\n",
    "$$\n",
    "\n",
    "### The covariance operator\n",
    "\n",
    "The covariance operator measures how correlated two random variables $X$ and $Y$ are.\n",
    "Its definition is:\n",
    "$$\n",
    "\\mathbb{C}[X,Y] = \\mathbb{E}\\left[\\left(X-\\mathbb{E}[X]\\right)\\left(Y-\\mathbb{E}[Y]\\right)\\right].\n",
    "$$\n",
    "If $\\mathbb{C}[X,Y]$ is positive, then we say that the two random variables are correlated.\n",
    "If it is negative, then we say that the two random variables are anti-correlated.\n",
    "If it is zero, then we say that the two random variables are not correlated.\n",
    "We will talk more about this in a later lecture.\n",
    "\n",
    "A usefull property of the covariance operator is that it can give tell you something about the variance of the sum of two random variables.\n",
    "It is:\n",
    "$$\n",
    "\\mathbb{V}[X + Y] = \\mathbb{V}[X] + \\mathbb{V}[Y] + 2\\mathbb{C}[X,Y].\n",
    "$$\n",
    "\n",
    "### Joint probability mass function of many random variables\n",
    "Take $N$ random variables $X_1,\\dots,X_N$.\n",
    "We can define their joint probability mass function in the same way we did it for two:\n",
    "$$\n",
    "p(x_1,\\dots,x_N) \\equiv p(X_1=x_1,\\dots,X_N=x_N) \\equiv f_{X_1,\\dots,X_N}(x_1,\\dots,X_N) := \\mathbb{P}\\left(\\{\\omega: X_1(\\omega)=x_1,\\dots,X_N(\\omega)=x_N\\}\\right).\n",
    "$$\n",
    "Just like before, we can marginalize over any subset of random variables to get the pmf of the remaining ones.\n",
    "For example:\n",
    "$$\n",
    "p(x_i) = \\sum_{x_j,j\\not=i} p(x_1,\\dots,x_N).\n",
    "$$"
   ]
  },
  {
   "cell_type": "markdown",
   "metadata": {
    "colab_type": "text",
    "id": "mxy6hBAuTVga"
   },
   "source": [
    "## Conditioning a random variables on the values of another\n",
    "\n",
    "Take two random variables $X$ and $Y$ with joint pmf $p(x,y)$.\n",
    "Suppose that you observe $Y=y$ and you want to update your state of knowledge about the probability that $X=x$, i.e., you want to get the *conditional pmf* $p(x|y)$.\n",
    "Of course, this is done using Bayes' rule:\n",
    "$$\n",
    "p(x|y) = \\frac{p(x,y)}{p(y)}.\n",
    "$$"
   ]
  },
  {
   "cell_type": "markdown",
   "metadata": {
    "colab_type": "text",
    "id": "sQgqFkZqTVga"
   },
   "source": [
    "### Example: Drawing balls from a box without replacement\n",
    "\n",
    "Consider the following information I:\n",
    "\n",
    "> We are given a box with 10 balls 6 of which are red and 4 of which are blue. The box is sufficiently mixed so that when we get a ball from it, we don't know which one we pick. When we take a ball out of the box, we do not put it back.\n",
    "\n",
    "Now, assume that we represent red balls with a $0$ and blue balls with $1$.\n",
    "Let $X$ be the random variable corresponding to the outcome of the first draw and $Y$ the random variable corresponding to the outcome of the second draw.\n",
    "In this problem, it is not easy to find the joint pmf $p(x,y)$ directly.\n",
    "It is actually easier to first find $p(x)$, then $p(y|x)$ and finally reconstruct $p(x,y)$ using Bayes' rule.\n",
    "Let's do it.\n",
    "\n",
    "We showed in the previous lecture that:\n",
    "$$\n",
    "p(X=0) = \\frac{6}{10} = \\frac{3}{5},\n",
    "$$\n",
    "and\n",
    "$$\n",
    "p(X=1) = 1 - p(X=0) = \\frac{2}{5}.\n",
    "$$\n",
    "\n",
    "We also have:\n",
    "$$\n",
    "p(Y=0|X=0) = \\frac{5}{9},\n",
    "$$\n",
    "since if we draw a red first, $X=0$, there remain $9$ balls $5$ of which are red.\n",
    "$$\n",
    "p(Y=0|X=1) = \\frac{6}{9} = \\frac{2}{3},\n",
    "$$\n",
    "since if we draw a blue first, $X=1$, there remain $9$ balls $6$ of which are red.\n",
    "$$\n",
    "p(Y=1|X=0) = 1 - p(Y=0|X=0) = \\frac{4}{9},\n",
    "$$\n",
    "and\n",
    "$$\n",
    "p(Y=1|X=1) = 1 - p(Y=0|X=1) = \\frac{1}{3}.\n",
    "$$\n",
    "\n",
    "From Bayes' rule we have:\n",
    "$$\n",
    "p(x,y) = p(x)p(y|x),\n",
    "$$\n",
    "and we can completly tabulate this joint pmf:\n",
    "$$\n",
    "\\begin{split}\n",
    "p(X=0, Y=0) &= p(X=0)p(Y=0|X=0) = \\frac{3}{5}\\cdot \\frac{5}{9} \\approx 0.33\\\\\n",
    "p(X=0, Y=1) &= p(X=0)p(Y=1|X=0) = \\frac{3}{5}\\cdot \\frac{4}{9} \\approx 0.27\\\\\n",
    "p(X=1, Y=0) &= p(X=1)p(Y=0|X=1) = \\frac{2}{5}\\cdot \\frac{2}{3} \\approx 0.27\\\\\n",
    "p(X=1, Y=1) &= p(X=1)p(Y=1|X=1) = \\frac{2}{5}\\cdot \\frac{1}{3} \\approx 0.13.\n",
    "\\end{split}\n",
    "$$\n",
    "Notice that these sum to one.\n",
    "\n",
    "Finally, by marginalizing over $x$, we can find the pmf of $Y$:\n",
    "$$\n",
    "\\begin{split}\n",
    "p(Y=0) &= \\sum_x p(X=x,Y=0) = p(X=0, Y=0) + p(X=1, Y=0) \\approx 0.33 + 0.27 = 0.5\\\\\n",
    "p(Y=1) &= \\sum_x p(X=x,Y=1) = p(X=0, Y=1) + p(X=1, Y=1) \\approx 0.27 + 0.33 = 0.5. \n",
    "\\end{split}\n",
    "$$\n",
    "\n",
    "Let's find the covariance of the two random variables.\n",
    "We need:\n",
    "$$\n",
    "\\begin{split}\n",
    "\\mathbb{E}[X] &= 0\\cdot p(X=0) + 1\\cdot p(X=1) = 0.4,\\\\\n",
    "\\mathbb{E}[Y] &= 0\\cdot p(Y=0) + 1\\cdot p(Y=1) = 0.5.\n",
    "\\end{split}\n",
    "$$\n",
    "The covariance is:\n",
    "$$\n",
    "\\begin{split}\n",
    "\\mathbb{C}[X,Y] &= \\mathbb{E}\\left[\\left(X-\\mathbb{E}[X]\\right)\\left(Y-\\mathbb{E}[Y]\\right)\\right]\\\\\n",
    "&= \\sum_{x,y} p(X=x,Y=y)\\left(x-0.4\\right)(y-0.5)\\\\\n",
    "&\\approx 0.33\\cdot (0.2) + 0.27 \\cdot (-0.2) + 0.27 \\cdot (-0.3) + 0.33 \\cdot (0.3)\\\\\n",
    "&= 0.03.\n",
    "\\end{split}\n",
    "$$"
   ]
  },
  {
   "cell_type": "markdown",
   "metadata": {
    "colab_type": "text",
    "id": "frVZ6m9gTVgb"
   },
   "source": [
    "## Independent random variables\n",
    "\n",
    "Take two random variables $X$ and $Y$.\n",
    "We say that the two random variables are independent given the background information $I$, and we write:\n",
    "$$\n",
    "X\\perp Y | I,\n",
    "$$\n",
    "if and only if conditioning on one does not tell you anything about the other, i.e.,\n",
    "$$\n",
    "p(x|y, I) = p(x|I).\n",
    "$$\n",
    "It is easy to show using Bayes' rule that the definition is consistent, i.e., you also get:\n",
    "$$\n",
    "p(y|x, I) = p(y|I).\n",
    "$$\n",
    "When there is no ambiguity, we can drop $I$.\n",
    "\n",
    "### Properties of independent random variables\n",
    "+ The joint pmf factorizes:\n",
    "$$\n",
    "p(x,y) = p(x)p(y).\n",
    "$$\n",
    "+ The expectation of the product is the product of the expectation:\n",
    "$$\n",
    "\\mathbb{E}[XY] = \\mathbb{E}[X]\\cdot \\mathbb{E}[Y].\n",
    "$$\n",
    "+ The covariance of two independent random variables is zero:\n",
    "$$\n",
    "\\mathbb{C}[X,Y] = 0.\n",
    "$$\n",
    "Be careful **the reverse is not true!**\n",
    "+ A consequence of the above property is that the variance of the sum of two independent random variables is the sum of the variables:\n",
    "$$\n",
    "\\mathbb{V}[X+Y] = \\mathbb{V}[X] + \\mathbb{V}[Y].\n",
    "$$"
   ]
  },
  {
   "cell_type": "markdown",
   "metadata": {
    "colab_type": "text",
    "id": "HqPoMDPYTVgd"
   },
   "source": [
    "## Example: The binomial distribution\n",
    "\n",
    "Suppose that you tossing $n$ times a coin with probability of heads $\\theta$ and let $X$ be the number of heads.\n",
    "The random variable $X$ is called the binomial random variable.\n",
    "We write:\n",
    "$$\n",
    "X\\sim B(n, \\theta).\n",
    "$$\n",
    "It is easy to show that its pmf is:\n",
    "$$\n",
    "p(X = k) = {n\\choose{k}}\\theta^k(1-\\theta)^{n-k},\n",
    "$$\n",
    "where ${n\\choose{k}}$ is the number of $k$ combinations out of $n$ elements:\n",
    "$$\n",
    "{n\\choose{k}} = \\frac{n!}{k!(n-k)!}.\n",
    "$$\n",
    "The expectation of the binomial is:\n",
    "$$\n",
    "\\mathbb{E}[X] = \\sum_{k=0}^n p(X=k) = \\sum_{k=0}^n{n\\choose{k}}\\theta^k(1-\\theta)^{n-k} = ?.\n",
    "$$\n",
    "It does seem very easy to carry out this sum.\n",
    "However, you can do something smarter.\n",
    "Notice that $X$ counts the number of heads in $n$ independent trials.\n",
    "Let's introduce the *independent* random variables $X_1,\\dots,X_n$ corresponding to the result of these trials.\n",
    "All these varaibles are:\n",
    "$$\n",
    "X_i \\sim \\operatorname{Bernoulli}(\\theta).\n",
    "$$\n",
    "The number of heads is simply:\n",
    "$$\n",
    "X = X_1 + \\dots X_n.\n",
    "$$\n",
    "Since all the random variables on the right hand-side are independent, we get:\n",
    "$$\n",
    "\\mathbb{E}[X] = \\mathbb{E}[X_1] + \\dots + \\mathbb{E}[X_n] = \\theta + \\dots + \\theta = n\\theta.\n",
    "$$\n",
    "Similarly, we can find the variance of $X$:\n",
    "$$\n",
    "\\mathbb{V}{[X]} = \\mathbb{V}[X_1] + \\dots + \\mathbb{V}[X_n] = n \\theta (1-\\theta).\n",
    "$$"
   ]
  },
  {
   "cell_type": "code",
   "execution_count": 36,
   "metadata": {},
   "outputs": [
    {
     "name": "stdout",
     "output_type": "stream",
     "text": "[67 62 62 61 53 63 53 50 68 65 61 63 60 53 54 67 60 61 60 55 70 66 56 55\n 53 58 55 53 59 59 53 57 59 65 60 66 65 59 60 60 67 54 61 62 67 60 56 56\n 61 61 58 58 61 54 60 50 58 59 58 55 58 68 59 56 63 62 61 66 53 67 61 61\n 55 57 58 64 63 56 59 62 60 54 55 60 63 60 60 57 52 61 68 56 58 60 62 62\n 61 67 62 65]\n"
    }
   ],
   "source": [
    "# Let's draw histograms of the binomial\n",
    "n = 100\n",
    "theta = 0.6\n",
    "X = st.binom(n, theta)\n",
    "# Here are some samples\n",
    "print(X.rvs(100))"
   ]
  },
  {
   "cell_type": "code",
   "execution_count": 37,
   "metadata": {},
   "outputs": [
    {
     "name": "stdout",
     "output_type": "stream",
     "text": "E[X] = 60.00\n"
    }
   ],
   "source": [
    "# Here is the expectation\n",
    "print('E[X] = {0:1.2f}'.format(X.expect()))"
   ]
  },
  {
   "cell_type": "code",
   "execution_count": 38,
   "metadata": {},
   "outputs": [
    {
     "name": "stdout",
     "output_type": "stream",
     "text": "V[X] = 24.00\n"
    }
   ],
   "source": [
    "# Here is the variance\n",
    "print('V[X] = {0:1.2f}'.format(X.var()))"
   ]
  },
  {
   "cell_type": "code",
   "execution_count": 39,
   "metadata": {},
   "outputs": [
    {
     "data": {
      "text/plain": "Text(0, 0.5, '$p(x)$')"
     },
     "execution_count": 39,
     "metadata": {},
     "output_type": "execute_result"
    },
    {
     "data": {
      "image/png": "[encoded data removed]",
      "image/svg+xml": "<?xml version=\"1.0\" encoding=\"utf-8\" standalone=\"no\"?>\r\n<!DOCTYPE svg PUBLIC \"-//W3C//DTD SVG 1.1//EN\"\r\n  \"http://www.w3.org/Graphics/SVG/1.1/DTD/svg11.dtd\">\r\n<!-- Created with matplotlib (https://matplotlib.org/) -->\r\n<svg height=\"281.729531pt\" version=\"1.1\" viewBox=\"0 0 422.257128 281.729531\" width=\"422.257128pt\" xmlns=\"http://www.w3.org/2000/svg\" xmlns:xlink=\"http://www.w3.org/1999/xlink\">\r\n <defs>\r\n  <style type=\"text/css\">\r\n*{stroke-linecap:butt;stroke-linejoin:round;}\r\n  </style>\r\n </defs>\r\n <g id=\"figure_1\">\r\n  <g id=\"patch_1\">\r\n   <path d=\"M 0 281.729531 \r\nL 422.257128 281.729531 \r\nL 422.257128 0 \r\nL 0 0 \r\nz\r\n\" style=\"fill:none;\"/>\r\n  </g>\r\n  <g id=\"axes_1\">\r\n   <g id=\"patch_2\">\r\n    <path d=\"M 77.898281 224.64 \r\nL 412.698281 224.64 \r\nL 412.698281 7.2 \r\nL 77.898281 7.2 \r\nz\r\n\" style=\"fill:#ffffff;\"/>\r\n   </g>\r\n   <g id=\"patch_3\">\r\n    <path clip-path=\"url(#p7c0e308ced)\" d=\"M 93.116463 224.64 \r\nL 95.556252 224.64 \r\nL 95.556252 224.64 \r\nL 93.116463 224.64 \r\nz\r\n\" style=\"fill:#1f77b4;\"/>\r\n   </g>\r\n   <g id=\"patch_4\">\r\n    <path clip-path=\"url(#p7c0e308ced)\" d=\"M 96.166199 224.64 \r\nL 98.605988 224.64 \r\nL 98.605988 224.64 \r\nL 96.166199 224.64 \r\nz\r\n\" style=\"fill:#1f77b4;\"/>\r\n   </g>\r\n   <g id=\"patch_5\">\r\n    <path clip-path=\"url(#p7c0e308ced)\" d=\"M 99.215935 224.64 \r\nL 101.655723 224.64 \r\nL 101.655723 224.64 \r\nL 99.215935 224.64 \r\nz\r\n\" style=\"fill:#1f77b4;\"/>\r\n   </g>\r\n   <g id=\"patch_6\">\r\n    <path clip-path=\"url(#p7c0e308ced)\" d=\"M 102.265671 224.64 \r\nL 104.705459 224.64 \r\nL 104.705459 224.64 \r\nL 102.265671 224.64 \r\nz\r\n\" style=\"fill:#1f77b4;\"/>\r\n   </g>\r\n   <g id=\"patch_7\">\r\n    <path clip-path=\"url(#p7c0e308ced)\" d=\"M 105.315406 224.64 \r\nL 107.755195 224.64 \r\nL 107.755195 224.64 \r\nL 105.315406 224.64 \r\nz\r\n\" style=\"fill:#1f77b4;\"/>\r\n   </g>\r\n   <g id=\"patch_8\">\r\n    <path clip-path=\"url(#p7c0e308ced)\" d=\"M 108.365142 224.64 \r\nL 110.804931 224.64 \r\nL 110.804931 224.64 \r\nL 108.365142 224.64 \r\nz\r\n\" style=\"fill:#1f77b4;\"/>\r\n   </g>\r\n   <g id=\"patch_9\">\r\n    <path clip-path=\"url(#p7c0e308ced)\" d=\"M 111.414878 224.64 \r\nL 113.854667 224.64 \r\nL 113.854667 224.64 \r\nL 111.414878 224.64 \r\nz\r\n\" style=\"fill:#1f77b4;\"/>\r\n   </g>\r\n   <g id=\"patch_10\">\r\n    <path clip-path=\"url(#p7c0e308ced)\" d=\"M 114.464614 224.64 \r\nL 116.904403 224.64 \r\nL 116.904403 224.64 \r\nL 114.464614 224.64 \r\nz\r\n\" style=\"fill:#1f77b4;\"/>\r\n   </g>\r\n   <g id=\"patch_11\">\r\n    <path clip-path=\"url(#p7c0e308ced)\" d=\"M 117.51435 224.64 \r\nL 119.954138 224.64 \r\nL 119.954138 224.64 \r\nL 117.51435 224.64 \r\nz\r\n\" style=\"fill:#1f77b4;\"/>\r\n   </g>\r\n   <g id=\"patch_12\">\r\n    <path clip-path=\"url(#p7c0e308ced)\" d=\"M 120.564086 224.64 \r\nL 123.003874 224.64 \r\nL 123.003874 224.64 \r\nL 120.564086 224.64 \r\nz\r\n\" style=\"fill:#1f77b4;\"/>\r\n   </g>\r\n   <g id=\"patch_13\">\r\n    <path clip-path=\"url(#p7c0e308ced)\" d=\"M 123.613821 224.64 \r\nL 126.05361 224.64 \r\nL 126.05361 224.64 \r\nL 123.613821 224.64 \r\nz\r\n\" style=\"fill:#1f77b4;\"/>\r\n   </g>\r\n   <g id=\"patch_14\">\r\n    <path clip-path=\"url(#p7c0e308ced)\" d=\"M 126.663557 224.64 \r\nL 129.103346 224.64 \r\nL 129.103346 224.64 \r\nL 126.663557 224.64 \r\nz\r\n\" style=\"fill:#1f77b4;\"/>\r\n   </g>\r\n   <g id=\"patch_15\">\r\n    <path clip-path=\"url(#p7c0e308ced)\" d=\"M 129.713293 224.64 \r\nL 132.153082 224.64 \r\nL 132.153082 224.64 \r\nL 129.713293 224.64 \r\nz\r\n\" style=\"fill:#1f77b4;\"/>\r\n   </g>\r\n   <g id=\"patch_16\">\r\n    <path clip-path=\"url(#p7c0e308ced)\" d=\"M 132.763029 224.64 \r\nL 135.202818 224.64 \r\nL 135.202818 224.64 \r\nL 132.763029 224.64 \r\nz\r\n\" style=\"fill:#1f77b4;\"/>\r\n   </g>\r\n   <g id=\"patch_17\">\r\n    <path clip-path=\"url(#p7c0e308ced)\" d=\"M 135.812765 224.64 \r\nL 138.252553 224.64 \r\nL 138.252553 224.64 \r\nL 135.812765 224.64 \r\nz\r\n\" style=\"fill:#1f77b4;\"/>\r\n   </g>\r\n   <g id=\"patch_18\">\r\n    <path clip-path=\"url(#p7c0e308ced)\" d=\"M 138.862501 224.64 \r\nL 141.302289 224.64 \r\nL 141.302289 224.64 \r\nL 138.862501 224.64 \r\nz\r\n\" style=\"fill:#1f77b4;\"/>\r\n   </g>\r\n   <g id=\"patch_19\">\r\n    <path clip-path=\"url(#p7c0e308ced)\" d=\"M 141.912236 224.64 \r\nL 144.352025 224.64 \r\nL 144.352025 224.64 \r\nL 141.912236 224.64 \r\nz\r\n\" style=\"fill:#1f77b4;\"/>\r\n   </g>\r\n   <g id=\"patch_20\">\r\n    <path clip-path=\"url(#p7c0e308ced)\" d=\"M 144.961972 224.64 \r\nL 147.401761 224.64 \r\nL 147.401761 224.64 \r\nL 144.961972 224.64 \r\nz\r\n\" style=\"fill:#1f77b4;\"/>\r\n   </g>\r\n   <g id=\"patch_21\">\r\n    <path clip-path=\"url(#p7c0e308ced)\" d=\"M 148.011708 224.64 \r\nL 150.451497 224.64 \r\nL 150.451497 224.64 \r\nL 148.011708 224.64 \r\nz\r\n\" style=\"fill:#1f77b4;\"/>\r\n   </g>\r\n   <g id=\"patch_22\">\r\n    <path clip-path=\"url(#p7c0e308ced)\" d=\"M 151.061444 224.64 \r\nL 153.501233 224.64 \r\nL 153.501233 224.64 \r\nL 151.061444 224.64 \r\nz\r\n\" style=\"fill:#1f77b4;\"/>\r\n   </g>\r\n   <g id=\"patch_23\">\r\n    <path clip-path=\"url(#p7c0e308ced)\" d=\"M 154.11118 224.64 \r\nL 156.550968 224.64 \r\nL 156.550968 224.64 \r\nL 154.11118 224.64 \r\nz\r\n\" style=\"fill:#1f77b4;\"/>\r\n   </g>\r\n   <g id=\"patch_24\">\r\n    <path clip-path=\"url(#p7c0e308ced)\" d=\"M 157.160916 224.64 \r\nL 159.600704 224.64 \r\nL 159.600704 224.64 \r\nL 157.160916 224.64 \r\nz\r\n\" style=\"fill:#1f77b4;\"/>\r\n   </g>\r\n   <g id=\"patch_25\">\r\n    <path clip-path=\"url(#p7c0e308ced)\" d=\"M 160.210651 224.64 \r\nL 162.65044 224.64 \r\nL 162.65044 224.64 \r\nL 160.210651 224.64 \r\nz\r\n\" style=\"fill:#1f77b4;\"/>\r\n   </g>\r\n   <g id=\"patch_26\">\r\n    <path clip-path=\"url(#p7c0e308ced)\" d=\"M 163.260387 224.64 \r\nL 165.700176 224.64 \r\nL 165.700176 224.64 \r\nL 163.260387 224.64 \r\nz\r\n\" style=\"fill:#1f77b4;\"/>\r\n   </g>\r\n   <g id=\"patch_27\">\r\n    <path clip-path=\"url(#p7c0e308ced)\" d=\"M 166.310123 224.64 \r\nL 168.749912 224.64 \r\nL 168.749912 224.64 \r\nL 166.310123 224.64 \r\nz\r\n\" style=\"fill:#1f77b4;\"/>\r\n   </g>\r\n   <g id=\"patch_28\">\r\n    <path clip-path=\"url(#p7c0e308ced)\" d=\"M 169.359859 224.64 \r\nL 171.799648 224.64 \r\nL 171.799648 224.64 \r\nL 169.359859 224.64 \r\nz\r\n\" style=\"fill:#1f77b4;\"/>\r\n   </g>\r\n   <g id=\"patch_29\">\r\n    <path clip-path=\"url(#p7c0e308ced)\" d=\"M 172.409595 224.64 \r\nL 174.849383 224.64 \r\nL 174.849383 224.64 \r\nL 172.409595 224.64 \r\nz\r\n\" style=\"fill:#1f77b4;\"/>\r\n   </g>\r\n   <g id=\"patch_30\">\r\n    <path clip-path=\"url(#p7c0e308ced)\" d=\"M 175.459331 224.64 \r\nL 177.899119 224.64 \r\nL 177.899119 224.64 \r\nL 175.459331 224.64 \r\nz\r\n\" style=\"fill:#1f77b4;\"/>\r\n   </g>\r\n   <g id=\"patch_31\">\r\n    <path clip-path=\"url(#p7c0e308ced)\" d=\"M 178.509066 224.64 \r\nL 180.948855 224.64 \r\nL 180.948855 224.64 \r\nL 178.509066 224.64 \r\nz\r\n\" style=\"fill:#1f77b4;\"/>\r\n   </g>\r\n   <g id=\"patch_32\">\r\n    <path clip-path=\"url(#p7c0e308ced)\" d=\"M 181.558802 224.64 \r\nL 183.998591 224.64 \r\nL 183.998591 224.639999 \r\nL 181.558802 224.639999 \r\nz\r\n\" style=\"fill:#1f77b4;\"/>\r\n   </g>\r\n   <g id=\"patch_33\">\r\n    <path clip-path=\"url(#p7c0e308ced)\" d=\"M 184.608538 224.64 \r\nL 187.048327 224.64 \r\nL 187.048327 224.639998 \r\nL 184.608538 224.639998 \r\nz\r\n\" style=\"fill:#1f77b4;\"/>\r\n   </g>\r\n   <g id=\"patch_34\">\r\n    <path clip-path=\"url(#p7c0e308ced)\" d=\"M 187.658274 224.64 \r\nL 190.098063 224.64 \r\nL 190.098063 224.639992 \r\nL 187.658274 224.639992 \r\nz\r\n\" style=\"fill:#1f77b4;\"/>\r\n   </g>\r\n   <g id=\"patch_35\">\r\n    <path clip-path=\"url(#p7c0e308ced)\" d=\"M 190.70801 224.64 \r\nL 193.147798 224.64 \r\nL 193.147798 224.639975 \r\nL 190.70801 224.639975 \r\nz\r\n\" style=\"fill:#1f77b4;\"/>\r\n   </g>\r\n   <g id=\"patch_36\">\r\n    <path clip-path=\"url(#p7c0e308ced)\" d=\"M 193.757746 224.64 \r\nL 196.197534 224.64 \r\nL 196.197534 224.639922 \r\nL 193.757746 224.639922 \r\nz\r\n\" style=\"fill:#1f77b4;\"/>\r\n   </g>\r\n   <g id=\"patch_37\">\r\n    <path clip-path=\"url(#p7c0e308ced)\" d=\"M 196.807481 224.64 \r\nL 199.24727 224.64 \r\nL 199.24727 224.639769 \r\nL 196.807481 224.639769 \r\nz\r\n\" style=\"fill:#1f77b4;\"/>\r\n   </g>\r\n   <g id=\"patch_38\">\r\n    <path clip-path=\"url(#p7c0e308ced)\" d=\"M 199.857217 224.64 \r\nL 202.297006 224.64 \r\nL 202.297006 224.639347 \r\nL 199.857217 224.639347 \r\nz\r\n\" style=\"fill:#1f77b4;\"/>\r\n   </g>\r\n   <g id=\"patch_39\">\r\n    <path clip-path=\"url(#p7c0e308ced)\" d=\"M 202.906953 224.64 \r\nL 205.346742 224.64 \r\nL 205.346742 224.638231 \r\nL 202.906953 224.638231 \r\nz\r\n\" style=\"fill:#1f77b4;\"/>\r\n   </g>\r\n   <g id=\"patch_40\">\r\n    <path clip-path=\"url(#p7c0e308ced)\" d=\"M 205.956689 224.64 \r\nL 208.396478 224.64 \r\nL 208.396478 224.635409 \r\nL 205.956689 224.635409 \r\nz\r\n\" style=\"fill:#1f77b4;\"/>\r\n   </g>\r\n   <g id=\"patch_41\">\r\n    <path clip-path=\"url(#p7c0e308ced)\" d=\"M 209.006425 224.64 \r\nL 211.446213 224.64 \r\nL 211.446213 224.628583 \r\nL 209.006425 224.628583 \r\nz\r\n\" style=\"fill:#1f77b4;\"/>\r\n   </g>\r\n   <g id=\"patch_42\">\r\n    <path clip-path=\"url(#p7c0e308ced)\" d=\"M 212.056161 224.64 \r\nL 214.495949 224.64 \r\nL 214.495949 224.612775 \r\nL 212.056161 224.612775 \r\nz\r\n\" style=\"fill:#1f77b4;\"/>\r\n   </g>\r\n   <g id=\"patch_43\">\r\n    <path clip-path=\"url(#p7c0e308ced)\" d=\"M 215.105896 224.64 \r\nL 217.545685 224.64 \r\nL 217.545685 224.577723 \r\nL 215.105896 224.577723 \r\nz\r\n\" style=\"fill:#1f77b4;\"/>\r\n   </g>\r\n   <g id=\"patch_44\">\r\n    <path clip-path=\"url(#p7c0e308ced)\" d=\"M 218.155632 224.64 \r\nL 220.595421 224.64 \r\nL 220.595421 224.503295 \r\nL 218.155632 224.503295 \r\nz\r\n\" style=\"fill:#1f77b4;\"/>\r\n   </g>\r\n   <g id=\"patch_45\">\r\n    <path clip-path=\"url(#p7c0e308ced)\" d=\"M 221.205368 224.64 \r\nL 223.645157 224.64 \r\nL 223.645157 224.351944 \r\nL 221.205368 224.351944 \r\nz\r\n\" style=\"fill:#1f77b4;\"/>\r\n   </g>\r\n   <g id=\"patch_46\">\r\n    <path clip-path=\"url(#p7c0e308ced)\" d=\"M 224.255104 224.64 \r\nL 226.694893 224.64 \r\nL 226.694893 224.057188 \r\nL 224.255104 224.057188 \r\nz\r\n\" style=\"fill:#1f77b4;\"/>\r\n   </g>\r\n   <g id=\"patch_47\">\r\n    <path clip-path=\"url(#p7c0e308ced)\" d=\"M 227.30484 224.64 \r\nL 229.744628 224.64 \r\nL 229.744628 223.507491 \r\nL 227.30484 223.507491 \r\nz\r\n\" style=\"fill:#1f77b4;\"/>\r\n   </g>\r\n   <g id=\"patch_48\">\r\n    <path clip-path=\"url(#p7c0e308ced)\" d=\"M 230.354576 224.64 \r\nL 232.794364 224.64 \r\nL 232.794364 222.525982 \r\nL 230.354576 222.525982 \r\nz\r\n\" style=\"fill:#1f77b4;\"/>\r\n   </g>\r\n   <g id=\"patch_49\">\r\n    <path clip-path=\"url(#p7c0e308ced)\" d=\"M 233.404311 224.64 \r\nL 235.8441 224.64 \r\nL 235.8441 220.848555 \r\nL 233.404311 220.848555 \r\nz\r\n\" style=\"fill:#1f77b4;\"/>\r\n   </g>\r\n   <g id=\"patch_50\">\r\n    <path clip-path=\"url(#p7c0e308ced)\" d=\"M 236.454047 224.64 \r\nL 238.893836 224.64 \r\nL 238.893836 218.105808 \r\nL 236.454047 218.105808 \r\nz\r\n\" style=\"fill:#1f77b4;\"/>\r\n   </g>\r\n   <g id=\"patch_51\">\r\n    <path clip-path=\"url(#p7c0e308ced)\" d=\"M 239.503783 224.64 \r\nL 241.943572 224.64 \r\nL 241.943572 213.817745 \r\nL 239.503783 213.817745 \r\nz\r\n\" style=\"fill:#1f77b4;\"/>\r\n   </g>\r\n   <g id=\"patch_52\">\r\n    <path clip-path=\"url(#p7c0e308ced)\" d=\"M 242.553519 224.64 \r\nL 244.993308 224.64 \r\nL 244.993308 207.412737 \r\nL 242.553519 207.412737 \r\nz\r\n\" style=\"fill:#1f77b4;\"/>\r\n   </g>\r\n   <g id=\"patch_53\">\r\n    <path clip-path=\"url(#p7c0e308ced)\" d=\"M 245.603255 224.64 \r\nL 248.043044 224.64 \r\nL 248.043044 198.282287 \r\nL 245.603255 198.282287 \r\nz\r\n\" style=\"fill:#1f77b4;\"/>\r\n   </g>\r\n   <g id=\"patch_54\">\r\n    <path clip-path=\"url(#p7c0e308ced)\" d=\"M 248.652991 224.64 \r\nL 251.092779 224.64 \r\nL 251.092779 185.878658 \r\nL 248.652991 185.878658 \r\nz\r\n\" style=\"fill:#1f77b4;\"/>\r\n   </g>\r\n   <g id=\"patch_55\">\r\n    <path clip-path=\"url(#p7c0e308ced)\" d=\"M 251.702727 224.64 \r\nL 254.142515 224.64 \r\nL 254.142515 169.852333 \r\nL 251.702727 169.852333 \r\nz\r\n\" style=\"fill:#1f77b4;\"/>\r\n   </g>\r\n   <g id=\"patch_56\">\r\n    <path clip-path=\"url(#p7c0e308ced)\" d=\"M 254.752462 224.64 \r\nL 257.192251 224.64 \r\nL 257.192251 150.211472 \r\nL 254.752462 150.211472 \r\nz\r\n\" style=\"fill:#1f77b4;\"/>\r\n   </g>\r\n   <g id=\"patch_57\">\r\n    <path clip-path=\"url(#p7c0e308ced)\" d=\"M 257.802198 224.64 \r\nL 260.241987 224.64 \r\nL 260.241987 127.469421 \r\nL 257.802198 127.469421 \r\nz\r\n\" style=\"fill:#1f77b4;\"/>\r\n   </g>\r\n   <g id=\"patch_58\">\r\n    <path clip-path=\"url(#p7c0e308ced)\" d=\"M 260.851934 224.64 \r\nL 263.291723 224.64 \r\nL 263.291723 102.735092 \r\nL 260.851934 102.735092 \r\nz\r\n\" style=\"fill:#1f77b4;\"/>\r\n   </g>\r\n   <g id=\"patch_59\">\r\n    <path clip-path=\"url(#p7c0e308ced)\" d=\"M 263.90167 224.64 \r\nL 266.341459 224.64 \r\nL 266.341459 77.701049 \r\nL 263.90167 77.701049 \r\nz\r\n\" style=\"fill:#1f77b4;\"/>\r\n   </g>\r\n   <g id=\"patch_60\">\r\n    <path clip-path=\"url(#p7c0e308ced)\" d=\"M 266.951406 224.64 \r\nL 269.391194 224.64 \r\nL 269.391194 54.500162 \r\nL 266.951406 54.500162 \r\nz\r\n\" style=\"fill:#1f77b4;\"/>\r\n   </g>\r\n   <g id=\"patch_61\">\r\n    <path clip-path=\"url(#p7c0e308ced)\" d=\"M 270.001142 224.64 \r\nL 272.44093 224.64 \r\nL 272.44093 35.432766 \r\nL 270.001142 35.432766 \r\nz\r\n\" style=\"fill:#1f77b4;\"/>\r\n   </g>\r\n   <g id=\"patch_62\">\r\n    <path clip-path=\"url(#p7c0e308ced)\" d=\"M 273.050877 224.64 \r\nL 275.490666 224.64 \r\nL 275.490666 22.605157 \r\nL 273.050877 22.605157 \r\nz\r\n\" style=\"fill:#1f77b4;\"/>\r\n   </g>\r\n   <g id=\"patch_63\">\r\n    <path clip-path=\"url(#p7c0e308ced)\" d=\"M 276.100613 224.64 \r\nL 278.540402 224.64 \r\nL 278.540402 17.554286 \r\nL 276.100613 17.554286 \r\nz\r\n\" style=\"fill:#1f77b4;\"/>\r\n   </g>\r\n   <g id=\"patch_64\">\r\n    <path clip-path=\"url(#p7c0e308ced)\" d=\"M 279.150349 224.64 \r\nL 281.590138 224.64 \r\nL 281.590138 20.949133 \r\nL 279.150349 20.949133 \r\nz\r\n\" style=\"fill:#1f77b4;\"/>\r\n   </g>\r\n   <g id=\"patch_65\">\r\n    <path clip-path=\"url(#p7c0e308ced)\" d=\"M 282.200085 224.64 \r\nL 284.639874 224.64 \r\nL 284.639874 32.447811 \r\nL 282.200085 32.447811 \r\nz\r\n\" style=\"fill:#1f77b4;\"/>\r\n   </g>\r\n   <g id=\"patch_66\">\r\n    <path clip-path=\"url(#p7c0e308ced)\" d=\"M 285.249821 224.64 \r\nL 287.689609 224.64 \r\nL 287.689609 50.751829 \r\nL 285.249821 50.751829 \r\nz\r\n\" style=\"fill:#1f77b4;\"/>\r\n   </g>\r\n   <g id=\"patch_67\">\r\n    <path clip-path=\"url(#p7c0e308ced)\" d=\"M 288.299557 224.64 \r\nL 290.739345 224.64 \r\nL 290.739345 73.846352 \r\nL 288.299557 73.846352 \r\nz\r\n\" style=\"fill:#1f77b4;\"/>\r\n   </g>\r\n   <g id=\"patch_68\">\r\n    <path clip-path=\"url(#p7c0e308ced)\" d=\"M 291.349292 224.64 \r\nL 293.789081 224.64 \r\nL 293.789081 99.365277 \r\nL 291.349292 99.365277 \r\nz\r\n\" style=\"fill:#1f77b4;\"/>\r\n   </g>\r\n   <g id=\"patch_69\">\r\n    <path clip-path=\"url(#p7c0e308ced)\" d=\"M 294.399028 224.64 \r\nL 296.838817 224.64 \r\nL 296.838817 124.989652 \r\nL 294.399028 124.989652 \r\nz\r\n\" style=\"fill:#1f77b4;\"/>\r\n   </g>\r\n   <g id=\"patch_70\">\r\n    <path clip-path=\"url(#p7c0e308ced)\" d=\"M 297.448764 224.64 \r\nL 299.888553 224.64 \r\nL 299.888553 148.78675 \r\nL 297.448764 148.78675 \r\nz\r\n\" style=\"fill:#1f77b4;\"/>\r\n   </g>\r\n   <g id=\"patch_71\">\r\n    <path clip-path=\"url(#p7c0e308ced)\" d=\"M 300.4985 224.64 \r\nL 302.938289 224.64 \r\nL 302.938289 169.423296 \r\nL 300.4985 169.423296 \r\nz\r\n\" style=\"fill:#1f77b4;\"/>\r\n   </g>\r\n   <g id=\"patch_72\">\r\n    <path clip-path=\"url(#p7c0e308ced)\" d=\"M 303.548236 224.64 \r\nL 305.988024 224.64 \r\nL 305.988024 186.22838 \r\nL 303.548236 186.22838 \r\nz\r\n\" style=\"fill:#1f77b4;\"/>\r\n   </g>\r\n   <g id=\"patch_73\">\r\n    <path clip-path=\"url(#p7c0e308ced)\" d=\"M 306.597972 224.64 \r\nL 309.03776 224.64 \r\nL 309.03776 199.12371 \r\nL 306.597972 199.12371 \r\nz\r\n\" style=\"fill:#1f77b4;\"/>\r\n   </g>\r\n   <g id=\"patch_74\">\r\n    <path clip-path=\"url(#p7c0e308ced)\" d=\"M 309.647707 224.64 \r\nL 312.087496 224.64 \r\nL 312.087496 208.467703 \r\nL 309.647707 208.467703 \r\nz\r\n\" style=\"fill:#1f77b4;\"/>\r\n   </g>\r\n   <g id=\"patch_75\">\r\n    <path clip-path=\"url(#p7c0e308ced)\" d=\"M 312.697443 224.64 \r\nL 315.137232 224.64 \r\nL 315.137232 214.869237 \r\nL 312.697443 214.869237 \r\nz\r\n\" style=\"fill:#1f77b4;\"/>\r\n   </g>\r\n   <g id=\"patch_76\">\r\n    <path clip-path=\"url(#p7c0e308ced)\" d=\"M 315.747179 224.64 \r\nL 318.186968 224.64 \r\nL 318.186968 219.018465 \r\nL 315.747179 219.018465 \r\nz\r\n\" style=\"fill:#1f77b4;\"/>\r\n   </g>\r\n   <g id=\"patch_77\">\r\n    <path clip-path=\"url(#p7c0e308ced)\" d=\"M 318.796915 224.64 \r\nL 321.236704 224.64 \r\nL 321.236704 221.563349 \r\nL 318.796915 221.563349 \r\nz\r\n\" style=\"fill:#1f77b4;\"/>\r\n   </g>\r\n   <g id=\"patch_78\">\r\n    <path clip-path=\"url(#p7c0e308ced)\" d=\"M 321.846651 224.64 \r\nL 324.286439 224.64 \r\nL 324.286439 223.040142 \r\nL 321.846651 223.040142 \r\nz\r\n\" style=\"fill:#1f77b4;\"/>\r\n   </g>\r\n   <g id=\"patch_79\">\r\n    <path clip-path=\"url(#p7c0e308ced)\" d=\"M 324.896387 224.64 \r\nL 327.336175 224.64 \r\nL 327.336175 223.850596 \r\nL 324.896387 223.850596 \r\nz\r\n\" style=\"fill:#1f77b4;\"/>\r\n   </g>\r\n   <g id=\"patch_80\">\r\n    <path clip-path=\"url(#p7c0e308ced)\" d=\"M 327.946122 224.64 \r\nL 330.385911 224.64 \r\nL 330.385911 224.270928 \r\nL 327.946122 224.270928 \r\nz\r\n\" style=\"fill:#1f77b4;\"/>\r\n   </g>\r\n   <g id=\"patch_81\">\r\n    <path clip-path=\"url(#p7c0e308ced)\" d=\"M 330.995858 224.64 \r\nL 333.435647 224.64 \r\nL 333.435647 224.476757 \r\nL 330.995858 224.476757 \r\nz\r\n\" style=\"fill:#1f77b4;\"/>\r\n   </g>\r\n   <g id=\"patch_82\">\r\n    <path clip-path=\"url(#p7c0e308ced)\" d=\"M 334.045594 224.64 \r\nL 336.485383 224.64 \r\nL 336.485383 224.57181 \r\nL 334.045594 224.57181 \r\nz\r\n\" style=\"fill:#1f77b4;\"/>\r\n   </g>\r\n   <g id=\"patch_83\">\r\n    <path clip-path=\"url(#p7c0e308ced)\" d=\"M 337.09533 224.64 \r\nL 339.535119 224.64 \r\nL 339.535119 224.61315 \r\nL 337.09533 224.61315 \r\nz\r\n\" style=\"fill:#1f77b4;\"/>\r\n   </g>\r\n   <g id=\"patch_84\">\r\n    <path clip-path=\"url(#p7c0e308ced)\" d=\"M 340.145066 224.64 \r\nL 342.584854 224.64 \r\nL 342.584854 224.630056 \r\nL 340.145066 224.630056 \r\nz\r\n\" style=\"fill:#1f77b4;\"/>\r\n   </g>\r\n   <g id=\"patch_85\">\r\n    <path clip-path=\"url(#p7c0e308ced)\" d=\"M 343.194802 224.64 \r\nL 345.63459 224.64 \r\nL 345.63459 224.636544 \r\nL 343.194802 224.636544 \r\nz\r\n\" style=\"fill:#1f77b4;\"/>\r\n   </g>\r\n   <g id=\"patch_86\">\r\n    <path clip-path=\"url(#p7c0e308ced)\" d=\"M 346.244537 224.64 \r\nL 348.684326 224.64 \r\nL 348.684326 224.638876 \r\nL 346.244537 224.638876 \r\nz\r\n\" style=\"fill:#1f77b4;\"/>\r\n   </g>\r\n   <g id=\"patch_87\">\r\n    <path clip-path=\"url(#p7c0e308ced)\" d=\"M 349.294273 224.64 \r\nL 351.734062 224.64 \r\nL 351.734062 224.639659 \r\nL 349.294273 224.639659 \r\nz\r\n\" style=\"fill:#1f77b4;\"/>\r\n   </g>\r\n   <g id=\"patch_88\">\r\n    <path clip-path=\"url(#p7c0e308ced)\" d=\"M 352.344009 224.64 \r\nL 354.783798 224.64 \r\nL 354.783798 224.639904 \r\nL 352.344009 224.639904 \r\nz\r\n\" style=\"fill:#1f77b4;\"/>\r\n   </g>\r\n   <g id=\"patch_89\">\r\n    <path clip-path=\"url(#p7c0e308ced)\" d=\"M 355.393745 224.64 \r\nL 357.833534 224.64 \r\nL 357.833534 224.639975 \r\nL 355.393745 224.639975 \r\nz\r\n\" style=\"fill:#1f77b4;\"/>\r\n   </g>\r\n   <g id=\"patch_90\">\r\n    <path clip-path=\"url(#p7c0e308ced)\" d=\"M 358.443481 224.64 \r\nL 360.883269 224.64 \r\nL 360.883269 224.639994 \r\nL 358.443481 224.639994 \r\nz\r\n\" style=\"fill:#1f77b4;\"/>\r\n   </g>\r\n   <g id=\"patch_91\">\r\n    <path clip-path=\"url(#p7c0e308ced)\" d=\"M 361.493217 224.64 \r\nL 363.933005 224.64 \r\nL 363.933005 224.639999 \r\nL 361.493217 224.639999 \r\nz\r\n\" style=\"fill:#1f77b4;\"/>\r\n   </g>\r\n   <g id=\"patch_92\">\r\n    <path clip-path=\"url(#p7c0e308ced)\" d=\"M 364.542952 224.64 \r\nL 366.982741 224.64 \r\nL 366.982741 224.64 \r\nL 364.542952 224.64 \r\nz\r\n\" style=\"fill:#1f77b4;\"/>\r\n   </g>\r\n   <g id=\"patch_93\">\r\n    <path clip-path=\"url(#p7c0e308ced)\" d=\"M 367.592688 224.64 \r\nL 370.032477 224.64 \r\nL 370.032477 224.64 \r\nL 367.592688 224.64 \r\nz\r\n\" style=\"fill:#1f77b4;\"/>\r\n   </g>\r\n   <g id=\"patch_94\">\r\n    <path clip-path=\"url(#p7c0e308ced)\" d=\"M 370.642424 224.64 \r\nL 373.082213 224.64 \r\nL 373.082213 224.64 \r\nL 370.642424 224.64 \r\nz\r\n\" style=\"fill:#1f77b4;\"/>\r\n   </g>\r\n   <g id=\"patch_95\">\r\n    <path clip-path=\"url(#p7c0e308ced)\" d=\"M 373.69216 224.64 \r\nL 376.131949 224.64 \r\nL 376.131949 224.64 \r\nL 373.69216 224.64 \r\nz\r\n\" style=\"fill:#1f77b4;\"/>\r\n   </g>\r\n   <g id=\"patch_96\">\r\n    <path clip-path=\"url(#p7c0e308ced)\" d=\"M 376.741896 224.64 \r\nL 379.181684 224.64 \r\nL 379.181684 224.64 \r\nL 376.741896 224.64 \r\nz\r\n\" style=\"fill:#1f77b4;\"/>\r\n   </g>\r\n   <g id=\"patch_97\">\r\n    <path clip-path=\"url(#p7c0e308ced)\" d=\"M 379.791632 224.64 \r\nL 382.23142 224.64 \r\nL 382.23142 224.64 \r\nL 379.791632 224.64 \r\nz\r\n\" style=\"fill:#1f77b4;\"/>\r\n   </g>\r\n   <g id=\"patch_98\">\r\n    <path clip-path=\"url(#p7c0e308ced)\" d=\"M 382.841367 224.64 \r\nL 385.281156 224.64 \r\nL 385.281156 224.64 \r\nL 382.841367 224.64 \r\nz\r\n\" style=\"fill:#1f77b4;\"/>\r\n   </g>\r\n   <g id=\"patch_99\">\r\n    <path clip-path=\"url(#p7c0e308ced)\" d=\"M 385.891103 224.64 \r\nL 388.330892 224.64 \r\nL 388.330892 224.64 \r\nL 385.891103 224.64 \r\nz\r\n\" style=\"fill:#1f77b4;\"/>\r\n   </g>\r\n   <g id=\"patch_100\">\r\n    <path clip-path=\"url(#p7c0e308ced)\" d=\"M 388.940839 224.64 \r\nL 391.380628 224.64 \r\nL 391.380628 224.64 \r\nL 388.940839 224.64 \r\nz\r\n\" style=\"fill:#1f77b4;\"/>\r\n   </g>\r\n   <g id=\"patch_101\">\r\n    <path clip-path=\"url(#p7c0e308ced)\" d=\"M 391.990575 224.64 \r\nL 394.430364 224.64 \r\nL 394.430364 224.64 \r\nL 391.990575 224.64 \r\nz\r\n\" style=\"fill:#1f77b4;\"/>\r\n   </g>\r\n   <g id=\"patch_102\">\r\n    <path clip-path=\"url(#p7c0e308ced)\" d=\"M 395.040311 224.64 \r\nL 397.480099 224.64 \r\nL 397.480099 224.64 \r\nL 395.040311 224.64 \r\nz\r\n\" style=\"fill:#1f77b4;\"/>\r\n   </g>\r\n   <g id=\"matplotlib.axis_1\">\r\n    <g id=\"xtick_1\">\r\n     <g id=\"line2d_1\">\r\n      <defs>\r\n       <path d=\"M 0 0 \r\nL 0 9 \r\n\" id=\"m5969006de5\" style=\"stroke:#000000;stroke-width:1.875;\"/>\r\n      </defs>\r\n      <g>\r\n       <use style=\"stroke:#000000;stroke-width:1.875;\" x=\"94.336357\" xlink:href=\"#m5969006de5\" y=\"224.64\"/>\r\n      </g>\r\n     </g>\r\n     <g id=\"text_1\">\r\n      <!-- 0 -->\r\n      <defs>\r\n       <path d=\"M 31.78125 66.40625 \r\nQ 24.171875 66.40625 20.328125 58.90625 \r\nQ 16.5 51.421875 16.5 36.375 \r\nQ 16.5 21.390625 20.328125 13.890625 \r\nQ 24.171875 6.390625 31.78125 6.390625 \r\nQ 39.453125 6.390625 43.28125 13.890625 \r\nQ 47.125 21.390625 47.125 36.375 \r\nQ 47.125 51.421875 43.28125 58.90625 \r\nQ 39.453125 66.40625 31.78125 66.40625 \r\nz\r\nM 31.78125 74.21875 \r\nQ 44.046875 74.21875 50.515625 64.515625 \r\nQ 56.984375 54.828125 56.984375 36.375 \r\nQ 56.984375 17.96875 50.515625 8.265625 \r\nQ 44.046875 -1.421875 31.78125 -1.421875 \r\nQ 19.53125 -1.421875 13.0625 8.265625 \r\nQ 6.59375 17.96875 6.59375 36.375 \r\nQ 6.59375 54.828125 13.0625 64.515625 \r\nQ 19.53125 74.21875 31.78125 74.21875 \r\nz\r\n\" id=\"DejaVuSans-48\"/>\r\n      </defs>\r\n      <g transform=\"translate(89.087295 249.677422)scale(0.165 -0.165)\">\r\n       <use xlink:href=\"#DejaVuSans-48\"/>\r\n      </g>\r\n     </g>\r\n    </g>\r\n    <g id=\"xtick_2\">\r\n     <g id=\"line2d_2\">\r\n      <g>\r\n       <use style=\"stroke:#000000;stroke-width:1.875;\" x=\"155.331074\" xlink:href=\"#m5969006de5\" y=\"224.64\"/>\r\n      </g>\r\n     </g>\r\n     <g id=\"text_2\">\r\n      <!-- 20 -->\r\n      <defs>\r\n       <path d=\"M 19.1875 8.296875 \r\nL 53.609375 8.296875 \r\nL 53.609375 0 \r\nL 7.328125 0 \r\nL 7.328125 8.296875 \r\nQ 12.9375 14.109375 22.625 23.890625 \r\nQ 32.328125 33.6875 34.8125 36.53125 \r\nQ 39.546875 41.84375 41.421875 45.53125 \r\nQ 43.3125 49.21875 43.3125 52.78125 \r\nQ 43.3125 58.59375 39.234375 62.25 \r\nQ 35.15625 65.921875 28.609375 65.921875 \r\nQ 23.96875 65.921875 18.8125 64.3125 \r\nQ 13.671875 62.703125 7.8125 59.421875 \r\nL 7.8125 69.390625 \r\nQ 13.765625 71.78125 18.9375 73 \r\nQ 24.125 74.21875 28.421875 74.21875 \r\nQ 39.75 74.21875 46.484375 68.546875 \r\nQ 53.21875 62.890625 53.21875 53.421875 \r\nQ 53.21875 48.921875 51.53125 44.890625 \r\nQ 49.859375 40.875 45.40625 35.40625 \r\nQ 44.1875 33.984375 37.640625 27.21875 \r\nQ 31.109375 20.453125 19.1875 8.296875 \r\nz\r\n\" id=\"DejaVuSans-50\"/>\r\n      </defs>\r\n      <g transform=\"translate(144.832949 249.677422)scale(0.165 -0.165)\">\r\n       <use xlink:href=\"#DejaVuSans-50\"/>\r\n       <use x=\"63.623047\" xlink:href=\"#DejaVuSans-48\"/>\r\n      </g>\r\n     </g>\r\n    </g>\r\n    <g id=\"xtick_3\">\r\n     <g id=\"line2d_3\">\r\n      <g>\r\n       <use style=\"stroke:#000000;stroke-width:1.875;\" x=\"216.325791\" xlink:href=\"#m5969006de5\" y=\"224.64\"/>\r\n      </g>\r\n     </g>\r\n     <g id=\"text_3\">\r\n      <!-- 40 -->\r\n      <defs>\r\n       <path d=\"M 37.796875 64.3125 \r\nL 12.890625 25.390625 \r\nL 37.796875 25.390625 \r\nz\r\nM 35.203125 72.90625 \r\nL 47.609375 72.90625 \r\nL 47.609375 25.390625 \r\nL 58.015625 25.390625 \r\nL 58.015625 17.1875 \r\nL 47.609375 17.1875 \r\nL 47.609375 0 \r\nL 37.796875 0 \r\nL 37.796875 17.1875 \r\nL 4.890625 17.1875 \r\nL 4.890625 26.703125 \r\nz\r\n\" id=\"DejaVuSans-52\"/>\r\n      </defs>\r\n      <g transform=\"translate(205.827666 249.677422)scale(0.165 -0.165)\">\r\n       <use xlink:href=\"#DejaVuSans-52\"/>\r\n       <use x=\"63.623047\" xlink:href=\"#DejaVuSans-48\"/>\r\n      </g>\r\n     </g>\r\n    </g>\r\n    <g id=\"xtick_4\">\r\n     <g id=\"line2d_4\">\r\n      <g>\r\n       <use style=\"stroke:#000000;stroke-width:1.875;\" x=\"277.320508\" xlink:href=\"#m5969006de5\" y=\"224.64\"/>\r\n      </g>\r\n     </g>\r\n     <g id=\"text_4\">\r\n      <!-- 60 -->\r\n      <defs>\r\n       <path d=\"M 33.015625 40.375 \r\nQ 26.375 40.375 22.484375 35.828125 \r\nQ 18.609375 31.296875 18.609375 23.390625 \r\nQ 18.609375 15.53125 22.484375 10.953125 \r\nQ 26.375 6.390625 33.015625 6.390625 \r\nQ 39.65625 6.390625 43.53125 10.953125 \r\nQ 47.40625 15.53125 47.40625 23.390625 \r\nQ 47.40625 31.296875 43.53125 35.828125 \r\nQ 39.65625 40.375 33.015625 40.375 \r\nz\r\nM 52.59375 71.296875 \r\nL 52.59375 62.3125 \r\nQ 48.875 64.0625 45.09375 64.984375 \r\nQ 41.3125 65.921875 37.59375 65.921875 \r\nQ 27.828125 65.921875 22.671875 59.328125 \r\nQ 17.53125 52.734375 16.796875 39.40625 \r\nQ 19.671875 43.65625 24.015625 45.921875 \r\nQ 28.375 48.1875 33.59375 48.1875 \r\nQ 44.578125 48.1875 50.953125 41.515625 \r\nQ 57.328125 34.859375 57.328125 23.390625 \r\nQ 57.328125 12.15625 50.6875 5.359375 \r\nQ 44.046875 -1.421875 33.015625 -1.421875 \r\nQ 20.359375 -1.421875 13.671875 8.265625 \r\nQ 6.984375 17.96875 6.984375 36.375 \r\nQ 6.984375 53.65625 15.1875 63.9375 \r\nQ 23.390625 74.21875 37.203125 74.21875 \r\nQ 40.921875 74.21875 44.703125 73.484375 \r\nQ 48.484375 72.75 52.59375 71.296875 \r\nz\r\n\" id=\"DejaVuSans-54\"/>\r\n      </defs>\r\n      <g transform=\"translate(266.822383 249.677422)scale(0.165 -0.165)\">\r\n       <use xlink:href=\"#DejaVuSans-54\"/>\r\n       <use x=\"63.623047\" xlink:href=\"#DejaVuSans-48\"/>\r\n      </g>\r\n     </g>\r\n    </g>\r\n    <g id=\"xtick_5\">\r\n     <g id=\"line2d_5\">\r\n      <g>\r\n       <use style=\"stroke:#000000;stroke-width:1.875;\" x=\"338.315224\" xlink:href=\"#m5969006de5\" y=\"224.64\"/>\r\n      </g>\r\n     </g>\r\n     <g id=\"text_5\">\r\n      <!-- 80 -->\r\n      <defs>\r\n       <path d=\"M 31.78125 34.625 \r\nQ 24.75 34.625 20.71875 30.859375 \r\nQ 16.703125 27.09375 16.703125 20.515625 \r\nQ 16.703125 13.921875 20.71875 10.15625 \r\nQ 24.75 6.390625 31.78125 6.390625 \r\nQ 38.8125 6.390625 42.859375 10.171875 \r\nQ 46.921875 13.96875 46.921875 20.515625 \r\nQ 46.921875 27.09375 42.890625 30.859375 \r\nQ 38.875 34.625 31.78125 34.625 \r\nz\r\nM 21.921875 38.8125 \r\nQ 15.578125 40.375 12.03125 44.71875 \r\nQ 8.5 49.078125 8.5 55.328125 \r\nQ 8.5 64.0625 14.71875 69.140625 \r\nQ 20.953125 74.21875 31.78125 74.21875 \r\nQ 42.671875 74.21875 48.875 69.140625 \r\nQ 55.078125 64.0625 55.078125 55.328125 \r\nQ 55.078125 49.078125 51.53125 44.71875 \r\nQ 48 40.375 41.703125 38.8125 \r\nQ 48.828125 37.15625 52.796875 32.3125 \r\nQ 56.78125 27.484375 56.78125 20.515625 \r\nQ 56.78125 9.90625 50.3125 4.234375 \r\nQ 43.84375 -1.421875 31.78125 -1.421875 \r\nQ 19.734375 -1.421875 13.25 4.234375 \r\nQ 6.78125 9.90625 6.78125 20.515625 \r\nQ 6.78125 27.484375 10.78125 32.3125 \r\nQ 14.796875 37.15625 21.921875 38.8125 \r\nz\r\nM 18.3125 54.390625 \r\nQ 18.3125 48.734375 21.84375 45.5625 \r\nQ 25.390625 42.390625 31.78125 42.390625 \r\nQ 38.140625 42.390625 41.71875 45.5625 \r\nQ 45.3125 48.734375 45.3125 54.390625 \r\nQ 45.3125 60.0625 41.71875 63.234375 \r\nQ 38.140625 66.40625 31.78125 66.40625 \r\nQ 25.390625 66.40625 21.84375 63.234375 \r\nQ 18.3125 60.0625 18.3125 54.390625 \r\nz\r\n\" id=\"DejaVuSans-56\"/>\r\n      </defs>\r\n      <g transform=\"translate(327.817099 249.677422)scale(0.165 -0.165)\">\r\n       <use xlink:href=\"#DejaVuSans-56\"/>\r\n       <use x=\"63.623047\" xlink:href=\"#DejaVuSans-48\"/>\r\n      </g>\r\n     </g>\r\n    </g>\r\n    <g id=\"xtick_6\">\r\n     <g id=\"line2d_6\">\r\n      <g>\r\n       <use style=\"stroke:#000000;stroke-width:1.875;\" x=\"399.309941\" xlink:href=\"#m5969006de5\" y=\"224.64\"/>\r\n      </g>\r\n     </g>\r\n     <g id=\"text_6\">\r\n      <!-- 100 -->\r\n      <defs>\r\n       <path d=\"M 12.40625 8.296875 \r\nL 28.515625 8.296875 \r\nL 28.515625 63.921875 \r\nL 10.984375 60.40625 \r\nL 10.984375 69.390625 \r\nL 28.421875 72.90625 \r\nL 38.28125 72.90625 \r\nL 38.28125 8.296875 \r\nL 54.390625 8.296875 \r\nL 54.390625 0 \r\nL 12.40625 0 \r\nz\r\n\" id=\"DejaVuSans-49\"/>\r\n      </defs>\r\n      <g transform=\"translate(383.562753 249.677422)scale(0.165 -0.165)\">\r\n       <use xlink:href=\"#DejaVuSans-49\"/>\r\n       <use x=\"63.623047\" xlink:href=\"#DejaVuSans-48\"/>\r\n       <use x=\"127.246094\" xlink:href=\"#DejaVuSans-48\"/>\r\n      </g>\r\n     </g>\r\n    </g>\r\n    <g id=\"text_7\">\r\n     <!-- $x$ -->\r\n     <defs>\r\n      <path d=\"M 60.015625 54.6875 \r\nL 34.90625 27.875 \r\nL 50.296875 0 \r\nL 39.984375 0 \r\nL 28.421875 21.6875 \r\nL 8.296875 0 \r\nL -2.59375 0 \r\nL 24.3125 28.8125 \r\nL 10.015625 54.6875 \r\nL 20.3125 54.6875 \r\nL 30.8125 34.90625 \r\nL 49.125 54.6875 \r\nz\r\n\" id=\"DejaVuSans-Oblique-120\"/>\r\n     </defs>\r\n     <g transform=\"translate(239.898281 270.786094)scale(0.18 -0.18)\">\r\n      <use transform=\"translate(0 0.3125)\" xlink:href=\"#DejaVuSans-Oblique-120\"/>\r\n     </g>\r\n    </g>\r\n   </g>\r\n   <g id=\"matplotlib.axis_2\">\r\n    <g id=\"ytick_1\">\r\n     <g id=\"line2d_7\">\r\n      <defs>\r\n       <path d=\"M 0 0 \r\nL -9 0 \r\n\" id=\"m980550dd86\" style=\"stroke:#000000;stroke-width:1.875;\"/>\r\n      </defs>\r\n      <g>\r\n       <use style=\"stroke:#000000;stroke-width:1.875;\" x=\"77.898281\" xlink:href=\"#m980550dd86\" y=\"224.64\"/>\r\n      </g>\r\n     </g>\r\n     <g id=\"text_8\">\r\n      <!-- 0.00 -->\r\n      <defs>\r\n       <path d=\"M 10.6875 12.40625 \r\nL 21 12.40625 \r\nL 21 0 \r\nL 10.6875 0 \r\nz\r\n\" id=\"DejaVuSans-46\"/>\r\n      </defs>\r\n      <g transform=\"translate(28.66 230.908711)scale(0.165 -0.165)\">\r\n       <use xlink:href=\"#DejaVuSans-48\"/>\r\n       <use x=\"63.623047\" xlink:href=\"#DejaVuSans-46\"/>\r\n       <use x=\"95.410156\" xlink:href=\"#DejaVuSans-48\"/>\r\n       <use x=\"159.033203\" xlink:href=\"#DejaVuSans-48\"/>\r\n      </g>\r\n     </g>\r\n    </g>\r\n    <g id=\"ytick_2\">\r\n     <g id=\"line2d_8\">\r\n      <g>\r\n       <use style=\"stroke:#000000;stroke-width:1.875;\" x=\"77.898281\" xlink:href=\"#m980550dd86\" y=\"173.64569\"/>\r\n      </g>\r\n     </g>\r\n     <g id=\"text_9\">\r\n      <!-- 0.02 -->\r\n      <g transform=\"translate(28.66 179.914401)scale(0.165 -0.165)\">\r\n       <use xlink:href=\"#DejaVuSans-48\"/>\r\n       <use x=\"63.623047\" xlink:href=\"#DejaVuSans-46\"/>\r\n       <use x=\"95.410156\" xlink:href=\"#DejaVuSans-48\"/>\r\n       <use x=\"159.033203\" xlink:href=\"#DejaVuSans-50\"/>\r\n      </g>\r\n     </g>\r\n    </g>\r\n    <g id=\"ytick_3\">\r\n     <g id=\"line2d_9\">\r\n      <g>\r\n       <use style=\"stroke:#000000;stroke-width:1.875;\" x=\"77.898281\" xlink:href=\"#m980550dd86\" y=\"122.651379\"/>\r\n      </g>\r\n     </g>\r\n     <g id=\"text_10\">\r\n      <!-- 0.04 -->\r\n      <g transform=\"translate(28.66 128.92009)scale(0.165 -0.165)\">\r\n       <use xlink:href=\"#DejaVuSans-48\"/>\r\n       <use x=\"63.623047\" xlink:href=\"#DejaVuSans-46\"/>\r\n       <use x=\"95.410156\" xlink:href=\"#DejaVuSans-48\"/>\r\n       <use x=\"159.033203\" xlink:href=\"#DejaVuSans-52\"/>\r\n      </g>\r\n     </g>\r\n    </g>\r\n    <g id=\"ytick_4\">\r\n     <g id=\"line2d_10\">\r\n      <g>\r\n       <use style=\"stroke:#000000;stroke-width:1.875;\" x=\"77.898281\" xlink:href=\"#m980550dd86\" y=\"71.657069\"/>\r\n      </g>\r\n     </g>\r\n     <g id=\"text_11\">\r\n      <!-- 0.06 -->\r\n      <g transform=\"translate(28.66 77.92578)scale(0.165 -0.165)\">\r\n       <use xlink:href=\"#DejaVuSans-48\"/>\r\n       <use x=\"63.623047\" xlink:href=\"#DejaVuSans-46\"/>\r\n       <use x=\"95.410156\" xlink:href=\"#DejaVuSans-48\"/>\r\n       <use x=\"159.033203\" xlink:href=\"#DejaVuSans-54\"/>\r\n      </g>\r\n     </g>\r\n    </g>\r\n    <g id=\"ytick_5\">\r\n     <g id=\"line2d_11\">\r\n      <g>\r\n       <use style=\"stroke:#000000;stroke-width:1.875;\" x=\"77.898281\" xlink:href=\"#m980550dd86\" y=\"20.662759\"/>\r\n      </g>\r\n     </g>\r\n     <g id=\"text_12\">\r\n      <!-- 0.08 -->\r\n      <g transform=\"translate(28.66 26.93147)scale(0.165 -0.165)\">\r\n       <use xlink:href=\"#DejaVuSans-48\"/>\r\n       <use x=\"63.623047\" xlink:href=\"#DejaVuSans-46\"/>\r\n       <use x=\"95.410156\" xlink:href=\"#DejaVuSans-48\"/>\r\n       <use x=\"159.033203\" xlink:href=\"#DejaVuSans-56\"/>\r\n      </g>\r\n     </g>\r\n    </g>\r\n    <g id=\"text_13\">\r\n     <!-- $p(x)$ -->\r\n     <defs>\r\n      <path d=\"M 49.609375 33.6875 \r\nQ 49.609375 40.875 46.484375 44.671875 \r\nQ 43.359375 48.484375 37.5 48.484375 \r\nQ 33.5 48.484375 29.859375 46.4375 \r\nQ 26.21875 44.390625 23.390625 40.484375 \r\nQ 20.609375 36.625 18.9375 31.15625 \r\nQ 17.28125 25.6875 17.28125 20.3125 \r\nQ 17.28125 13.484375 20.40625 9.796875 \r\nQ 23.53125 6.109375 29.296875 6.109375 \r\nQ 33.546875 6.109375 37.1875 8.109375 \r\nQ 40.828125 10.109375 43.40625 13.921875 \r\nQ 46.1875 17.921875 47.890625 23.34375 \r\nQ 49.609375 28.765625 49.609375 33.6875 \r\nz\r\nM 21.78125 46.390625 \r\nQ 25.390625 51.125 30.296875 53.5625 \r\nQ 35.203125 56 41.21875 56 \r\nQ 49.609375 56 54.25 50.5 \r\nQ 58.890625 45.015625 58.890625 35.109375 \r\nQ 58.890625 27 56 19.65625 \r\nQ 53.125 12.3125 47.703125 6.5 \r\nQ 44.09375 2.640625 39.546875 0.609375 \r\nQ 35.015625 -1.421875 29.984375 -1.421875 \r\nQ 24.171875 -1.421875 20.21875 1 \r\nQ 16.265625 3.421875 14.3125 8.203125 \r\nL 8.6875 -20.796875 \r\nL -0.296875 -20.796875 \r\nL 14.40625 54.6875 \r\nL 23.390625 54.6875 \r\nz\r\n\" id=\"DejaVuSans-Oblique-112\"/>\r\n      <path d=\"M 31 75.875 \r\nQ 24.46875 64.65625 21.28125 53.65625 \r\nQ 18.109375 42.671875 18.109375 31.390625 \r\nQ 18.109375 20.125 21.3125 9.0625 \r\nQ 24.515625 -2 31 -13.1875 \r\nL 23.1875 -13.1875 \r\nQ 15.875 -1.703125 12.234375 9.375 \r\nQ 8.59375 20.453125 8.59375 31.390625 \r\nQ 8.59375 42.28125 12.203125 53.3125 \r\nQ 15.828125 64.359375 23.1875 75.875 \r\nz\r\n\" id=\"DejaVuSans-40\"/>\r\n      <path d=\"M 8.015625 75.875 \r\nL 15.828125 75.875 \r\nQ 23.140625 64.359375 26.78125 53.3125 \r\nQ 30.421875 42.28125 30.421875 31.390625 \r\nQ 30.421875 20.453125 26.78125 9.375 \r\nQ 23.140625 -1.703125 15.828125 -13.1875 \r\nL 8.015625 -13.1875 \r\nQ 14.5 -2 17.703125 9.0625 \r\nQ 20.90625 20.125 20.90625 31.390625 \r\nQ 20.90625 42.671875 17.703125 53.65625 \r\nQ 14.5 64.65625 8.015625 75.875 \r\nz\r\n\" id=\"DejaVuSans-41\"/>\r\n     </defs>\r\n     <g transform=\"translate(20.88 134.01)rotate(-90)scale(0.18 -0.18)\">\r\n      <use transform=\"translate(0 0.125)\" xlink:href=\"#DejaVuSans-Oblique-112\"/>\r\n      <use transform=\"translate(63.476562 0.125)\" xlink:href=\"#DejaVuSans-40\"/>\r\n      <use transform=\"translate(102.490234 0.125)\" xlink:href=\"#DejaVuSans-Oblique-120\"/>\r\n      <use transform=\"translate(161.669922 0.125)\" xlink:href=\"#DejaVuSans-41\"/>\r\n     </g>\r\n    </g>\r\n   </g>\r\n   <g id=\"patch_103\">\r\n    <path d=\"M 77.898281 224.64 \r\nL 77.898281 7.2 \r\n\" style=\"fill:none;stroke:#000000;stroke-linecap:square;stroke-linejoin:miter;stroke-width:1.875;\"/>\r\n   </g>\r\n   <g id=\"patch_104\">\r\n    <path d=\"M 412.698281 224.64 \r\nL 412.698281 7.2 \r\n\" style=\"fill:none;stroke:#000000;stroke-linecap:square;stroke-linejoin:miter;stroke-width:1.875;\"/>\r\n   </g>\r\n   <g id=\"patch_105\">\r\n    <path d=\"M 77.898281 224.64 \r\nL 412.698281 224.64 \r\n\" style=\"fill:none;stroke:#000000;stroke-linecap:square;stroke-linejoin:miter;stroke-width:1.875;\"/>\r\n   </g>\r\n   <g id=\"patch_106\">\r\n    <path d=\"M 77.898281 7.2 \r\nL 412.698281 7.2 \r\n\" style=\"fill:none;stroke:#000000;stroke-linecap:square;stroke-linejoin:miter;stroke-width:1.875;\"/>\r\n   </g>\r\n  </g>\r\n </g>\r\n <defs>\r\n  <clipPath id=\"p7c0e308ced\">\r\n   <rect height=\"217.44\" width=\"334.8\" x=\"77.898281\" y=\"7.2\"/>\r\n  </clipPath>\r\n </defs>\r\n</svg>\r\n",
      "text/plain": "<Figure size 432x288 with 1 Axes>"
     },
     "metadata": {
      "needs_background": "light"
     },
     "output_type": "display_data"
    }
   ],
   "source": [
    "# Let's draw the pmf\n",
    "fig, ax = plt.subplots()\n",
    "xs = range(n)\n",
    "ax.bar(xs, X.pmf(xs))\n",
    "ax.set_xlabel('$x$')\n",
    "ax.set_ylabel('$p(x)$')"
   ]
  },
  {
   "cell_type": "markdown",
   "metadata": {
    "colab_type": "text",
    "id": "Jzh5WXoMTVgr"
   },
   "source": [
    "### Questions\n",
    "\n",
    "+ Start increasing the number of trials $n$. How does the resulting pmf look like?\n",
    "This starts to look like a bell curve. And indeed it is!"
   ]
  },
  {
   "cell_type": "markdown",
   "metadata": {
    "colab_type": "text",
    "id": "TWSyuUq_TVgs"
   },
   "source": [
    "## Example: The categorical distribution\n",
    "\n",
    "This is a generalization of the Bernoulli also known as *multinulli*.\n",
    "It is the probability distribution assigned to a random variable taking $K$ different values each one with a given, but different, probability.\n",
    "It is:\n",
    "$$\n",
    "p(X=k) = p_k.\n",
    "$$\n",
    "For example, if all the different values are equally probably, then we could have:\n",
    "$$\n",
    "p(X=k) = \\frac{1}{K}.\n",
    "$$\n",
    "Let's see how we can sample from it."
   ]
  },
  {
   "cell_type": "code",
   "execution_count": 40,
   "metadata": {},
   "outputs": [],
   "source": [
    "# Just pick some probabilities\n",
    "ps = [0.1, 0.3, 0.4, 0.2] # this has to sum to 1\n",
    "# And here are the corresponding values\n",
    "xs = [0, 1, 2, 3]\n",
    "# Here is how you can define a categorical rv:\n",
    "X = st.rv_discrete(name='Custom Categorical', values=(xs, ps))"
   ]
  },
  {
   "cell_type": "code",
   "execution_count": 42,
   "metadata": {},
   "outputs": [
    {
     "name": "stdout",
     "output_type": "stream",
     "text": "[1 1 0 2 0 3 2 3 1 1]\n"
    }
   ],
   "source": [
    "print(X.rvs(size=10))"
   ]
  },
  {
   "cell_type": "code",
   "execution_count": 43,
   "metadata": {},
   "outputs": [
    {
     "name": "stdout",
     "output_type": "stream",
     "text": "0.4\n"
    }
   ],
   "source": [
    "# You can get the pmf:\n",
    "print(X.pmf(2))"
   ]
  },
  {
   "cell_type": "markdown",
   "metadata": {
    "colab_type": "text",
    "id": "ocG8zYRlTVg0"
   },
   "source": [
    "## Example: The Poisson distribution\n",
    "\n",
    "The Poisson distribution models the number of times an event occurs in an interval of space or time.\n",
    "For example, a Poisson random variable $X$ may be:\n",
    "\n",
    "+ The number earthquakes greater than 6 Richter occuring over the next 100 years.\n",
    "+ The number of major floods over the next 100 years.\n",
    "+ The number of patients arriving at the emergency room during the night shift.\n",
    "+ The number of electrons hitting a detector in a specific time interval.\n",
    "\n",
    "The Poisson is a good model when the following assumptions are true:\n",
    "+ The number of times an event occurs in an interval takes values $0,1,2,\\dots$.\n",
    "+ Events occur independently.\n",
    "+ The probability that an event occurs is constant per unit of time.\n",
    "+ The average rate at which events occur is constant.\n",
    "+ Events cannot occur at the same time.\n",
    "\n",
    "When these assumptions are valid, we can write:\n",
    "$$\n",
    "X\\sim \\operatorname{Pois}(\\lambda),\n",
    "$$\n",
    "where $\\lambda>0$ is the rate with each the events occur.\n",
    "The pmf of the Poisson is:\n",
    "$$\n",
    "p(X=k) = \\frac{\\lambda^ke^{-\\lambda}}{k!}.\n",
    "$$\n",
    "The expectation of the Poisson is:\n",
    "$$\n",
    "\\mathbb{E}[X] = \\sum_{k=0}^\\infty k p(X=k) = \\lambda.\n",
    "$$\n",
    "The variance is:\n",
    "$$\n",
    "\\mathbb{V}[X] = \\dots = \\lambda.\n",
    "$$\n",
    "\n",
    "Let's look at a specific example.\n",
    "Historical data show that at a given region a major earthquake occurs once every 100 years on average.\n",
    "What is the probability that $k$ such earthquakes will occur within the next 100 years.\n",
    "Let $X$ be the random variable corresponding to the number of earthquakes over the next 100 years.\n",
    "Assuming the Poisson model is valid, the rate parameter is $\\lambda = 1$ and we have:\n",
    "$$\n",
    "X\\sim \\operatorname{Pois}(1).\n",
    "$$\n",
    "The probabilities are:"
   ]
  },
  {
   "cell_type": "code",
   "execution_count": 45,
   "metadata": {},
   "outputs": [
    {
     "data": {
      "text/plain": "Text(0, 0.5, 'Probability of occurance')"
     },
     "execution_count": 45,
     "metadata": {},
     "output_type": "execute_result"
    },
    {
     "data": {
      "image/png": "[encoded data removed]",
      "image/svg+xml": "<?xml version=\"1.0\" encoding=\"utf-8\" standalone=\"no\"?>\r\n<!DOCTYPE svg PUBLIC \"-//W3C//DTD SVG 1.1//EN\"\r\n  \"http://www.w3.org/Graphics/SVG/1.1/DTD/svg11.dtd\">\r\n<!-- Created with matplotlib (https://matplotlib.org/) -->\r\n<svg height=\"281.84625pt\" version=\"1.1\" viewBox=\"0 0 459.399375 281.84625\" width=\"459.399375pt\" xmlns=\"http://www.w3.org/2000/svg\" xmlns:xlink=\"http://www.w3.org/1999/xlink\">\r\n <defs>\r\n  <style type=\"text/css\">\r\n*{stroke-linecap:butt;stroke-linejoin:round;}\r\n  </style>\r\n </defs>\r\n <g id=\"figure_1\">\r\n  <g id=\"patch_1\">\r\n   <path d=\"M 0 281.84625 \r\nL 459.399375 281.84625 \r\nL 459.399375 0 \r\nL 0 0 \r\nz\r\n\" style=\"fill:none;\"/>\r\n  </g>\r\n  <g id=\"axes_1\">\r\n   <g id=\"patch_2\">\r\n    <path d=\"M 67.360781 224.756719 \r\nL 402.160781 224.756719 \r\nL 402.160781 7.316719 \r\nL 67.360781 7.316719 \r\nz\r\n\" style=\"fill:#ffffff;\"/>\r\n   </g>\r\n   <g id=\"patch_3\">\r\n    <path clip-path=\"url(#pbdc8d10db0)\" d=\"M 82.578963 224.756719 \r\nL 124.560154 224.756719 \r\nL 124.560154 17.671004 \r\nL 82.578963 17.671004 \r\nz\r\n\" style=\"fill:#1f77b4;\"/>\r\n   </g>\r\n   <g id=\"patch_4\">\r\n    <path clip-path=\"url(#pbdc8d10db0)\" d=\"M 135.055452 224.756719 \r\nL 177.036643 224.756719 \r\nL 177.036643 17.671004 \r\nL 135.055452 17.671004 \r\nz\r\n\" style=\"fill:#1f77b4;\"/>\r\n   </g>\r\n   <g id=\"patch_5\">\r\n    <path clip-path=\"url(#pbdc8d10db0)\" d=\"M 187.531941 224.756719 \r\nL 229.513132 224.756719 \r\nL 229.513132 121.213862 \r\nL 187.531941 121.213862 \r\nz\r\n\" style=\"fill:#1f77b4;\"/>\r\n   </g>\r\n   <g id=\"patch_6\">\r\n    <path clip-path=\"url(#pbdc8d10db0)\" d=\"M 240.00843 224.756719 \r\nL 281.989621 224.756719 \r\nL 281.989621 190.242433 \r\nL 240.00843 190.242433 \r\nz\r\n\" style=\"fill:#1f77b4;\"/>\r\n   </g>\r\n   <g id=\"patch_7\">\r\n    <path clip-path=\"url(#pbdc8d10db0)\" d=\"M 292.484919 224.756719 \r\nL 334.46611 224.756719 \r\nL 334.46611 216.128147 \r\nL 292.484919 216.128147 \r\nz\r\n\" style=\"fill:#1f77b4;\"/>\r\n   </g>\r\n   <g id=\"patch_8\">\r\n    <path clip-path=\"url(#pbdc8d10db0)\" d=\"M 344.961408 224.756719 \r\nL 386.942599 224.756719 \r\nL 386.942599 223.031004 \r\nL 344.961408 223.031004 \r\nz\r\n\" style=\"fill:#1f77b4;\"/>\r\n   </g>\r\n   <g id=\"matplotlib.axis_1\">\r\n    <g id=\"xtick_1\">\r\n     <g id=\"line2d_1\">\r\n      <defs>\r\n       <path d=\"M 0 0 \r\nL 0 9 \r\n\" id=\"mb002bd4bed\" style=\"stroke:#000000;stroke-width:1.875;\"/>\r\n      </defs>\r\n      <g>\r\n       <use style=\"stroke:#000000;stroke-width:1.875;\" x=\"103.569559\" xlink:href=\"#mb002bd4bed\" y=\"224.756719\"/>\r\n      </g>\r\n     </g>\r\n     <g id=\"text_1\">\r\n      <!-- 0 -->\r\n      <defs>\r\n       <path d=\"M 31.78125 66.40625 \r\nQ 24.171875 66.40625 20.328125 58.90625 \r\nQ 16.5 51.421875 16.5 36.375 \r\nQ 16.5 21.390625 20.328125 13.890625 \r\nQ 24.171875 6.390625 31.78125 6.390625 \r\nQ 39.453125 6.390625 43.28125 13.890625 \r\nQ 47.125 21.390625 47.125 36.375 \r\nQ 47.125 51.421875 43.28125 58.90625 \r\nQ 39.453125 66.40625 31.78125 66.40625 \r\nz\r\nM 31.78125 74.21875 \r\nQ 44.046875 74.21875 50.515625 64.515625 \r\nQ 56.984375 54.828125 56.984375 36.375 \r\nQ 56.984375 17.96875 50.515625 8.265625 \r\nQ 44.046875 -1.421875 31.78125 -1.421875 \r\nQ 19.53125 -1.421875 13.0625 8.265625 \r\nQ 6.59375 17.96875 6.59375 36.375 \r\nQ 6.59375 54.828125 13.0625 64.515625 \r\nQ 19.53125 74.21875 31.78125 74.21875 \r\nz\r\n\" id=\"DejaVuSans-48\"/>\r\n      </defs>\r\n      <g transform=\"translate(98.320496 249.794141)scale(0.165 -0.165)\">\r\n       <use xlink:href=\"#DejaVuSans-48\"/>\r\n      </g>\r\n     </g>\r\n    </g>\r\n    <g id=\"xtick_2\">\r\n     <g id=\"line2d_2\">\r\n      <g>\r\n       <use style=\"stroke:#000000;stroke-width:1.875;\" x=\"208.522537\" xlink:href=\"#mb002bd4bed\" y=\"224.756719\"/>\r\n      </g>\r\n     </g>\r\n     <g id=\"text_2\">\r\n      <!-- 2 -->\r\n      <defs>\r\n       <path d=\"M 19.1875 8.296875 \r\nL 53.609375 8.296875 \r\nL 53.609375 0 \r\nL 7.328125 0 \r\nL 7.328125 8.296875 \r\nQ 12.9375 14.109375 22.625 23.890625 \r\nQ 32.328125 33.6875 34.8125 36.53125 \r\nQ 39.546875 41.84375 41.421875 45.53125 \r\nQ 43.3125 49.21875 43.3125 52.78125 \r\nQ 43.3125 58.59375 39.234375 62.25 \r\nQ 35.15625 65.921875 28.609375 65.921875 \r\nQ 23.96875 65.921875 18.8125 64.3125 \r\nQ 13.671875 62.703125 7.8125 59.421875 \r\nL 7.8125 69.390625 \r\nQ 13.765625 71.78125 18.9375 73 \r\nQ 24.125 74.21875 28.421875 74.21875 \r\nQ 39.75 74.21875 46.484375 68.546875 \r\nQ 53.21875 62.890625 53.21875 53.421875 \r\nQ 53.21875 48.921875 51.53125 44.890625 \r\nQ 49.859375 40.875 45.40625 35.40625 \r\nQ 44.1875 33.984375 37.640625 27.21875 \r\nQ 31.109375 20.453125 19.1875 8.296875 \r\nz\r\n\" id=\"DejaVuSans-50\"/>\r\n      </defs>\r\n      <g transform=\"translate(203.273474 249.794141)scale(0.165 -0.165)\">\r\n       <use xlink:href=\"#DejaVuSans-50\"/>\r\n      </g>\r\n     </g>\r\n    </g>\r\n    <g id=\"xtick_3\">\r\n     <g id=\"line2d_3\">\r\n      <g>\r\n       <use style=\"stroke:#000000;stroke-width:1.875;\" x=\"313.475515\" xlink:href=\"#mb002bd4bed\" y=\"224.756719\"/>\r\n      </g>\r\n     </g>\r\n     <g id=\"text_3\">\r\n      <!-- 4 -->\r\n      <defs>\r\n       <path d=\"M 37.796875 64.3125 \r\nL 12.890625 25.390625 \r\nL 37.796875 25.390625 \r\nz\r\nM 35.203125 72.90625 \r\nL 47.609375 72.90625 \r\nL 47.609375 25.390625 \r\nL 58.015625 25.390625 \r\nL 58.015625 17.1875 \r\nL 47.609375 17.1875 \r\nL 47.609375 0 \r\nL 37.796875 0 \r\nL 37.796875 17.1875 \r\nL 4.890625 17.1875 \r\nL 4.890625 26.703125 \r\nz\r\n\" id=\"DejaVuSans-52\"/>\r\n      </defs>\r\n      <g transform=\"translate(308.226452 249.794141)scale(0.165 -0.165)\">\r\n       <use xlink:href=\"#DejaVuSans-52\"/>\r\n      </g>\r\n     </g>\r\n    </g>\r\n    <g id=\"text_4\">\r\n     <!-- Number of major earthquakes in next 100 years -->\r\n     <defs>\r\n      <path d=\"M 9.8125 72.90625 \r\nL 23.09375 72.90625 \r\nL 55.421875 11.921875 \r\nL 55.421875 72.90625 \r\nL 64.984375 72.90625 \r\nL 64.984375 0 \r\nL 51.703125 0 \r\nL 19.390625 60.984375 \r\nL 19.390625 0 \r\nL 9.8125 0 \r\nz\r\n\" id=\"DejaVuSans-78\"/>\r\n      <path d=\"M 8.5 21.578125 \r\nL 8.5 54.6875 \r\nL 17.484375 54.6875 \r\nL 17.484375 21.921875 \r\nQ 17.484375 14.15625 20.5 10.265625 \r\nQ 23.53125 6.390625 29.59375 6.390625 \r\nQ 36.859375 6.390625 41.078125 11.03125 \r\nQ 45.3125 15.671875 45.3125 23.6875 \r\nL 45.3125 54.6875 \r\nL 54.296875 54.6875 \r\nL 54.296875 0 \r\nL 45.3125 0 \r\nL 45.3125 8.40625 \r\nQ 42.046875 3.421875 37.71875 1 \r\nQ 33.40625 -1.421875 27.6875 -1.421875 \r\nQ 18.265625 -1.421875 13.375 4.4375 \r\nQ 8.5 10.296875 8.5 21.578125 \r\nz\r\nM 31.109375 56 \r\nz\r\n\" id=\"DejaVuSans-117\"/>\r\n      <path d=\"M 52 44.1875 \r\nQ 55.375 50.25 60.0625 53.125 \r\nQ 64.75 56 71.09375 56 \r\nQ 79.640625 56 84.28125 50.015625 \r\nQ 88.921875 44.046875 88.921875 33.015625 \r\nL 88.921875 0 \r\nL 79.890625 0 \r\nL 79.890625 32.71875 \r\nQ 79.890625 40.578125 77.09375 44.375 \r\nQ 74.3125 48.1875 68.609375 48.1875 \r\nQ 61.625 48.1875 57.5625 43.546875 \r\nQ 53.515625 38.921875 53.515625 30.90625 \r\nL 53.515625 0 \r\nL 44.484375 0 \r\nL 44.484375 32.71875 \r\nQ 44.484375 40.625 41.703125 44.40625 \r\nQ 38.921875 48.1875 33.109375 48.1875 \r\nQ 26.21875 48.1875 22.15625 43.53125 \r\nQ 18.109375 38.875 18.109375 30.90625 \r\nL 18.109375 0 \r\nL 9.078125 0 \r\nL 9.078125 54.6875 \r\nL 18.109375 54.6875 \r\nL 18.109375 46.1875 \r\nQ 21.1875 51.21875 25.484375 53.609375 \r\nQ 29.78125 56 35.6875 56 \r\nQ 41.65625 56 45.828125 52.96875 \r\nQ 50 49.953125 52 44.1875 \r\nz\r\n\" id=\"DejaVuSans-109\"/>\r\n      <path d=\"M 48.6875 27.296875 \r\nQ 48.6875 37.203125 44.609375 42.84375 \r\nQ 40.53125 48.484375 33.40625 48.484375 \r\nQ 26.265625 48.484375 22.1875 42.84375 \r\nQ 18.109375 37.203125 18.109375 27.296875 \r\nQ 18.109375 17.390625 22.1875 11.75 \r\nQ 26.265625 6.109375 33.40625 6.109375 \r\nQ 40.53125 6.109375 44.609375 11.75 \r\nQ 48.6875 17.390625 48.6875 27.296875 \r\nz\r\nM 18.109375 46.390625 \r\nQ 20.953125 51.265625 25.265625 53.625 \r\nQ 29.59375 56 35.59375 56 \r\nQ 45.5625 56 51.78125 48.09375 \r\nQ 58.015625 40.1875 58.015625 27.296875 \r\nQ 58.015625 14.40625 51.78125 6.484375 \r\nQ 45.5625 -1.421875 35.59375 -1.421875 \r\nQ 29.59375 -1.421875 25.265625 0.953125 \r\nQ 20.953125 3.328125 18.109375 8.203125 \r\nL 18.109375 0 \r\nL 9.078125 0 \r\nL 9.078125 75.984375 \r\nL 18.109375 75.984375 \r\nz\r\n\" id=\"DejaVuSans-98\"/>\r\n      <path d=\"M 56.203125 29.59375 \r\nL 56.203125 25.203125 \r\nL 14.890625 25.203125 \r\nQ 15.484375 15.921875 20.484375 11.0625 \r\nQ 25.484375 6.203125 34.421875 6.203125 \r\nQ 39.59375 6.203125 44.453125 7.46875 \r\nQ 49.3125 8.734375 54.109375 11.28125 \r\nL 54.109375 2.78125 \r\nQ 49.265625 0.734375 44.1875 -0.34375 \r\nQ 39.109375 -1.421875 33.890625 -1.421875 \r\nQ 20.796875 -1.421875 13.15625 6.1875 \r\nQ 5.515625 13.8125 5.515625 26.8125 \r\nQ 5.515625 40.234375 12.765625 48.109375 \r\nQ 20.015625 56 32.328125 56 \r\nQ 43.359375 56 49.78125 48.890625 \r\nQ 56.203125 41.796875 56.203125 29.59375 \r\nz\r\nM 47.21875 32.234375 \r\nQ 47.125 39.59375 43.09375 43.984375 \r\nQ 39.0625 48.390625 32.421875 48.390625 \r\nQ 24.90625 48.390625 20.390625 44.140625 \r\nQ 15.875 39.890625 15.1875 32.171875 \r\nz\r\n\" id=\"DejaVuSans-101\"/>\r\n      <path d=\"M 41.109375 46.296875 \r\nQ 39.59375 47.171875 37.8125 47.578125 \r\nQ 36.03125 48 33.890625 48 \r\nQ 26.265625 48 22.1875 43.046875 \r\nQ 18.109375 38.09375 18.109375 28.8125 \r\nL 18.109375 0 \r\nL 9.078125 0 \r\nL 9.078125 54.6875 \r\nL 18.109375 54.6875 \r\nL 18.109375 46.1875 \r\nQ 20.953125 51.171875 25.484375 53.578125 \r\nQ 30.03125 56 36.53125 56 \r\nQ 37.453125 56 38.578125 55.875 \r\nQ 39.703125 55.765625 41.0625 55.515625 \r\nz\r\n\" id=\"DejaVuSans-114\"/>\r\n      <path id=\"DejaVuSans-32\"/>\r\n      <path d=\"M 30.609375 48.390625 \r\nQ 23.390625 48.390625 19.1875 42.75 \r\nQ 14.984375 37.109375 14.984375 27.296875 \r\nQ 14.984375 17.484375 19.15625 11.84375 \r\nQ 23.34375 6.203125 30.609375 6.203125 \r\nQ 37.796875 6.203125 41.984375 11.859375 \r\nQ 46.1875 17.53125 46.1875 27.296875 \r\nQ 46.1875 37.015625 41.984375 42.703125 \r\nQ 37.796875 48.390625 30.609375 48.390625 \r\nz\r\nM 30.609375 56 \r\nQ 42.328125 56 49.015625 48.375 \r\nQ 55.71875 40.765625 55.71875 27.296875 \r\nQ 55.71875 13.875 49.015625 6.21875 \r\nQ 42.328125 -1.421875 30.609375 -1.421875 \r\nQ 18.84375 -1.421875 12.171875 6.21875 \r\nQ 5.515625 13.875 5.515625 27.296875 \r\nQ 5.515625 40.765625 12.171875 48.375 \r\nQ 18.84375 56 30.609375 56 \r\nz\r\n\" id=\"DejaVuSans-111\"/>\r\n      <path d=\"M 37.109375 75.984375 \r\nL 37.109375 68.5 \r\nL 28.515625 68.5 \r\nQ 23.6875 68.5 21.796875 66.546875 \r\nQ 19.921875 64.59375 19.921875 59.515625 \r\nL 19.921875 54.6875 \r\nL 34.71875 54.6875 \r\nL 34.71875 47.703125 \r\nL 19.921875 47.703125 \r\nL 19.921875 0 \r\nL 10.890625 0 \r\nL 10.890625 47.703125 \r\nL 2.296875 47.703125 \r\nL 2.296875 54.6875 \r\nL 10.890625 54.6875 \r\nL 10.890625 58.5 \r\nQ 10.890625 67.625 15.140625 71.796875 \r\nQ 19.390625 75.984375 28.609375 75.984375 \r\nz\r\n\" id=\"DejaVuSans-102\"/>\r\n      <path d=\"M 34.28125 27.484375 \r\nQ 23.390625 27.484375 19.1875 25 \r\nQ 14.984375 22.515625 14.984375 16.5 \r\nQ 14.984375 11.71875 18.140625 8.90625 \r\nQ 21.296875 6.109375 26.703125 6.109375 \r\nQ 34.1875 6.109375 38.703125 11.40625 \r\nQ 43.21875 16.703125 43.21875 25.484375 \r\nL 43.21875 27.484375 \r\nz\r\nM 52.203125 31.203125 \r\nL 52.203125 0 \r\nL 43.21875 0 \r\nL 43.21875 8.296875 \r\nQ 40.140625 3.328125 35.546875 0.953125 \r\nQ 30.953125 -1.421875 24.3125 -1.421875 \r\nQ 15.921875 -1.421875 10.953125 3.296875 \r\nQ 6 8.015625 6 15.921875 \r\nQ 6 25.140625 12.171875 29.828125 \r\nQ 18.359375 34.515625 30.609375 34.515625 \r\nL 43.21875 34.515625 \r\nL 43.21875 35.40625 \r\nQ 43.21875 41.609375 39.140625 45 \r\nQ 35.0625 48.390625 27.6875 48.390625 \r\nQ 23 48.390625 18.546875 47.265625 \r\nQ 14.109375 46.140625 10.015625 43.890625 \r\nL 10.015625 52.203125 \r\nQ 14.9375 54.109375 19.578125 55.046875 \r\nQ 24.21875 56 28.609375 56 \r\nQ 40.484375 56 46.34375 49.84375 \r\nQ 52.203125 43.703125 52.203125 31.203125 \r\nz\r\n\" id=\"DejaVuSans-97\"/>\r\n      <path d=\"M 9.421875 54.6875 \r\nL 18.40625 54.6875 \r\nL 18.40625 -0.984375 \r\nQ 18.40625 -11.421875 14.421875 -16.109375 \r\nQ 10.453125 -20.796875 1.609375 -20.796875 \r\nL -1.8125 -20.796875 \r\nL -1.8125 -13.1875 \r\nL 0.59375 -13.1875 \r\nQ 5.71875 -13.1875 7.5625 -10.8125 \r\nQ 9.421875 -8.453125 9.421875 -0.984375 \r\nz\r\nM 9.421875 75.984375 \r\nL 18.40625 75.984375 \r\nL 18.40625 64.59375 \r\nL 9.421875 64.59375 \r\nz\r\n\" id=\"DejaVuSans-106\"/>\r\n      <path d=\"M 18.3125 70.21875 \r\nL 18.3125 54.6875 \r\nL 36.8125 54.6875 \r\nL 36.8125 47.703125 \r\nL 18.3125 47.703125 \r\nL 18.3125 18.015625 \r\nQ 18.3125 11.328125 20.140625 9.421875 \r\nQ 21.96875 7.515625 27.59375 7.515625 \r\nL 36.8125 7.515625 \r\nL 36.8125 0 \r\nL 27.59375 0 \r\nQ 17.1875 0 13.234375 3.875 \r\nQ 9.28125 7.765625 9.28125 18.015625 \r\nL 9.28125 47.703125 \r\nL 2.6875 47.703125 \r\nL 2.6875 54.6875 \r\nL 9.28125 54.6875 \r\nL 9.28125 70.21875 \r\nz\r\n\" id=\"DejaVuSans-116\"/>\r\n      <path d=\"M 54.890625 33.015625 \r\nL 54.890625 0 \r\nL 45.90625 0 \r\nL 45.90625 32.71875 \r\nQ 45.90625 40.484375 42.875 44.328125 \r\nQ 39.84375 48.1875 33.796875 48.1875 \r\nQ 26.515625 48.1875 22.3125 43.546875 \r\nQ 18.109375 38.921875 18.109375 30.90625 \r\nL 18.109375 0 \r\nL 9.078125 0 \r\nL 9.078125 75.984375 \r\nL 18.109375 75.984375 \r\nL 18.109375 46.1875 \r\nQ 21.34375 51.125 25.703125 53.5625 \r\nQ 30.078125 56 35.796875 56 \r\nQ 45.21875 56 50.046875 50.171875 \r\nQ 54.890625 44.34375 54.890625 33.015625 \r\nz\r\n\" id=\"DejaVuSans-104\"/>\r\n      <path d=\"M 14.796875 27.296875 \r\nQ 14.796875 17.390625 18.875 11.75 \r\nQ 22.953125 6.109375 30.078125 6.109375 \r\nQ 37.203125 6.109375 41.296875 11.75 \r\nQ 45.40625 17.390625 45.40625 27.296875 \r\nQ 45.40625 37.203125 41.296875 42.84375 \r\nQ 37.203125 48.484375 30.078125 48.484375 \r\nQ 22.953125 48.484375 18.875 42.84375 \r\nQ 14.796875 37.203125 14.796875 27.296875 \r\nz\r\nM 45.40625 8.203125 \r\nQ 42.578125 3.328125 38.25 0.953125 \r\nQ 33.9375 -1.421875 27.875 -1.421875 \r\nQ 17.96875 -1.421875 11.734375 6.484375 \r\nQ 5.515625 14.40625 5.515625 27.296875 \r\nQ 5.515625 40.1875 11.734375 48.09375 \r\nQ 17.96875 56 27.875 56 \r\nQ 33.9375 56 38.25 53.625 \r\nQ 42.578125 51.265625 45.40625 46.390625 \r\nL 45.40625 54.6875 \r\nL 54.390625 54.6875 \r\nL 54.390625 -20.796875 \r\nL 45.40625 -20.796875 \r\nz\r\n\" id=\"DejaVuSans-113\"/>\r\n      <path d=\"M 9.078125 75.984375 \r\nL 18.109375 75.984375 \r\nL 18.109375 31.109375 \r\nL 44.921875 54.6875 \r\nL 56.390625 54.6875 \r\nL 27.390625 29.109375 \r\nL 57.625 0 \r\nL 45.90625 0 \r\nL 18.109375 26.703125 \r\nL 18.109375 0 \r\nL 9.078125 0 \r\nz\r\n\" id=\"DejaVuSans-107\"/>\r\n      <path d=\"M 44.28125 53.078125 \r\nL 44.28125 44.578125 \r\nQ 40.484375 46.53125 36.375 47.5 \r\nQ 32.28125 48.484375 27.875 48.484375 \r\nQ 21.1875 48.484375 17.84375 46.4375 \r\nQ 14.5 44.390625 14.5 40.28125 \r\nQ 14.5 37.15625 16.890625 35.375 \r\nQ 19.28125 33.59375 26.515625 31.984375 \r\nL 29.59375 31.296875 \r\nQ 39.15625 29.25 43.1875 25.515625 \r\nQ 47.21875 21.78125 47.21875 15.09375 \r\nQ 47.21875 7.46875 41.1875 3.015625 \r\nQ 35.15625 -1.421875 24.609375 -1.421875 \r\nQ 20.21875 -1.421875 15.453125 -0.5625 \r\nQ 10.6875 0.296875 5.421875 2 \r\nL 5.421875 11.28125 \r\nQ 10.40625 8.6875 15.234375 7.390625 \r\nQ 20.0625 6.109375 24.8125 6.109375 \r\nQ 31.15625 6.109375 34.5625 8.28125 \r\nQ 37.984375 10.453125 37.984375 14.40625 \r\nQ 37.984375 18.0625 35.515625 20.015625 \r\nQ 33.0625 21.96875 24.703125 23.78125 \r\nL 21.578125 24.515625 \r\nQ 13.234375 26.265625 9.515625 29.90625 \r\nQ 5.8125 33.546875 5.8125 39.890625 \r\nQ 5.8125 47.609375 11.28125 51.796875 \r\nQ 16.75 56 26.8125 56 \r\nQ 31.78125 56 36.171875 55.265625 \r\nQ 40.578125 54.546875 44.28125 53.078125 \r\nz\r\n\" id=\"DejaVuSans-115\"/>\r\n      <path d=\"M 9.421875 54.6875 \r\nL 18.40625 54.6875 \r\nL 18.40625 0 \r\nL 9.421875 0 \r\nz\r\nM 9.421875 75.984375 \r\nL 18.40625 75.984375 \r\nL 18.40625 64.59375 \r\nL 9.421875 64.59375 \r\nz\r\n\" id=\"DejaVuSans-105\"/>\r\n      <path d=\"M 54.890625 33.015625 \r\nL 54.890625 0 \r\nL 45.90625 0 \r\nL 45.90625 32.71875 \r\nQ 45.90625 40.484375 42.875 44.328125 \r\nQ 39.84375 48.1875 33.796875 48.1875 \r\nQ 26.515625 48.1875 22.3125 43.546875 \r\nQ 18.109375 38.921875 18.109375 30.90625 \r\nL 18.109375 0 \r\nL 9.078125 0 \r\nL 9.078125 54.6875 \r\nL 18.109375 54.6875 \r\nL 18.109375 46.1875 \r\nQ 21.34375 51.125 25.703125 53.5625 \r\nQ 30.078125 56 35.796875 56 \r\nQ 45.21875 56 50.046875 50.171875 \r\nQ 54.890625 44.34375 54.890625 33.015625 \r\nz\r\n\" id=\"DejaVuSans-110\"/>\r\n      <path d=\"M 54.890625 54.6875 \r\nL 35.109375 28.078125 \r\nL 55.90625 0 \r\nL 45.3125 0 \r\nL 29.390625 21.484375 \r\nL 13.484375 0 \r\nL 2.875 0 \r\nL 24.125 28.609375 \r\nL 4.6875 54.6875 \r\nL 15.28125 54.6875 \r\nL 29.78125 35.203125 \r\nL 44.28125 54.6875 \r\nz\r\n\" id=\"DejaVuSans-120\"/>\r\n      <path d=\"M 12.40625 8.296875 \r\nL 28.515625 8.296875 \r\nL 28.515625 63.921875 \r\nL 10.984375 60.40625 \r\nL 10.984375 69.390625 \r\nL 28.421875 72.90625 \r\nL 38.28125 72.90625 \r\nL 38.28125 8.296875 \r\nL 54.390625 8.296875 \r\nL 54.390625 0 \r\nL 12.40625 0 \r\nz\r\n\" id=\"DejaVuSans-49\"/>\r\n      <path d=\"M 32.171875 -5.078125 \r\nQ 28.375 -14.84375 24.75 -17.8125 \r\nQ 21.140625 -20.796875 15.09375 -20.796875 \r\nL 7.90625 -20.796875 \r\nL 7.90625 -13.28125 \r\nL 13.1875 -13.28125 \r\nQ 16.890625 -13.28125 18.9375 -11.515625 \r\nQ 21 -9.765625 23.484375 -3.21875 \r\nL 25.09375 0.875 \r\nL 2.984375 54.6875 \r\nL 12.5 54.6875 \r\nL 29.59375 11.921875 \r\nL 46.6875 54.6875 \r\nL 56.203125 54.6875 \r\nz\r\n\" id=\"DejaVuSans-121\"/>\r\n     </defs>\r\n     <g transform=\"translate(17.322188 270.902812)scale(0.18 -0.18)\">\r\n      <use xlink:href=\"#DejaVuSans-78\"/>\r\n      <use x=\"74.804688\" xlink:href=\"#DejaVuSans-117\"/>\r\n      <use x=\"138.183594\" xlink:href=\"#DejaVuSans-109\"/>\r\n      <use x=\"235.595703\" xlink:href=\"#DejaVuSans-98\"/>\r\n      <use x=\"299.072266\" xlink:href=\"#DejaVuSans-101\"/>\r\n      <use x=\"360.595703\" xlink:href=\"#DejaVuSans-114\"/>\r\n      <use x=\"401.708984\" xlink:href=\"#DejaVuSans-32\"/>\r\n      <use x=\"433.496094\" xlink:href=\"#DejaVuSans-111\"/>\r\n      <use x=\"494.677734\" xlink:href=\"#DejaVuSans-102\"/>\r\n      <use x=\"529.882812\" xlink:href=\"#DejaVuSans-32\"/>\r\n      <use x=\"561.669922\" xlink:href=\"#DejaVuSans-109\"/>\r\n      <use x=\"659.082031\" xlink:href=\"#DejaVuSans-97\"/>\r\n      <use x=\"720.361328\" xlink:href=\"#DejaVuSans-106\"/>\r\n      <use x=\"748.144531\" xlink:href=\"#DejaVuSans-111\"/>\r\n      <use x=\"809.326172\" xlink:href=\"#DejaVuSans-114\"/>\r\n      <use x=\"850.439453\" xlink:href=\"#DejaVuSans-32\"/>\r\n      <use x=\"882.226562\" xlink:href=\"#DejaVuSans-101\"/>\r\n      <use x=\"943.75\" xlink:href=\"#DejaVuSans-97\"/>\r\n      <use x=\"1005.029297\" xlink:href=\"#DejaVuSans-114\"/>\r\n      <use x=\"1046.142578\" xlink:href=\"#DejaVuSans-116\"/>\r\n      <use x=\"1085.351562\" xlink:href=\"#DejaVuSans-104\"/>\r\n      <use x=\"1148.730469\" xlink:href=\"#DejaVuSans-113\"/>\r\n      <use x=\"1212.207031\" xlink:href=\"#DejaVuSans-117\"/>\r\n      <use x=\"1275.585938\" xlink:href=\"#DejaVuSans-97\"/>\r\n      <use x=\"1336.865234\" xlink:href=\"#DejaVuSans-107\"/>\r\n      <use x=\"1394.728516\" xlink:href=\"#DejaVuSans-101\"/>\r\n      <use x=\"1456.251953\" xlink:href=\"#DejaVuSans-115\"/>\r\n      <use x=\"1508.351562\" xlink:href=\"#DejaVuSans-32\"/>\r\n      <use x=\"1540.138672\" xlink:href=\"#DejaVuSans-105\"/>\r\n      <use x=\"1567.921875\" xlink:href=\"#DejaVuSans-110\"/>\r\n      <use x=\"1631.300781\" xlink:href=\"#DejaVuSans-32\"/>\r\n      <use x=\"1663.087891\" xlink:href=\"#DejaVuSans-110\"/>\r\n      <use x=\"1726.466797\" xlink:href=\"#DejaVuSans-101\"/>\r\n      <use x=\"1787.974609\" xlink:href=\"#DejaVuSans-120\"/>\r\n      <use x=\"1847.154297\" xlink:href=\"#DejaVuSans-116\"/>\r\n      <use x=\"1886.363281\" xlink:href=\"#DejaVuSans-32\"/>\r\n      <use x=\"1918.150391\" xlink:href=\"#DejaVuSans-49\"/>\r\n      <use x=\"1981.773438\" xlink:href=\"#DejaVuSans-48\"/>\r\n      <use x=\"2045.396484\" xlink:href=\"#DejaVuSans-48\"/>\r\n      <use x=\"2109.019531\" xlink:href=\"#DejaVuSans-32\"/>\r\n      <use x=\"2140.806641\" xlink:href=\"#DejaVuSans-121\"/>\r\n      <use x=\"2199.986328\" xlink:href=\"#DejaVuSans-101\"/>\r\n      <use x=\"2261.509766\" xlink:href=\"#DejaVuSans-97\"/>\r\n      <use x=\"2322.789062\" xlink:href=\"#DejaVuSans-114\"/>\r\n      <use x=\"2363.902344\" xlink:href=\"#DejaVuSans-115\"/>\r\n     </g>\r\n    </g>\r\n   </g>\r\n   <g id=\"matplotlib.axis_2\">\r\n    <g id=\"ytick_1\">\r\n     <g id=\"line2d_4\">\r\n      <defs>\r\n       <path d=\"M 0 0 \r\nL -9 0 \r\n\" id=\"me3d6c19e3b\" style=\"stroke:#000000;stroke-width:1.875;\"/>\r\n      </defs>\r\n      <g>\r\n       <use style=\"stroke:#000000;stroke-width:1.875;\" x=\"67.360781\" xlink:href=\"#me3d6c19e3b\" y=\"224.756719\"/>\r\n      </g>\r\n     </g>\r\n     <g id=\"text_5\">\r\n      <!-- 0.0 -->\r\n      <defs>\r\n       <path d=\"M 10.6875 12.40625 \r\nL 21 12.40625 \r\nL 21 0 \r\nL 10.6875 0 \r\nz\r\n\" id=\"DejaVuSans-46\"/>\r\n      </defs>\r\n      <g transform=\"translate(28.620625 231.02543)scale(0.165 -0.165)\">\r\n       <use xlink:href=\"#DejaVuSans-48\"/>\r\n       <use x=\"63.623047\" xlink:href=\"#DejaVuSans-46\"/>\r\n       <use x=\"95.410156\" xlink:href=\"#DejaVuSans-48\"/>\r\n      </g>\r\n     </g>\r\n    </g>\r\n    <g id=\"ytick_2\">\r\n     <g id=\"line2d_5\">\r\n      <g>\r\n       <use style=\"stroke:#000000;stroke-width:1.875;\" x=\"67.360781\" xlink:href=\"#me3d6c19e3b\" y=\"168.464985\"/>\r\n      </g>\r\n     </g>\r\n     <g id=\"text_6\">\r\n      <!-- 0.1 -->\r\n      <g transform=\"translate(28.620625 174.733696)scale(0.165 -0.165)\">\r\n       <use xlink:href=\"#DejaVuSans-48\"/>\r\n       <use x=\"63.623047\" xlink:href=\"#DejaVuSans-46\"/>\r\n       <use x=\"95.410156\" xlink:href=\"#DejaVuSans-49\"/>\r\n      </g>\r\n     </g>\r\n    </g>\r\n    <g id=\"ytick_3\">\r\n     <g id=\"line2d_6\">\r\n      <g>\r\n       <use style=\"stroke:#000000;stroke-width:1.875;\" x=\"67.360781\" xlink:href=\"#me3d6c19e3b\" y=\"112.173252\"/>\r\n      </g>\r\n     </g>\r\n     <g id=\"text_7\">\r\n      <!-- 0.2 -->\r\n      <g transform=\"translate(28.620625 118.441963)scale(0.165 -0.165)\">\r\n       <use xlink:href=\"#DejaVuSans-48\"/>\r\n       <use x=\"63.623047\" xlink:href=\"#DejaVuSans-46\"/>\r\n       <use x=\"95.410156\" xlink:href=\"#DejaVuSans-50\"/>\r\n      </g>\r\n     </g>\r\n    </g>\r\n    <g id=\"ytick_4\">\r\n     <g id=\"line2d_7\">\r\n      <g>\r\n       <use style=\"stroke:#000000;stroke-width:1.875;\" x=\"67.360781\" xlink:href=\"#me3d6c19e3b\" y=\"55.881519\"/>\r\n      </g>\r\n     </g>\r\n     <g id=\"text_8\">\r\n      <!-- 0.3 -->\r\n      <defs>\r\n       <path d=\"M 40.578125 39.3125 \r\nQ 47.65625 37.796875 51.625 33 \r\nQ 55.609375 28.21875 55.609375 21.1875 \r\nQ 55.609375 10.40625 48.1875 4.484375 \r\nQ 40.765625 -1.421875 27.09375 -1.421875 \r\nQ 22.515625 -1.421875 17.65625 -0.515625 \r\nQ 12.796875 0.390625 7.625 2.203125 \r\nL 7.625 11.71875 \r\nQ 11.71875 9.328125 16.59375 8.109375 \r\nQ 21.484375 6.890625 26.8125 6.890625 \r\nQ 36.078125 6.890625 40.9375 10.546875 \r\nQ 45.796875 14.203125 45.796875 21.1875 \r\nQ 45.796875 27.640625 41.28125 31.265625 \r\nQ 36.765625 34.90625 28.71875 34.90625 \r\nL 20.21875 34.90625 \r\nL 20.21875 43.015625 \r\nL 29.109375 43.015625 \r\nQ 36.375 43.015625 40.234375 45.921875 \r\nQ 44.09375 48.828125 44.09375 54.296875 \r\nQ 44.09375 59.90625 40.109375 62.90625 \r\nQ 36.140625 65.921875 28.71875 65.921875 \r\nQ 24.65625 65.921875 20.015625 65.03125 \r\nQ 15.375 64.15625 9.8125 62.3125 \r\nL 9.8125 71.09375 \r\nQ 15.4375 72.65625 20.34375 73.4375 \r\nQ 25.25 74.21875 29.59375 74.21875 \r\nQ 40.828125 74.21875 47.359375 69.109375 \r\nQ 53.90625 64.015625 53.90625 55.328125 \r\nQ 53.90625 49.265625 50.4375 45.09375 \r\nQ 46.96875 40.921875 40.578125 39.3125 \r\nz\r\n\" id=\"DejaVuSans-51\"/>\r\n      </defs>\r\n      <g transform=\"translate(28.620625 62.150229)scale(0.165 -0.165)\">\r\n       <use xlink:href=\"#DejaVuSans-48\"/>\r\n       <use x=\"63.623047\" xlink:href=\"#DejaVuSans-46\"/>\r\n       <use x=\"95.410156\" xlink:href=\"#DejaVuSans-51\"/>\r\n      </g>\r\n     </g>\r\n    </g>\r\n    <g id=\"text_9\">\r\n     <!-- Probability of occurance -->\r\n     <defs>\r\n      <path d=\"M 19.671875 64.796875 \r\nL 19.671875 37.40625 \r\nL 32.078125 37.40625 \r\nQ 38.96875 37.40625 42.71875 40.96875 \r\nQ 46.484375 44.53125 46.484375 51.125 \r\nQ 46.484375 57.671875 42.71875 61.234375 \r\nQ 38.96875 64.796875 32.078125 64.796875 \r\nz\r\nM 9.8125 72.90625 \r\nL 32.078125 72.90625 \r\nQ 44.34375 72.90625 50.609375 67.359375 \r\nQ 56.890625 61.8125 56.890625 51.125 \r\nQ 56.890625 40.328125 50.609375 34.8125 \r\nQ 44.34375 29.296875 32.078125 29.296875 \r\nL 19.671875 29.296875 \r\nL 19.671875 0 \r\nL 9.8125 0 \r\nz\r\n\" id=\"DejaVuSans-80\"/>\r\n      <path d=\"M 9.421875 75.984375 \r\nL 18.40625 75.984375 \r\nL 18.40625 0 \r\nL 9.421875 0 \r\nz\r\n\" id=\"DejaVuSans-108\"/>\r\n      <path d=\"M 48.78125 52.59375 \r\nL 48.78125 44.1875 \r\nQ 44.96875 46.296875 41.140625 47.34375 \r\nQ 37.3125 48.390625 33.40625 48.390625 \r\nQ 24.65625 48.390625 19.8125 42.84375 \r\nQ 14.984375 37.3125 14.984375 27.296875 \r\nQ 14.984375 17.28125 19.8125 11.734375 \r\nQ 24.65625 6.203125 33.40625 6.203125 \r\nQ 37.3125 6.203125 41.140625 7.25 \r\nQ 44.96875 8.296875 48.78125 10.40625 \r\nL 48.78125 2.09375 \r\nQ 45.015625 0.34375 40.984375 -0.53125 \r\nQ 36.96875 -1.421875 32.421875 -1.421875 \r\nQ 20.0625 -1.421875 12.78125 6.34375 \r\nQ 5.515625 14.109375 5.515625 27.296875 \r\nQ 5.515625 40.671875 12.859375 48.328125 \r\nQ 20.21875 56 33.015625 56 \r\nQ 37.15625 56 41.109375 55.140625 \r\nQ 45.0625 54.296875 48.78125 52.59375 \r\nz\r\n\" id=\"DejaVuSans-99\"/>\r\n     </defs>\r\n     <g transform=\"translate(20.877187 224.873438)rotate(-90)scale(0.18 -0.18)\">\r\n      <use xlink:href=\"#DejaVuSans-80\"/>\r\n      <use x=\"60.287109\" xlink:href=\"#DejaVuSans-114\"/>\r\n      <use x=\"101.369141\" xlink:href=\"#DejaVuSans-111\"/>\r\n      <use x=\"162.550781\" xlink:href=\"#DejaVuSans-98\"/>\r\n      <use x=\"226.027344\" xlink:href=\"#DejaVuSans-97\"/>\r\n      <use x=\"287.306641\" xlink:href=\"#DejaVuSans-98\"/>\r\n      <use x=\"350.783203\" xlink:href=\"#DejaVuSans-105\"/>\r\n      <use x=\"378.566406\" xlink:href=\"#DejaVuSans-108\"/>\r\n      <use x=\"406.349609\" xlink:href=\"#DejaVuSans-105\"/>\r\n      <use x=\"434.132812\" xlink:href=\"#DejaVuSans-116\"/>\r\n      <use x=\"473.341797\" xlink:href=\"#DejaVuSans-121\"/>\r\n      <use x=\"532.521484\" xlink:href=\"#DejaVuSans-32\"/>\r\n      <use x=\"564.308594\" xlink:href=\"#DejaVuSans-111\"/>\r\n      <use x=\"625.490234\" xlink:href=\"#DejaVuSans-102\"/>\r\n      <use x=\"660.695312\" xlink:href=\"#DejaVuSans-32\"/>\r\n      <use x=\"692.482422\" xlink:href=\"#DejaVuSans-111\"/>\r\n      <use x=\"753.664062\" xlink:href=\"#DejaVuSans-99\"/>\r\n      <use x=\"808.644531\" xlink:href=\"#DejaVuSans-99\"/>\r\n      <use x=\"863.625\" xlink:href=\"#DejaVuSans-117\"/>\r\n      <use x=\"927.003906\" xlink:href=\"#DejaVuSans-114\"/>\r\n      <use x=\"968.117188\" xlink:href=\"#DejaVuSans-97\"/>\r\n      <use x=\"1029.396484\" xlink:href=\"#DejaVuSans-110\"/>\r\n      <use x=\"1092.775391\" xlink:href=\"#DejaVuSans-99\"/>\r\n      <use x=\"1147.755859\" xlink:href=\"#DejaVuSans-101\"/>\r\n     </g>\r\n    </g>\r\n   </g>\r\n   <g id=\"patch_9\">\r\n    <path d=\"M 67.360781 224.756719 \r\nL 67.360781 7.316719 \r\n\" style=\"fill:none;stroke:#000000;stroke-linecap:square;stroke-linejoin:miter;stroke-width:1.875;\"/>\r\n   </g>\r\n   <g id=\"patch_10\">\r\n    <path d=\"M 402.160781 224.756719 \r\nL 402.160781 7.316719 \r\n\" style=\"fill:none;stroke:#000000;stroke-linecap:square;stroke-linejoin:miter;stroke-width:1.875;\"/>\r\n   </g>\r\n   <g id=\"patch_11\">\r\n    <path d=\"M 67.360781 224.756719 \r\nL 402.160781 224.756719 \r\n\" style=\"fill:none;stroke:#000000;stroke-linecap:square;stroke-linejoin:miter;stroke-width:1.875;\"/>\r\n   </g>\r\n   <g id=\"patch_12\">\r\n    <path d=\"M 67.360781 7.316719 \r\nL 402.160781 7.316719 \r\n\" style=\"fill:none;stroke:#000000;stroke-linecap:square;stroke-linejoin:miter;stroke-width:1.875;\"/>\r\n   </g>\r\n  </g>\r\n </g>\r\n <defs>\r\n  <clipPath id=\"pbdc8d10db0\">\r\n   <rect height=\"217.44\" width=\"334.8\" x=\"67.360781\" y=\"7.316719\"/>\r\n  </clipPath>\r\n </defs>\r\n</svg>\r\n",
      "text/plain": "<Figure size 432x288 with 1 Axes>"
     },
     "metadata": {
      "needs_background": "light"
     },
     "output_type": "display_data"
    }
   ],
   "source": [
    "X = st.poisson(1)\n",
    "ks = range(6)\n",
    "fig, ax = plt.subplots()\n",
    "ax.bar(ks, X.pmf(ks))\n",
    "ax.set_xlabel('Number of major earthquakes in next 100 years')\n",
    "ax.set_ylabel('Probability of occurance')"
   ]
  },
  {
   "cell_type": "markdown",
   "metadata": {
    "colab_type": "text",
    "id": "JLB1_h_RTVg3"
   },
   "source": [
    "### Questions\n",
    "\n",
    "+ How would the rate parameter $\\lambda$ change if the rate with each major earthquakes occured in the past was 2 every 100 years?\n",
    "> Change $\\lambda\\ = 2$?"
   ]
  },
  {
   "cell_type": "code",
   "execution_count": null,
   "metadata": {},
   "outputs": [],
   "source": []
  }
 ],
 "metadata": {
  "anaconda-cloud": {},
  "colab": {
   "name": "lecture_04.ipynb",
   "provenance": []
  },
  "kernelspec": {
   "display_name": "Python 3",
   "language": "python",
   "name": "python3"
  },
  "language_info": {
   "codemirror_mode": {
    "name": "ipython",
    "version": 3
   },
   "file_extension": ".py",
   "mimetype": "text/x-python",
   "name": "python",
   "nbconvert_exporter": "python",
   "pygments_lexer": "ipython3",
   "version": "3.7.1-final"
  },
  "latex_envs": {
   "bibliofile": "biblio.bib",
   "cite_by": "apalike",
   "current_citInitial": 1,
   "eqLabelWithNumbers": true,
   "eqNumInitial": 0
  }
 },
 "nbformat": 4,
 "nbformat_minor": 1
}